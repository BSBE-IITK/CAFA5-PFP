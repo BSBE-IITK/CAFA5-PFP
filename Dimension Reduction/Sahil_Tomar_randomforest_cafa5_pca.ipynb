{
 "metadata": {
  "kernelspec": {
   "language": "python",
   "display_name": "Python 3",
   "name": "python3"
  },
  "language_info": {
   "name": "python",
   "version": "3.10.10",
   "mimetype": "text/x-python",
   "codemirror_mode": {
    "name": "ipython",
    "version": 3
   },
   "pygments_lexer": "ipython3",
   "nbconvert_exporter": "python",
   "file_extension": ".py"
  }
 },
 "nbformat_minor": 4,
 "nbformat": 4,
 "cells": [
  {
   "cell_type": "markdown",
   "source": [
    "# Using PCA to reduce the dimensions of the protein training data in CAFA 5 PFP"
   ],
   "metadata": {}
  },
  {
   "cell_type": "code",
   "source": [
    "import cudf\n",
    "from tqdm import tqdm\n",
    "\n",
    "from sklearn.model_selection import train_test_split\n",
    "# from sklearn.ensemble import RandomForestClassifier\n",
    "\n",
    "from cuml.ensemble import RandomForestClassifier as CuMLRFClassifier\n",
    "\n",
    "from sklearn.decomposition import PCA\n",
    "\n",
    "from sklearn.metrics import hamming_loss\n",
    "\n",
    "import numpy as np\n",
    "import pandas as pd\n",
    "\n",
    "\n",
    "import os\n",
    "for dirname, _, filenames in os.walk('/kaggle/input'):\n",
    "    for filename in filenames:\n",
    "        print(os.path.join(dirname, filename))"
   ],
   "metadata": {
    "_uuid": "8f2839f25d086af736a60e9eeb907d3b93b6e0e5",
    "_cell_guid": "b1076dfc-b9ad-4769-8c92-a6c4dae69d19",
    "execution": {
     "iopub.status.busy": "2023-06-15T04:38:09.402790Z",
     "iopub.execute_input": "2023-06-15T04:38:09.405101Z",
     "iopub.status.idle": "2023-06-15T04:38:17.471042Z",
     "shell.execute_reply.started": "2023-06-15T04:38:09.405065Z",
     "shell.execute_reply": "2023-06-15T04:38:17.470038Z"
    },
    "trusted": true
   },
   "execution_count": 1,
   "outputs": [
    {
     "name": "stdout",
     "text": "/kaggle/input/t5embeds/train_ids.npy\n/kaggle/input/t5embeds/test_embeds.npy\n/kaggle/input/t5embeds/train_embeds.npy\n/kaggle/input/t5embeds/test_ids.npy\n/kaggle/input/train-labels-cafa5/random_forest_pickle_thousand\n/kaggle/input/train-labels-cafa5/random_forest_pickle\n/kaggle/input/train-labels-cafa5/train_labels.csv\n",
     "output_type": "stream"
    }
   ]
  },
  {
   "cell_type": "code",
   "source": [
    "prot_embeds = np.load(\"/kaggle/input/t5embeds/train_embeds.npy\").astype('float32')\n",
    "prot_ids = np.load(\"/kaggle/input/t5embeds/train_ids.npy\")"
   ],
   "metadata": {
    "execution": {
     "iopub.status.busy": "2023-06-15T04:39:12.296117Z",
     "iopub.execute_input": "2023-06-15T04:39:12.296759Z",
     "iopub.status.idle": "2023-06-15T04:39:12.970461Z",
     "shell.execute_reply.started": "2023-06-15T04:39:12.296725Z",
     "shell.execute_reply": "2023-06-15T04:39:12.969514Z"
    },
    "trusted": true
   },
   "execution_count": 3,
   "outputs": []
  },
  {
   "cell_type": "code",
   "source": [
    "prot_labels = pd.read_csv(\"/kaggle/input/train-labels-cafa5/train_labels.csv\", dtype=np.float32)\n",
    "# For only top 1500 GO terms\n",
    "prot_labels.drop(\"Unnamed: 0\",axis=1,inplace=True)\n",
    "prot_labels.set_index(prot_ids,inplace=True)\n",
    "prot_labels.head()"
   ],
   "metadata": {
    "execution": {
     "iopub.status.busy": "2023-06-15T04:40:01.976240Z",
     "iopub.execute_input": "2023-06-15T04:40:01.976596Z",
     "iopub.status.idle": "2023-06-15T04:40:36.288067Z",
     "shell.execute_reply.started": "2023-06-15T04:40:01.976568Z",
     "shell.execute_reply": "2023-06-15T04:40:36.287099Z"
    },
    "trusted": true
   },
   "execution_count": 5,
   "outputs": [
    {
     "execution_count": 5,
     "output_type": "execute_result",
     "data": {
      "text/plain": "            GO:0005575  GO:0008150  GO:0110165  GO:0003674  GO:0005622  \\\nP20536             0.0         1.0         0.0         1.0         0.0   \nO73864             1.0         1.0         1.0         1.0         0.0   \nO95231             1.0         1.0         1.0         1.0         1.0   \nA0A0B4J1F4         1.0         1.0         1.0         1.0         0.0   \nP54366             1.0         0.0         1.0         1.0         1.0   \n\n            GO:0009987  GO:0043226  GO:0043229  GO:0005488  GO:0043227  ...  \\\nP20536             1.0         0.0         0.0         1.0         0.0  ...   \nO73864             1.0         0.0         0.0         1.0         0.0  ...   \nO95231             0.0         1.0         1.0         1.0         1.0  ...   \nA0A0B4J1F4         1.0         1.0         0.0         0.0         1.0  ...   \nP54366             0.0         1.0         1.0         1.0         1.0  ...   \n\n            GO:0034250  GO:0140053  GO:0031345  GO:0098802  GO:0045861  \\\nP20536             0.0         0.0         0.0         0.0         0.0   \nO73864             0.0         0.0         0.0         0.0         0.0   \nO95231             0.0         0.0         0.0         0.0         0.0   \nA0A0B4J1F4         0.0         0.0         0.0         0.0         0.0   \nP54366             0.0         0.0         0.0         0.0         0.0   \n\n            GO:0051783  GO:0031674  GO:0001818  GO:0006874  GO:0016887  \nP20536             0.0         0.0         0.0         0.0         0.0  \nO73864             0.0         0.0         0.0         0.0         0.0  \nO95231             0.0         0.0         0.0         0.0         0.0  \nA0A0B4J1F4         0.0         0.0         0.0         0.0         0.0  \nP54366             0.0         0.0         0.0         0.0         0.0  \n\n[5 rows x 1500 columns]",
      "text/html": "<div>\n<style scoped>\n    .dataframe tbody tr th:only-of-type {\n        vertical-align: middle;\n    }\n\n    .dataframe tbody tr th {\n        vertical-align: top;\n    }\n\n    .dataframe thead th {\n        text-align: right;\n    }\n</style>\n<table border=\"1\" class=\"dataframe\">\n  <thead>\n    <tr style=\"text-align: right;\">\n      <th></th>\n      <th>GO:0005575</th>\n      <th>GO:0008150</th>\n      <th>GO:0110165</th>\n      <th>GO:0003674</th>\n      <th>GO:0005622</th>\n      <th>GO:0009987</th>\n      <th>GO:0043226</th>\n      <th>GO:0043229</th>\n      <th>GO:0005488</th>\n      <th>GO:0043227</th>\n      <th>...</th>\n      <th>GO:0034250</th>\n      <th>GO:0140053</th>\n      <th>GO:0031345</th>\n      <th>GO:0098802</th>\n      <th>GO:0045861</th>\n      <th>GO:0051783</th>\n      <th>GO:0031674</th>\n      <th>GO:0001818</th>\n      <th>GO:0006874</th>\n      <th>GO:0016887</th>\n    </tr>\n  </thead>\n  <tbody>\n    <tr>\n      <th>P20536</th>\n      <td>0.0</td>\n      <td>1.0</td>\n      <td>0.0</td>\n      <td>1.0</td>\n      <td>0.0</td>\n      <td>1.0</td>\n      <td>0.0</td>\n      <td>0.0</td>\n      <td>1.0</td>\n      <td>0.0</td>\n      <td>...</td>\n      <td>0.0</td>\n      <td>0.0</td>\n      <td>0.0</td>\n      <td>0.0</td>\n      <td>0.0</td>\n      <td>0.0</td>\n      <td>0.0</td>\n      <td>0.0</td>\n      <td>0.0</td>\n      <td>0.0</td>\n    </tr>\n    <tr>\n      <th>O73864</th>\n      <td>1.0</td>\n      <td>1.0</td>\n      <td>1.0</td>\n      <td>1.0</td>\n      <td>0.0</td>\n      <td>1.0</td>\n      <td>0.0</td>\n      <td>0.0</td>\n      <td>1.0</td>\n      <td>0.0</td>\n      <td>...</td>\n      <td>0.0</td>\n      <td>0.0</td>\n      <td>0.0</td>\n      <td>0.0</td>\n      <td>0.0</td>\n      <td>0.0</td>\n      <td>0.0</td>\n      <td>0.0</td>\n      <td>0.0</td>\n      <td>0.0</td>\n    </tr>\n    <tr>\n      <th>O95231</th>\n      <td>1.0</td>\n      <td>1.0</td>\n      <td>1.0</td>\n      <td>1.0</td>\n      <td>1.0</td>\n      <td>0.0</td>\n      <td>1.0</td>\n      <td>1.0</td>\n      <td>1.0</td>\n      <td>1.0</td>\n      <td>...</td>\n      <td>0.0</td>\n      <td>0.0</td>\n      <td>0.0</td>\n      <td>0.0</td>\n      <td>0.0</td>\n      <td>0.0</td>\n      <td>0.0</td>\n      <td>0.0</td>\n      <td>0.0</td>\n      <td>0.0</td>\n    </tr>\n    <tr>\n      <th>A0A0B4J1F4</th>\n      <td>1.0</td>\n      <td>1.0</td>\n      <td>1.0</td>\n      <td>1.0</td>\n      <td>0.0</td>\n      <td>1.0</td>\n      <td>1.0</td>\n      <td>0.0</td>\n      <td>0.0</td>\n      <td>1.0</td>\n      <td>...</td>\n      <td>0.0</td>\n      <td>0.0</td>\n      <td>0.0</td>\n      <td>0.0</td>\n      <td>0.0</td>\n      <td>0.0</td>\n      <td>0.0</td>\n      <td>0.0</td>\n      <td>0.0</td>\n      <td>0.0</td>\n    </tr>\n    <tr>\n      <th>P54366</th>\n      <td>1.0</td>\n      <td>0.0</td>\n      <td>1.0</td>\n      <td>1.0</td>\n      <td>1.0</td>\n      <td>0.0</td>\n      <td>1.0</td>\n      <td>1.0</td>\n      <td>1.0</td>\n      <td>1.0</td>\n      <td>...</td>\n      <td>0.0</td>\n      <td>0.0</td>\n      <td>0.0</td>\n      <td>0.0</td>\n      <td>0.0</td>\n      <td>0.0</td>\n      <td>0.0</td>\n      <td>0.0</td>\n      <td>0.0</td>\n      <td>0.0</td>\n    </tr>\n  </tbody>\n</table>\n<p>5 rows × 1500 columns</p>\n</div>"
     },
     "metadata": {}
    }
   ]
  },
  {
   "cell_type": "markdown",
   "source": [
    "# Transform the data to new data"
   ],
   "metadata": {}
  },
  {
   "cell_type": "code",
   "source": [
    "pca_256 = PCA(n_components=256)\n",
    "pca_256"
   ],
   "metadata": {
    "execution": {
     "iopub.status.busy": "2023-06-15T04:41:13.296997Z",
     "iopub.execute_input": "2023-06-15T04:41:13.297381Z",
     "iopub.status.idle": "2023-06-15T04:41:13.310490Z",
     "shell.execute_reply.started": "2023-06-15T04:41:13.297351Z",
     "shell.execute_reply": "2023-06-15T04:41:13.309435Z"
    },
    "trusted": true
   },
   "execution_count": 6,
   "outputs": [
    {
     "execution_count": 6,
     "output_type": "execute_result",
     "data": {
      "text/plain": "PCA(n_components=256)",
      "text/html": "<style>#sk-container-id-1 {color: black;background-color: white;}#sk-container-id-1 pre{padding: 0;}#sk-container-id-1 div.sk-toggleable {background-color: white;}#sk-container-id-1 label.sk-toggleable__label {cursor: pointer;display: block;width: 100%;margin-bottom: 0;padding: 0.3em;box-sizing: border-box;text-align: center;}#sk-container-id-1 label.sk-toggleable__label-arrow:before {content: \"▸\";float: left;margin-right: 0.25em;color: #696969;}#sk-container-id-1 label.sk-toggleable__label-arrow:hover:before {color: black;}#sk-container-id-1 div.sk-estimator:hover label.sk-toggleable__label-arrow:before {color: black;}#sk-container-id-1 div.sk-toggleable__content {max-height: 0;max-width: 0;overflow: hidden;text-align: left;background-color: #f0f8ff;}#sk-container-id-1 div.sk-toggleable__content pre {margin: 0.2em;color: black;border-radius: 0.25em;background-color: #f0f8ff;}#sk-container-id-1 input.sk-toggleable__control:checked~div.sk-toggleable__content {max-height: 200px;max-width: 100%;overflow: auto;}#sk-container-id-1 input.sk-toggleable__control:checked~label.sk-toggleable__label-arrow:before {content: \"▾\";}#sk-container-id-1 div.sk-estimator input.sk-toggleable__control:checked~label.sk-toggleable__label {background-color: #d4ebff;}#sk-container-id-1 div.sk-label input.sk-toggleable__control:checked~label.sk-toggleable__label {background-color: #d4ebff;}#sk-container-id-1 input.sk-hidden--visually {border: 0;clip: rect(1px 1px 1px 1px);clip: rect(1px, 1px, 1px, 1px);height: 1px;margin: -1px;overflow: hidden;padding: 0;position: absolute;width: 1px;}#sk-container-id-1 div.sk-estimator {font-family: monospace;background-color: #f0f8ff;border: 1px dotted black;border-radius: 0.25em;box-sizing: border-box;margin-bottom: 0.5em;}#sk-container-id-1 div.sk-estimator:hover {background-color: #d4ebff;}#sk-container-id-1 div.sk-parallel-item::after {content: \"\";width: 100%;border-bottom: 1px solid gray;flex-grow: 1;}#sk-container-id-1 div.sk-label:hover label.sk-toggleable__label {background-color: #d4ebff;}#sk-container-id-1 div.sk-serial::before {content: \"\";position: absolute;border-left: 1px solid gray;box-sizing: border-box;top: 0;bottom: 0;left: 50%;z-index: 0;}#sk-container-id-1 div.sk-serial {display: flex;flex-direction: column;align-items: center;background-color: white;padding-right: 0.2em;padding-left: 0.2em;position: relative;}#sk-container-id-1 div.sk-item {position: relative;z-index: 1;}#sk-container-id-1 div.sk-parallel {display: flex;align-items: stretch;justify-content: center;background-color: white;position: relative;}#sk-container-id-1 div.sk-item::before, #sk-container-id-1 div.sk-parallel-item::before {content: \"\";position: absolute;border-left: 1px solid gray;box-sizing: border-box;top: 0;bottom: 0;left: 50%;z-index: -1;}#sk-container-id-1 div.sk-parallel-item {display: flex;flex-direction: column;z-index: 1;position: relative;background-color: white;}#sk-container-id-1 div.sk-parallel-item:first-child::after {align-self: flex-end;width: 50%;}#sk-container-id-1 div.sk-parallel-item:last-child::after {align-self: flex-start;width: 50%;}#sk-container-id-1 div.sk-parallel-item:only-child::after {width: 0;}#sk-container-id-1 div.sk-dashed-wrapped {border: 1px dashed gray;margin: 0 0.4em 0.5em 0.4em;box-sizing: border-box;padding-bottom: 0.4em;background-color: white;}#sk-container-id-1 div.sk-label label {font-family: monospace;font-weight: bold;display: inline-block;line-height: 1.2em;}#sk-container-id-1 div.sk-label-container {text-align: center;}#sk-container-id-1 div.sk-container {/* jupyter's `normalize.less` sets `[hidden] { display: none; }` but bootstrap.min.css set `[hidden] { display: none !important; }` so we also need the `!important` here to be able to override the default hidden behavior on the sphinx rendered scikit-learn.org. See: https://github.com/scikit-learn/scikit-learn/issues/21755 */display: inline-block !important;position: relative;}#sk-container-id-1 div.sk-text-repr-fallback {display: none;}</style><div id=\"sk-container-id-1\" class=\"sk-top-container\"><div class=\"sk-text-repr-fallback\"><pre>PCA(n_components=256)</pre><b>In a Jupyter environment, please rerun this cell to show the HTML representation or trust the notebook. <br />On GitHub, the HTML representation is unable to render, please try loading this page with nbviewer.org.</b></div><div class=\"sk-container\" hidden><div class=\"sk-item\"><div class=\"sk-estimator sk-toggleable\"><input class=\"sk-toggleable__control sk-hidden--visually\" id=\"sk-estimator-id-1\" type=\"checkbox\" checked><label for=\"sk-estimator-id-1\" class=\"sk-toggleable__label sk-toggleable__label-arrow\">PCA</label><div class=\"sk-toggleable__content\"><pre>PCA(n_components=256)</pre></div></div></div></div></div>"
     },
     "metadata": {}
    }
   ]
  },
  {
   "cell_type": "code",
   "source": [
    "%%time\n",
    "pca_256.fit(prot_embeds)"
   ],
   "metadata": {
    "execution": {
     "iopub.status.busy": "2023-06-15T04:41:14.260196Z",
     "iopub.execute_input": "2023-06-15T04:41:14.260548Z",
     "iopub.status.idle": "2023-06-15T04:41:30.877972Z",
     "shell.execute_reply.started": "2023-06-15T04:41:14.260521Z",
     "shell.execute_reply": "2023-06-15T04:41:30.877016Z"
    },
    "trusted": true
   },
   "execution_count": 7,
   "outputs": [
    {
     "name": "stdout",
     "text": "CPU times: user 26.4 s, sys: 2.49 s, total: 28.9 s\nWall time: 16.6 s\n",
     "output_type": "stream"
    },
    {
     "execution_count": 7,
     "output_type": "execute_result",
     "data": {
      "text/plain": "PCA(n_components=256)",
      "text/html": "<style>#sk-container-id-2 {color: black;background-color: white;}#sk-container-id-2 pre{padding: 0;}#sk-container-id-2 div.sk-toggleable {background-color: white;}#sk-container-id-2 label.sk-toggleable__label {cursor: pointer;display: block;width: 100%;margin-bottom: 0;padding: 0.3em;box-sizing: border-box;text-align: center;}#sk-container-id-2 label.sk-toggleable__label-arrow:before {content: \"▸\";float: left;margin-right: 0.25em;color: #696969;}#sk-container-id-2 label.sk-toggleable__label-arrow:hover:before {color: black;}#sk-container-id-2 div.sk-estimator:hover label.sk-toggleable__label-arrow:before {color: black;}#sk-container-id-2 div.sk-toggleable__content {max-height: 0;max-width: 0;overflow: hidden;text-align: left;background-color: #f0f8ff;}#sk-container-id-2 div.sk-toggleable__content pre {margin: 0.2em;color: black;border-radius: 0.25em;background-color: #f0f8ff;}#sk-container-id-2 input.sk-toggleable__control:checked~div.sk-toggleable__content {max-height: 200px;max-width: 100%;overflow: auto;}#sk-container-id-2 input.sk-toggleable__control:checked~label.sk-toggleable__label-arrow:before {content: \"▾\";}#sk-container-id-2 div.sk-estimator input.sk-toggleable__control:checked~label.sk-toggleable__label {background-color: #d4ebff;}#sk-container-id-2 div.sk-label input.sk-toggleable__control:checked~label.sk-toggleable__label {background-color: #d4ebff;}#sk-container-id-2 input.sk-hidden--visually {border: 0;clip: rect(1px 1px 1px 1px);clip: rect(1px, 1px, 1px, 1px);height: 1px;margin: -1px;overflow: hidden;padding: 0;position: absolute;width: 1px;}#sk-container-id-2 div.sk-estimator {font-family: monospace;background-color: #f0f8ff;border: 1px dotted black;border-radius: 0.25em;box-sizing: border-box;margin-bottom: 0.5em;}#sk-container-id-2 div.sk-estimator:hover {background-color: #d4ebff;}#sk-container-id-2 div.sk-parallel-item::after {content: \"\";width: 100%;border-bottom: 1px solid gray;flex-grow: 1;}#sk-container-id-2 div.sk-label:hover label.sk-toggleable__label {background-color: #d4ebff;}#sk-container-id-2 div.sk-serial::before {content: \"\";position: absolute;border-left: 1px solid gray;box-sizing: border-box;top: 0;bottom: 0;left: 50%;z-index: 0;}#sk-container-id-2 div.sk-serial {display: flex;flex-direction: column;align-items: center;background-color: white;padding-right: 0.2em;padding-left: 0.2em;position: relative;}#sk-container-id-2 div.sk-item {position: relative;z-index: 1;}#sk-container-id-2 div.sk-parallel {display: flex;align-items: stretch;justify-content: center;background-color: white;position: relative;}#sk-container-id-2 div.sk-item::before, #sk-container-id-2 div.sk-parallel-item::before {content: \"\";position: absolute;border-left: 1px solid gray;box-sizing: border-box;top: 0;bottom: 0;left: 50%;z-index: -1;}#sk-container-id-2 div.sk-parallel-item {display: flex;flex-direction: column;z-index: 1;position: relative;background-color: white;}#sk-container-id-2 div.sk-parallel-item:first-child::after {align-self: flex-end;width: 50%;}#sk-container-id-2 div.sk-parallel-item:last-child::after {align-self: flex-start;width: 50%;}#sk-container-id-2 div.sk-parallel-item:only-child::after {width: 0;}#sk-container-id-2 div.sk-dashed-wrapped {border: 1px dashed gray;margin: 0 0.4em 0.5em 0.4em;box-sizing: border-box;padding-bottom: 0.4em;background-color: white;}#sk-container-id-2 div.sk-label label {font-family: monospace;font-weight: bold;display: inline-block;line-height: 1.2em;}#sk-container-id-2 div.sk-label-container {text-align: center;}#sk-container-id-2 div.sk-container {/* jupyter's `normalize.less` sets `[hidden] { display: none; }` but bootstrap.min.css set `[hidden] { display: none !important; }` so we also need the `!important` here to be able to override the default hidden behavior on the sphinx rendered scikit-learn.org. See: https://github.com/scikit-learn/scikit-learn/issues/21755 */display: inline-block !important;position: relative;}#sk-container-id-2 div.sk-text-repr-fallback {display: none;}</style><div id=\"sk-container-id-2\" class=\"sk-top-container\"><div class=\"sk-text-repr-fallback\"><pre>PCA(n_components=256)</pre><b>In a Jupyter environment, please rerun this cell to show the HTML representation or trust the notebook. <br />On GitHub, the HTML representation is unable to render, please try loading this page with nbviewer.org.</b></div><div class=\"sk-container\" hidden><div class=\"sk-item\"><div class=\"sk-estimator sk-toggleable\"><input class=\"sk-toggleable__control sk-hidden--visually\" id=\"sk-estimator-id-2\" type=\"checkbox\" checked><label for=\"sk-estimator-id-2\" class=\"sk-toggleable__label sk-toggleable__label-arrow\">PCA</label><div class=\"sk-toggleable__content\"><pre>PCA(n_components=256)</pre></div></div></div></div></div>"
     },
     "metadata": {}
    }
   ]
  },
  {
   "cell_type": "code",
   "source": [
    "prot_df = pd.DataFrame(pca_256.transform(prot_embeds),index= prot_ids)\n",
    "prot_df.head()"
   ],
   "metadata": {
    "execution": {
     "iopub.status.busy": "2023-06-15T04:41:35.549137Z",
     "iopub.execute_input": "2023-06-15T04:41:35.549551Z",
     "iopub.status.idle": "2023-06-15T04:41:36.618765Z",
     "shell.execute_reply.started": "2023-06-15T04:41:35.549522Z",
     "shell.execute_reply": "2023-06-15T04:41:36.617727Z"
    },
    "trusted": true
   },
   "execution_count": 8,
   "outputs": [
    {
     "execution_count": 8,
     "output_type": "execute_result",
     "data": {
      "text/plain": "                 0         1         2         3         4         5    \\\nP20536      0.270660 -0.478872 -0.150257 -0.012765 -0.120466 -0.143243   \nO73864     -0.117618 -0.010339 -0.206943  0.039822 -0.157024  0.058493   \nO95231      0.224266  0.694896 -0.190856  0.283427 -0.032432  0.342178   \nA0A0B4J1F4 -0.280479  0.377051 -0.213807 -0.139802 -0.007929  0.089613   \nP54366      0.542605  0.471899  0.676284  0.192114  0.130854 -0.224210   \n\n                 6         7         8         9    ...       246       247  \\\nP20536     -0.034660 -0.015345 -0.057034 -0.078058  ...  0.011249 -0.023013   \nO73864     -0.168782 -0.250182  0.104331 -0.386560  ... -0.042388  0.018114   \nO95231     -0.126916 -0.004499 -0.562844 -0.149241  ...  0.030598 -0.005900   \nA0A0B4J1F4 -0.077499  0.019848  0.032122 -0.072640  ... -0.026817 -0.003090   \nP54366     -0.315011 -0.227262  0.085949 -0.479028  ...  0.008060 -0.012970   \n\n                 248       249       250       251       252       253  \\\nP20536      0.000690 -0.055629 -0.115525 -0.003904 -0.005990  0.003964   \nO73864     -0.040248  0.008605 -0.034004  0.068799 -0.026455  0.006045   \nO95231     -0.006120  0.022320 -0.008790  0.022833  0.022804 -0.009777   \nA0A0B4J1F4 -0.004056 -0.006177  0.028495 -0.002037  0.018092 -0.006559   \nP54366     -0.021175  0.042514 -0.027147 -0.009879  0.014824  0.002485   \n\n                 254       255  \nP20536      0.006203 -0.064973  \nO73864      0.042596 -0.035406  \nO95231      0.030373 -0.000770  \nA0A0B4J1F4  0.019666 -0.017296  \nP54366     -0.012398 -0.013170  \n\n[5 rows x 256 columns]",
      "text/html": "<div>\n<style scoped>\n    .dataframe tbody tr th:only-of-type {\n        vertical-align: middle;\n    }\n\n    .dataframe tbody tr th {\n        vertical-align: top;\n    }\n\n    .dataframe thead th {\n        text-align: right;\n    }\n</style>\n<table border=\"1\" class=\"dataframe\">\n  <thead>\n    <tr style=\"text-align: right;\">\n      <th></th>\n      <th>0</th>\n      <th>1</th>\n      <th>2</th>\n      <th>3</th>\n      <th>4</th>\n      <th>5</th>\n      <th>6</th>\n      <th>7</th>\n      <th>8</th>\n      <th>9</th>\n      <th>...</th>\n      <th>246</th>\n      <th>247</th>\n      <th>248</th>\n      <th>249</th>\n      <th>250</th>\n      <th>251</th>\n      <th>252</th>\n      <th>253</th>\n      <th>254</th>\n      <th>255</th>\n    </tr>\n  </thead>\n  <tbody>\n    <tr>\n      <th>P20536</th>\n      <td>0.270660</td>\n      <td>-0.478872</td>\n      <td>-0.150257</td>\n      <td>-0.012765</td>\n      <td>-0.120466</td>\n      <td>-0.143243</td>\n      <td>-0.034660</td>\n      <td>-0.015345</td>\n      <td>-0.057034</td>\n      <td>-0.078058</td>\n      <td>...</td>\n      <td>0.011249</td>\n      <td>-0.023013</td>\n      <td>0.000690</td>\n      <td>-0.055629</td>\n      <td>-0.115525</td>\n      <td>-0.003904</td>\n      <td>-0.005990</td>\n      <td>0.003964</td>\n      <td>0.006203</td>\n      <td>-0.064973</td>\n    </tr>\n    <tr>\n      <th>O73864</th>\n      <td>-0.117618</td>\n      <td>-0.010339</td>\n      <td>-0.206943</td>\n      <td>0.039822</td>\n      <td>-0.157024</td>\n      <td>0.058493</td>\n      <td>-0.168782</td>\n      <td>-0.250182</td>\n      <td>0.104331</td>\n      <td>-0.386560</td>\n      <td>...</td>\n      <td>-0.042388</td>\n      <td>0.018114</td>\n      <td>-0.040248</td>\n      <td>0.008605</td>\n      <td>-0.034004</td>\n      <td>0.068799</td>\n      <td>-0.026455</td>\n      <td>0.006045</td>\n      <td>0.042596</td>\n      <td>-0.035406</td>\n    </tr>\n    <tr>\n      <th>O95231</th>\n      <td>0.224266</td>\n      <td>0.694896</td>\n      <td>-0.190856</td>\n      <td>0.283427</td>\n      <td>-0.032432</td>\n      <td>0.342178</td>\n      <td>-0.126916</td>\n      <td>-0.004499</td>\n      <td>-0.562844</td>\n      <td>-0.149241</td>\n      <td>...</td>\n      <td>0.030598</td>\n      <td>-0.005900</td>\n      <td>-0.006120</td>\n      <td>0.022320</td>\n      <td>-0.008790</td>\n      <td>0.022833</td>\n      <td>0.022804</td>\n      <td>-0.009777</td>\n      <td>0.030373</td>\n      <td>-0.000770</td>\n    </tr>\n    <tr>\n      <th>A0A0B4J1F4</th>\n      <td>-0.280479</td>\n      <td>0.377051</td>\n      <td>-0.213807</td>\n      <td>-0.139802</td>\n      <td>-0.007929</td>\n      <td>0.089613</td>\n      <td>-0.077499</td>\n      <td>0.019848</td>\n      <td>0.032122</td>\n      <td>-0.072640</td>\n      <td>...</td>\n      <td>-0.026817</td>\n      <td>-0.003090</td>\n      <td>-0.004056</td>\n      <td>-0.006177</td>\n      <td>0.028495</td>\n      <td>-0.002037</td>\n      <td>0.018092</td>\n      <td>-0.006559</td>\n      <td>0.019666</td>\n      <td>-0.017296</td>\n    </tr>\n    <tr>\n      <th>P54366</th>\n      <td>0.542605</td>\n      <td>0.471899</td>\n      <td>0.676284</td>\n      <td>0.192114</td>\n      <td>0.130854</td>\n      <td>-0.224210</td>\n      <td>-0.315011</td>\n      <td>-0.227262</td>\n      <td>0.085949</td>\n      <td>-0.479028</td>\n      <td>...</td>\n      <td>0.008060</td>\n      <td>-0.012970</td>\n      <td>-0.021175</td>\n      <td>0.042514</td>\n      <td>-0.027147</td>\n      <td>-0.009879</td>\n      <td>0.014824</td>\n      <td>0.002485</td>\n      <td>-0.012398</td>\n      <td>-0.013170</td>\n    </tr>\n  </tbody>\n</table>\n<p>5 rows × 256 columns</p>\n</div>"
     },
     "metadata": {}
    }
   ]
  },
  {
   "cell_type": "code",
   "source": [
    "prot_df.to_csv(\"prot_df_256_pca.csv\")"
   ],
   "metadata": {
    "execution": {
     "iopub.status.busy": "2023-06-15T04:42:14.548464Z",
     "iopub.execute_input": "2023-06-15T04:42:14.549408Z",
     "iopub.status.idle": "2023-06-15T04:43:05.334756Z",
     "shell.execute_reply.started": "2023-06-15T04:42:14.549376Z",
     "shell.execute_reply": "2023-06-15T04:43:05.333774Z"
    },
    "trusted": true
   },
   "execution_count": 9,
   "outputs": []
  },
  {
   "cell_type": "code",
   "source": [
    "print(f\"prot_df shape {prot_df.shape}\")\n",
    "print(f\"prot_labels shape {prot_labels.shape}\")"
   ],
   "metadata": {
    "execution": {
     "iopub.status.busy": "2023-06-15T04:43:13.557140Z",
     "iopub.execute_input": "2023-06-15T04:43:13.558071Z",
     "iopub.status.idle": "2023-06-15T04:43:13.563195Z",
     "shell.execute_reply.started": "2023-06-15T04:43:13.558038Z",
     "shell.execute_reply": "2023-06-15T04:43:13.562185Z"
    },
    "trusted": true
   },
   "execution_count": 10,
   "outputs": [
    {
     "name": "stdout",
     "text": "prot_df shape (142246, 256)\nprot_labels shape (142246, 1500)\n",
     "output_type": "stream"
    }
   ]
  },
  {
   "cell_type": "markdown",
   "source": [
    "# Prepare to train the model"
   ],
   "metadata": {}
  },
  {
   "cell_type": "code",
   "source": [
    "train_df, test_df, train_labels, test_labels = train_test_split(prot_df, prot_labels, test_size=0.4, random_state=42)"
   ],
   "metadata": {
    "execution": {
     "iopub.status.busy": "2023-06-15T04:43:22.627118Z",
     "iopub.execute_input": "2023-06-15T04:43:22.628076Z",
     "iopub.status.idle": "2023-06-15T04:43:23.581186Z",
     "shell.execute_reply.started": "2023-06-15T04:43:22.628042Z",
     "shell.execute_reply": "2023-06-15T04:43:23.580175Z"
    },
    "trusted": true
   },
   "execution_count": 11,
   "outputs": []
  },
  {
   "cell_type": "code",
   "source": [
    "train_df_cudf = cudf.DataFrame.from_pandas(train_df).astype('float32')\n",
    "train_labels_cudf = cudf.DataFrame.from_pandas(train_labels).astype('float32')\n",
    "test_df_cudf = cudf.DataFrame.from_pandas(test_df).astype('float32')"
   ],
   "metadata": {
    "execution": {
     "iopub.status.busy": "2023-06-15T04:43:28.507214Z",
     "iopub.execute_input": "2023-06-15T04:43:28.507563Z",
     "iopub.status.idle": "2023-06-15T04:43:38.273018Z",
     "shell.execute_reply.started": "2023-06-15T04:43:28.507536Z",
     "shell.execute_reply": "2023-06-15T04:43:38.272087Z"
    },
    "trusted": true
   },
   "execution_count": 12,
   "outputs": []
  },
  {
   "cell_type": "markdown",
   "source": [
    "# Train the model"
   ],
   "metadata": {}
  },
  {
   "cell_type": "code",
   "source": [
    "predicted_labels_train_df = pd.DataFrame(index= train_df.index,\n",
    "                                         columns= train_labels.columns,\n",
    "                                         dtype= np.float32).fillna(np.float32(0))\n",
    "\n",
    "predicted_labels_df = pd.DataFrame(index= test_df.index,\n",
    "                                   columns= test_labels.columns,\n",
    "                                   dtype= np.float32).fillna(np.float32(0))"
   ],
   "metadata": {
    "execution": {
     "iopub.status.busy": "2023-06-15T04:43:42.150495Z",
     "iopub.execute_input": "2023-06-15T04:43:42.150852Z",
     "iopub.status.idle": "2023-06-15T04:43:45.263349Z",
     "shell.execute_reply.started": "2023-06-15T04:43:42.150823Z",
     "shell.execute_reply": "2023-06-15T04:43:45.262345Z"
    },
    "trusted": true
   },
   "execution_count": 13,
   "outputs": []
  },
  {
   "cell_type": "code",
   "source": [
    "n_columns = prot_labels.shape[1]\n",
    "\n",
    "with tqdm(total=n_columns, ncols=100, desc=\"Training\", unit=\"column\") as pbar:\n",
    "    for col in range(n_columns):\n",
    "        \n",
    "        rf_clf = CuMLRFClassifier()\n",
    "        rf_clf.fit(train_df_cudf, train_labels_cudf.iloc[:,col])\n",
    "        \n",
    "        predict_labels = rf_clf.predict(test_df_cudf)\n",
    "        predicted_labels_df[train_labels_cudf.columns[col]] = predict_labels.to_numpy()\n",
    "        \n",
    "        predict_labels_train = rf_clf.predict(train_df_cudf)\n",
    "        predicted_labels_train_df[train_labels_cudf.columns[col]] = predict_labels_train.to_numpy()\n",
    "        \n",
    "        \n",
    "        pbar.update(1)"
   ],
   "metadata": {
    "execution": {
     "iopub.status.busy": "2023-06-15T04:43:51.426547Z",
     "iopub.execute_input": "2023-06-15T04:43:51.427540Z",
     "iopub.status.idle": "2023-06-15T05:31:50.917319Z",
     "shell.execute_reply.started": "2023-06-15T04:43:51.427502Z",
     "shell.execute_reply": "2023-06-15T05:31:50.916323Z"
    },
    "trusted": true
   },
   "execution_count": 14,
   "outputs": [
    {
     "name": "stderr",
     "text": "Training: 100%|█████████████████████████████████████████████| 1500/1500 [47:59<00:00,  1.92s/column]\n",
     "output_type": "stream"
    }
   ]
  },
  {
   "cell_type": "code",
   "source": [
    "loss = hamming_loss(train_labels.iloc[:,:n_columns],predicted_labels_train_df.iloc[:,:n_columns])\n",
    "print(f\"Hamming Loss on the train set itself : {loss}.\")"
   ],
   "metadata": {
    "execution": {
     "iopub.status.busy": "2023-06-15T05:32:21.103056Z",
     "iopub.execute_input": "2023-06-15T05:32:21.104074Z",
     "iopub.status.idle": "2023-06-15T05:32:38.708759Z",
     "shell.execute_reply.started": "2023-06-15T05:32:21.104037Z",
     "shell.execute_reply": "2023-06-15T05:32:38.707745Z"
    },
    "trusted": true
   },
   "execution_count": 15,
   "outputs": [
    {
     "name": "stdout",
     "text": "Hamming Loss on the train set itself : 0.006939255822309708.\n",
     "output_type": "stream"
    }
   ]
  },
  {
   "cell_type": "code",
   "source": [
    "loss = hamming_loss(test_labels.iloc[:,:n_columns],predicted_labels_df.iloc[:,:n_columns])\n",
    "print(f\"Hamming Loss on the test set : {loss}.\")"
   ],
   "metadata": {
    "execution": {
     "iopub.status.busy": "2023-06-15T05:33:36.938860Z",
     "iopub.execute_input": "2023-06-15T05:33:36.939359Z",
     "iopub.status.idle": "2023-06-15T05:33:47.809845Z",
     "shell.execute_reply.started": "2023-06-15T05:33:36.939316Z",
     "shell.execute_reply": "2023-06-15T05:33:47.808862Z"
    },
    "trusted": true
   },
   "execution_count": 16,
   "outputs": [
    {
     "name": "stdout",
     "text": "Hamming Loss on the test set : 0.018094424623748512.\n",
     "output_type": "stream"
    }
   ]
  },
  {
   "cell_type": "code",
   "source": [
    "predicted_labels_train_df.to_csv(\"rf_pred_train_upto_500_terms_random_state_42.csv\")\n",
    "predicted_labels_df.to_csv(\"rf_pred_upto_500_terms_random_state_42.csv\")"
   ],
   "metadata": {
    "execution": {
     "iopub.status.busy": "2023-06-15T05:34:13.953007Z",
     "iopub.execute_input": "2023-06-15T05:34:13.953382Z",
     "iopub.status.idle": "2023-06-15T05:38:21.465724Z",
     "shell.execute_reply.started": "2023-06-15T05:34:13.953352Z",
     "shell.execute_reply": "2023-06-15T05:38:21.464737Z"
    },
    "trusted": true
   },
   "execution_count": 17,
   "outputs": []
  }
 ]
}
