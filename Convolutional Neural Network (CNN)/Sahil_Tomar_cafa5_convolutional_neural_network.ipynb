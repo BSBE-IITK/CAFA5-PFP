{
 "cells": [
  {
   "cell_type": "code",
   "execution_count": 1,
   "id": "f99c261c",
   "metadata": {
    "_cell_guid": "b1076dfc-b9ad-4769-8c92-a6c4dae69d19",
    "_uuid": "8f2839f25d086af736a60e9eeb907d3b93b6e0e5",
    "execution": {
     "iopub.execute_input": "2023-07-08T12:01:13.903538Z",
     "iopub.status.busy": "2023-07-08T12:01:13.902656Z",
     "iopub.status.idle": "2023-07-08T12:01:13.915418Z",
     "shell.execute_reply": "2023-07-08T12:01:13.914781Z"
    },
    "papermill": {
     "duration": 0.023282,
     "end_time": "2023-07-08T12:01:13.917416",
     "exception": false,
     "start_time": "2023-07-08T12:01:13.894134",
     "status": "completed"
    },
    "tags": []
   },
   "outputs": [],
   "source": [
    "from warnings import filterwarnings\n",
    "filterwarnings('ignore')\n",
    "\n",
    "!pip install -q -U biopython\n",
    "from Bio import SeqIO\n",
    "\n",
    "import numpy as np\n",
    "import pandas as pd\n",
    "\n",
    "from matplotlib import pyplot as plt\n",
    "\n",
    "from tqdm import tqdm\n",
    "tqdm.pandas()\n",
    "\n",
    "import h5py\n",
    "\n",
    "from sklearn.preprocessing import OneHotEncoder, LabelEncoder\n",
    "from sklearn.model_selection import train_test_split"
   ]
  },
  {
   "cell_type": "code",
   "execution_count": 2,
   "id": "0b687f33",
   "metadata": {
    "execution": {
     "iopub.execute_input": "2023-07-08T12:01:13.932877Z",
     "iopub.status.busy": "2023-07-08T12:01:13.932038Z",
     "iopub.status.idle": "2023-07-08T12:01:13.936539Z",
     "shell.execute_reply": "2023-07-08T12:01:13.935782Z"
    },
    "papermill": {
     "duration": 0.013935,
     "end_time": "2023-07-08T12:01:13.938394",
     "exception": false,
     "start_time": "2023-07-08T12:01:13.924459",
     "status": "completed"
    },
    "tags": []
   },
   "outputs": [],
   "source": [
    "from keras.models import load_model\n",
    "from keras.models import Model\n",
    "from keras.regularizers import l2\n",
    "from keras.callbacks import EarlyStopping\n",
    "from keras.layers import Input, Dense, Dropout, Flatten, Activation\n",
    "from keras.layers import Conv1D, Add, MaxPooling1D, BatchNormalization"
   ]
  },
  {
   "cell_type": "code",
   "execution_count": 3,
   "id": "70cce2f1",
   "metadata": {
    "execution": {
     "iopub.execute_input": "2023-07-08T12:01:13.953465Z",
     "iopub.status.busy": "2023-07-08T12:01:13.952844Z",
     "iopub.status.idle": "2023-07-08T12:01:13.959267Z",
     "shell.execute_reply": "2023-07-08T12:01:13.958388Z"
    },
    "papermill": {
     "duration": 0.015941,
     "end_time": "2023-07-08T12:01:13.961110",
     "exception": false,
     "start_time": "2023-07-08T12:01:13.945169",
     "status": "completed"
    },
    "tags": []
   },
   "outputs": [],
   "source": [
    "class ProteinsOneHotEncoder:\n",
    "    \n",
    "    def __init__(self, id_file, fasta_file= None, max_sequences=0):\n",
    "        \n",
    "        self.possible_aa = ['M', 'N', 'S', 'V', 'T', 'H', 'A', 'P', 'Y', 'I', 'D', 'W', 'E','Q', 'L', 'F', 'R', 'K', 'C', 'G', 'U', 'O', 'X', 'B', 'Z']\n",
    "        self.fasta_file = fasta_file\n",
    "        self.max_sequences = max_sequences\n",
    "        self.ids = np.load(id_file)\n",
    "        if self.max_sequences:\n",
    "            self.ids = self.ids[:self.max_sequences]\n",
    "        self.retained_proteins = []\n",
    "    \n",
    "    def _fasta_to_dataframe(self):\n",
    "        \n",
    "        if self.fasta_file==None:\n",
    "            raise ValueError(\"fasta_file not given\")\n",
    "        \n",
    "        records = SeqIO.parse(self.fasta_file, \"fasta\")\n",
    "        data = []\n",
    "        count = 0\n",
    "        for record in tqdm(records, desc='Converting to DataFrame', unit=' Records'):\n",
    "            if self.max_sequences and count >= self.max_sequences:\n",
    "                break\n",
    "            sequence = str(record.seq)\n",
    "            header = record.id\n",
    "            data.append([header, sequence])\n",
    "            count += 1\n",
    "\n",
    "        df = pd.DataFrame(data, columns=[\"Header\", \"Sequence\"])\n",
    "        return df\n",
    "\n",
    "\n",
    "\n",
    "    @staticmethod\n",
    "    def clip(seq : str, length=750):\n",
    "        if (len(seq) > 750):\n",
    "            return seq[: length]\n",
    "        else: return seq\n",
    "\n",
    "    \n",
    "    @staticmethod\n",
    "    def elongate(seq : str):\n",
    "        \n",
    "        n = len(seq)\n",
    "\n",
    "        if n > 375:\n",
    "            new_seq = seq + seq[: 750 % n]\n",
    "        elif n > 250:\n",
    "            new_seq = seq*2 + seq[: 750 % n]\n",
    "        elif n > 187.5:\n",
    "            new_seq = seq*3 + seq[: 750 % n]\n",
    "        elif n > 150:\n",
    "            new_seq = seq*4 + seq[: 750 % n]\n",
    "        elif n == 150:\n",
    "            new_seq = seq*5\n",
    "\n",
    "        return new_seq\n",
    "\n",
    "    def _clip_and_elongate_sequences(self):\n",
    "        \n",
    "        df = self._fasta_to_dataframe()\n",
    "        df['Seq_clip'] = df['Sequence'].progress_apply(self.clip)\n",
    "        self.retained_proteins = [not val for val in df.Seq_clip.progress_apply(str.__len__) < 150]\n",
    "        df = df[self.retained_proteins]\n",
    "        df['Seq_clip'] = df['Seq_clip'].progress_apply(self.elongate)\n",
    "        return df\n",
    "    \n",
    "    def encode_data(self):\n",
    "\n",
    "        df = self._clip_and_elongate_sequences()\n",
    "        \n",
    "        # Create an instance of OneHotEncoder\n",
    "        encoder = OneHotEncoder(sparse_output=False, categories=[self.possible_aa])\n",
    "\n",
    "        # Initialize an empty list to store the encoded strings\n",
    "        encoded_strings = []\n",
    "\n",
    "        # Iterate over each string in the list\n",
    "        for string in tqdm(df.iloc[:,2].values, desc='Encoding Sequences', unit=' Encodings'):\n",
    "            # Transform the string to a list of individual letters\n",
    "            letters = list(string)\n",
    "\n",
    "            # Encode the letters\n",
    "            one_hot_encoded = encoder.fit_transform(np.array(letters).reshape(-1, 1))\n",
    "\n",
    "            # Append the encoded string to the list\n",
    "            encoded_strings.append(one_hot_encoded.astype(np.int8))\n",
    "\n",
    "        # Convert the list of encoded strings to a numpy array\n",
    "        encoded_array = np.array(encoded_strings)\n",
    "        \n",
    "        return encoded_array"
   ]
  },
  {
   "cell_type": "code",
   "execution_count": 4,
   "id": "83dbf39c",
   "metadata": {
    "execution": {
     "iopub.execute_input": "2023-07-08T12:01:13.975872Z",
     "iopub.status.busy": "2023-07-08T12:01:13.975600Z",
     "iopub.status.idle": "2023-07-08T12:01:13.979537Z",
     "shell.execute_reply": "2023-07-08T12:01:13.978675Z"
    },
    "papermill": {
     "duration": 0.013353,
     "end_time": "2023-07-08T12:01:13.981265",
     "exception": false,
     "start_time": "2023-07-08T12:01:13.967912",
     "status": "completed"
    },
    "tags": []
   },
   "outputs": [],
   "source": [
    "max_seq = 100000 #@param {type:\"integer\"}\n",
    "train_encoder = ProteinsOneHotEncoder(\n",
    "    id_file = '/kaggle/input/t5embeds/train_ids.npy',\n",
    "    fasta_file = '/kaggle/input/cafa-5-protein-function-prediction/Train/train_sequences.fasta',\n",
    "    max_sequences = max_seq\n",
    ")\n",
    "train_encodings = train_encoder.encode_data()\n",
    "\n",
    "with h5py.File('/kaggle/input/train-labels-cafa5/train_labels.h5', 'r') as hf:\n",
    "    train_labels = hf['labels'][:]\n",
    "\n",
    "if max_seq:\n",
    "    train_labels = train_labels[:max_seq]\n",
    "train_labels = train_labels[train_encoder.retained_proteins]"
   ]
  },
  {
   "cell_type": "code",
   "execution_count": 5,
   "id": "b0956349",
   "metadata": {
    "execution": {
     "iopub.execute_input": "2023-07-08T12:01:13.997269Z",
     "iopub.status.busy": "2023-07-08T12:01:13.996854Z",
     "iopub.status.idle": "2023-07-08T12:01:14.000623Z",
     "shell.execute_reply": "2023-07-08T12:01:13.999776Z"
    },
    "papermill": {
     "duration": 0.014842,
     "end_time": "2023-07-08T12:01:14.002721",
     "exception": false,
     "start_time": "2023-07-08T12:01:13.987879",
     "status": "completed"
    },
    "tags": []
   },
   "outputs": [],
   "source": [
    "print('Sanity Check')\n",
    "train_encodings.shape, train_labels.shape"
   ]
  },
  {
   "cell_type": "code",
   "execution_count": 6,
   "id": "46f0fae3",
   "metadata": {
    "execution": {
     "iopub.execute_input": "2023-07-08T12:01:14.018076Z",
     "iopub.status.busy": "2023-07-08T12:01:14.017684Z",
     "iopub.status.idle": "2023-07-08T12:01:14.021924Z",
     "shell.execute_reply": "2023-07-08T12:01:14.021085Z"
    },
    "papermill": {
     "duration": 0.013943,
     "end_time": "2023-07-08T12:01:14.023755",
     "exception": false,
     "start_time": "2023-07-08T12:01:14.009812",
     "status": "completed"
    },
    "tags": []
   },
   "outputs": [],
   "source": [
    "X_train, X_test, Y_train, Y_test = train_test_split(train_encodings, train_labels, test_size = 0.1, random_state=123)\n",
    "X_train, X_val, Y_train, Y_val = train_test_split(X_train, Y_train, test_size = 0.11111111111, random_state=123)\n",
    "\n",
    "X_train.shape, Y_train.shape, X_val.shape, Y_val.shape, X_test.shape, Y_test.shape"
   ]
  },
  {
   "cell_type": "code",
   "execution_count": 7,
   "id": "375e07f2",
   "metadata": {
    "execution": {
     "iopub.execute_input": "2023-07-08T12:01:14.038647Z",
     "iopub.status.busy": "2023-07-08T12:01:14.038191Z",
     "iopub.status.idle": "2023-07-08T12:01:14.041923Z",
     "shell.execute_reply": "2023-07-08T12:01:14.041183Z"
    },
    "papermill": {
     "duration": 0.013169,
     "end_time": "2023-07-08T12:01:14.043694",
     "exception": false,
     "start_time": "2023-07-08T12:01:14.030525",
     "status": "completed"
    },
    "tags": []
   },
   "outputs": [],
   "source": [
    "# Utility function: plot model's accuracy and loss\n",
    "\n",
    "plt.style.use('seaborn-v0_8-paper')\n",
    "\n",
    "def plot_history(history):\n",
    "  binary_accuracy = history.history['binary_accuracy']\n",
    "  val_binary_accuracy = history.history['val_binary_accuracy']\n",
    "  loss = history.history['loss']\n",
    "  val_loss = history.history['val_loss']\n",
    "  x = range(1, len(binary_accuracy) + 1)\n",
    "\n",
    "  plt.figure(figsize=(12, 5))\n",
    "  plt.subplot(1, 2, 1)\n",
    "  plt.plot(x[2:], binary_accuracy[2:], 'b', label='Training acc')\n",
    "  plt.plot(x[2:], val_binary_accuracy[2:], 'r', label='Validation acc')\n",
    "  plt.title('Training and validation accuracy')\n",
    "  plt.legend()\n",
    "\n",
    "  plt.subplot(1, 2, 2)\n",
    "  plt.plot(x[2:], loss[2:], 'b', label='Training loss')\n",
    "  plt.plot(x[2:], val_loss[2:], 'r', label='Validation loss')\n",
    "  plt.title('Training and validation loss')\n",
    "  plt.legend()"
   ]
  },
  {
   "cell_type": "code",
   "execution_count": 8,
   "id": "5367e6fb",
   "metadata": {
    "execution": {
     "iopub.execute_input": "2023-07-08T12:01:14.058219Z",
     "iopub.status.busy": "2023-07-08T12:01:14.057953Z",
     "iopub.status.idle": "2023-07-08T12:01:14.062047Z",
     "shell.execute_reply": "2023-07-08T12:01:14.061199Z"
    },
    "papermill": {
     "duration": 0.01346,
     "end_time": "2023-07-08T12:01:14.063879",
     "exception": false,
     "start_time": "2023-07-08T12:01:14.050419",
     "status": "completed"
    },
    "tags": []
   },
   "outputs": [],
   "source": [
    "# Utility function: Display model score(Loss & Accuracy) across all sets.\n",
    "\n",
    "def display_model_score(model, train, val, test, batch_size):\n",
    "\n",
    "  train_score = model.evaluate(train[0], train[1], batch_size=batch_size, verbose=1)\n",
    "  print('Train loss: ', train_score[0])\n",
    "  print('Train binary_accuracy: ', train_score[1])\n",
    "  print('-'*70)\n",
    "\n",
    "  val_score = model.evaluate(val[0], val[1], batch_size=batch_size, verbose=1)\n",
    "  print('Val loss: ', val_score[0])\n",
    "  print('Val binary_accuracy: ', val_score[1])\n",
    "  print('-'*70)\n",
    "  \n",
    "  test_score = model.evaluate(test[0], test[1], batch_size=batch_size, verbose=1)\n",
    "  print('Test loss: ', test_score[0])\n",
    "  print('Test binary_accuracy: ', test_score[1])"
   ]
  },
  {
   "cell_type": "code",
   "execution_count": 9,
   "id": "51ab33e2",
   "metadata": {
    "execution": {
     "iopub.execute_input": "2023-07-08T12:01:14.078593Z",
     "iopub.status.busy": "2023-07-08T12:01:14.078311Z",
     "iopub.status.idle": "2023-07-08T12:01:14.082638Z",
     "shell.execute_reply": "2023-07-08T12:01:14.081788Z"
    },
    "papermill": {
     "duration": 0.01398,
     "end_time": "2023-07-08T12:01:14.084498",
     "exception": false,
     "start_time": "2023-07-08T12:01:14.070518",
     "status": "completed"
    },
    "tags": []
   },
   "outputs": [],
   "source": [
    "def residual_block(data, filters, d_rate):\n",
    "  \"\"\"\n",
    "  _data: input\n",
    "  _filters: convolution filters\n",
    "  _d_rate: dilation rate\n",
    "  \"\"\"\n",
    "\n",
    "  shortcut = data\n",
    "\n",
    "  bn1 = BatchNormalization()(data)\n",
    "  act1 = Activation('relu')(bn1)\n",
    "  conv1 = Conv1D(filters, 1, dilation_rate=d_rate, padding='same', kernel_regularizer=l2(0.001))(act1)\n",
    "\n",
    "  #bottleneck convolution\n",
    "  bn2 = BatchNormalization()(conv1)\n",
    "  act2 = Activation('relu')(bn2)\n",
    "  conv2 = Conv1D(filters, 3, padding='same', kernel_regularizer=l2(0.001))(act2)\n",
    "\n",
    "  #skip connection\n",
    "  x = Add()([conv2, shortcut])\n",
    "\n",
    "  return x"
   ]
  },
  {
   "cell_type": "code",
   "execution_count": 10,
   "id": "2f1193b6",
   "metadata": {
    "execution": {
     "iopub.execute_input": "2023-07-08T12:01:14.099372Z",
     "iopub.status.busy": "2023-07-08T12:01:14.099101Z",
     "iopub.status.idle": "2023-07-08T12:01:14.103108Z",
     "shell.execute_reply": "2023-07-08T12:01:14.102229Z"
    },
    "papermill": {
     "duration": 0.013692,
     "end_time": "2023-07-08T12:01:14.104942",
     "exception": false,
     "start_time": "2023-07-08T12:01:14.091250",
     "status": "completed"
    },
    "tags": []
   },
   "outputs": [],
   "source": [
    "# model\n",
    "\n",
    "x_input = Input(shape=(750, 25))\n",
    "\n",
    "#initial conv\n",
    "conv = Conv1D(256, 1, padding='same')(x_input)\n",
    "\n",
    "# per-residue representation\n",
    "res1 = residual_block(conv, 256, 2)\n",
    "res2 = residual_block(res1, 256, 3)\n",
    "\n",
    "x = MaxPooling1D(3)(res2)\n",
    "x = Dropout(0.5)(x)\n",
    "\n",
    "# softmax classifier\n",
    "x = Flatten()(x)\n",
    "x_output = Dense(1500, activation='sigmoid', kernel_regularizer=l2(0.0001))(x)\n",
    "\n",
    "model_CNN = Model(inputs=x_input, outputs=x_output)\n",
    "model_CNN.compile(optimizer='adam', loss='binary_crossentropy', metrics=['binary_accuracy'])\n",
    "\n",
    "model_CNN.summary()\n"
   ]
  },
  {
   "cell_type": "code",
   "execution_count": 11,
   "id": "44c43793",
   "metadata": {
    "execution": {
     "iopub.execute_input": "2023-07-08T12:01:14.119719Z",
     "iopub.status.busy": "2023-07-08T12:01:14.119421Z",
     "iopub.status.idle": "2023-07-08T12:01:14.123296Z",
     "shell.execute_reply": "2023-07-08T12:01:14.122381Z"
    },
    "papermill": {
     "duration": 0.013437,
     "end_time": "2023-07-08T12:01:14.125108",
     "exception": false,
     "start_time": "2023-07-08T12:01:14.111671",
     "status": "completed"
    },
    "tags": []
   },
   "outputs": [],
   "source": [
    "# Early Stopping\n",
    "es = EarlyStopping(monitor='val_loss', patience=3, verbose=1)"
   ]
  },
  {
   "cell_type": "code",
   "execution_count": 12,
   "id": "e01f0f8d",
   "metadata": {
    "execution": {
     "iopub.execute_input": "2023-07-08T12:01:14.140424Z",
     "iopub.status.busy": "2023-07-08T12:01:14.140123Z",
     "iopub.status.idle": "2023-07-08T12:01:14.144013Z",
     "shell.execute_reply": "2023-07-08T12:01:14.143090Z"
    },
    "papermill": {
     "duration": 0.013524,
     "end_time": "2023-07-08T12:01:14.145802",
     "exception": false,
     "start_time": "2023-07-08T12:01:14.132278",
     "status": "completed"
    },
    "tags": []
   },
   "outputs": [],
   "source": [
    "history = model_CNN.fit(\n",
    "    X_train, Y_train,\n",
    "    epochs=10, batch_size=256,\n",
    "    validation_data= (X_val,Y_val),\n",
    "    callbacks=[es]\n",
    "    )"
   ]
  },
  {
   "cell_type": "code",
   "execution_count": 13,
   "id": "8ef323bc",
   "metadata": {
    "execution": {
     "iopub.execute_input": "2023-07-08T12:01:14.160896Z",
     "iopub.status.busy": "2023-07-08T12:01:14.160606Z",
     "iopub.status.idle": "2023-07-08T12:01:14.164127Z",
     "shell.execute_reply": "2023-07-08T12:01:14.163218Z"
    },
    "papermill": {
     "duration": 0.013228,
     "end_time": "2023-07-08T12:01:14.165944",
     "exception": false,
     "start_time": "2023-07-08T12:01:14.152716",
     "status": "completed"
    },
    "tags": []
   },
   "outputs": [],
   "source": [
    "# saving model weights.\n",
    "model_CNN.save_weights('model_CNN.h5')"
   ]
  },
  {
   "cell_type": "code",
   "execution_count": 14,
   "id": "8b8ff496",
   "metadata": {
    "execution": {
     "iopub.execute_input": "2023-07-08T12:01:14.181233Z",
     "iopub.status.busy": "2023-07-08T12:01:14.180949Z",
     "iopub.status.idle": "2023-07-08T12:01:14.184905Z",
     "shell.execute_reply": "2023-07-08T12:01:14.183927Z"
    },
    "papermill": {
     "duration": 0.013626,
     "end_time": "2023-07-08T12:01:14.186681",
     "exception": false,
     "start_time": "2023-07-08T12:01:14.173055",
     "status": "completed"
    },
    "tags": []
   },
   "outputs": [],
   "source": [
    "plot_history(history)"
   ]
  },
  {
   "cell_type": "code",
   "execution_count": 15,
   "id": "729e25d2",
   "metadata": {
    "execution": {
     "iopub.execute_input": "2023-07-08T12:01:14.202601Z",
     "iopub.status.busy": "2023-07-08T12:01:14.202351Z",
     "iopub.status.idle": "2023-07-08T12:01:14.205986Z",
     "shell.execute_reply": "2023-07-08T12:01:14.205155Z"
    },
    "papermill": {
     "duration": 0.014222,
     "end_time": "2023-07-08T12:01:14.207978",
     "exception": false,
     "start_time": "2023-07-08T12:01:14.193756",
     "status": "completed"
    },
    "tags": []
   },
   "outputs": [],
   "source": [
    "display_model_score(\n",
    "    model_CNN,\n",
    "    [X_train, Y_train],\n",
    "    [X_val, Y_val],\n",
    "    [X_test, Y_test],\n",
    "    256)"
   ]
  },
  {
   "cell_type": "code",
   "execution_count": 16,
   "id": "2149221a",
   "metadata": {
    "execution": {
     "iopub.execute_input": "2023-07-08T12:01:14.224287Z",
     "iopub.status.busy": "2023-07-08T12:01:14.224020Z",
     "iopub.status.idle": "2023-07-08T12:01:14.227366Z",
     "shell.execute_reply": "2023-07-08T12:01:14.226591Z"
    },
    "papermill": {
     "duration": 0.013376,
     "end_time": "2023-07-08T12:01:14.228993",
     "exception": false,
     "start_time": "2023-07-08T12:01:14.215617",
     "status": "completed"
    },
    "tags": []
   },
   "outputs": [],
   "source": [
    "from sklearn.metrics import hamming_loss\n",
    "pred_tn = np.round(model_CNN.predict(X_train))\n",
    "print(f'Hamming Loss On Training Set = {hamming_loss(Y_train, pred_tn)}')\n",
    "pred_tt = np.round(model_CNN.predict(X_test))\n",
    "print(f'Hamming Loss On Test Set = {hamming_loss(Y_test, pred_tt)}')\n",
    "pred_val = np.round(model_CNN.predict(X_val))\n",
    "print(f'Hamming Loss On Validation Set = {hamming_loss(Y_val, pred_val)}')"
   ]
  },
  {
   "cell_type": "code",
   "execution_count": 17,
   "id": "73dc8cc3",
   "metadata": {
    "execution": {
     "iopub.execute_input": "2023-07-08T12:01:14.244820Z",
     "iopub.status.busy": "2023-07-08T12:01:14.244537Z",
     "iopub.status.idle": "2023-07-08T12:01:14.248296Z",
     "shell.execute_reply": "2023-07-08T12:01:14.247446Z"
    },
    "papermill": {
     "duration": 0.013668,
     "end_time": "2023-07-08T12:01:14.250070",
     "exception": false,
     "start_time": "2023-07-08T12:01:14.236402",
     "status": "completed"
    },
    "tags": []
   },
   "outputs": [],
   "source": [
    "max_seq = 0\n",
    "test_encoder = ProteinsOneHotEncoder(\n",
    "    id_file = '/kaggle/input/t5embeds/test_ids.npy',\n",
    "    fasta_file = '/kaggle/input/cafa-5-protein-function-prediction/Test (Targets)/testsuperset.fasta',\n",
    "    max_sequences = max_seq\n",
    ")\n",
    "test_encodings = test_encoder.encode_data()"
   ]
  },
  {
   "cell_type": "code",
   "execution_count": 18,
   "id": "de3dee99",
   "metadata": {
    "execution": {
     "iopub.execute_input": "2023-07-08T12:01:14.266217Z",
     "iopub.status.busy": "2023-07-08T12:01:14.265963Z",
     "iopub.status.idle": "2023-07-08T12:01:14.269748Z",
     "shell.execute_reply": "2023-07-08T12:01:14.268811Z"
    },
    "papermill": {
     "duration": 0.014067,
     "end_time": "2023-07-08T12:01:14.271541",
     "exception": false,
     "start_time": "2023-07-08T12:01:14.257474",
     "status": "completed"
    },
    "tags": []
   },
   "outputs": [],
   "source": [
    "np.save('test_proteins_retained.npy', test_encoder.retained_proteins)"
   ]
  },
  {
   "cell_type": "code",
   "execution_count": 19,
   "id": "61a960e9",
   "metadata": {
    "execution": {
     "iopub.execute_input": "2023-07-08T12:01:14.287870Z",
     "iopub.status.busy": "2023-07-08T12:01:14.287557Z",
     "iopub.status.idle": "2023-07-08T12:01:14.291478Z",
     "shell.execute_reply": "2023-07-08T12:01:14.290645Z"
    },
    "papermill": {
     "duration": 0.014103,
     "end_time": "2023-07-08T12:01:14.293293",
     "exception": false,
     "start_time": "2023-07-08T12:01:14.279190",
     "status": "completed"
    },
    "tags": []
   },
   "outputs": [],
   "source": [
    "model_CNN.load_weights('/kaggle/input/train-labels-cafa5/model_CNN.h5')"
   ]
  },
  {
   "cell_type": "code",
   "execution_count": 20,
   "id": "66fcb454",
   "metadata": {
    "execution": {
     "iopub.execute_input": "2023-07-08T12:01:14.310144Z",
     "iopub.status.busy": "2023-07-08T12:01:14.309871Z",
     "iopub.status.idle": "2023-07-08T12:01:14.313797Z",
     "shell.execute_reply": "2023-07-08T12:01:14.312836Z"
    },
    "papermill": {
     "duration": 0.014406,
     "end_time": "2023-07-08T12:01:14.315677",
     "exception": false,
     "start_time": "2023-07-08T12:01:14.301271",
     "status": "completed"
    },
    "tags": []
   },
   "outputs": [],
   "source": [
    "predictions = model_CNN.predict(test_encodings)"
   ]
  },
  {
   "cell_type": "code",
   "execution_count": 21,
   "id": "25352023",
   "metadata": {
    "execution": {
     "iopub.execute_input": "2023-07-08T12:01:14.332538Z",
     "iopub.status.busy": "2023-07-08T12:01:14.332270Z",
     "iopub.status.idle": "2023-07-08T12:01:14.338253Z",
     "shell.execute_reply": "2023-07-08T12:01:14.335466Z"
    },
    "papermill": {
     "duration": 0.016449,
     "end_time": "2023-07-08T12:01:14.340051",
     "exception": false,
     "start_time": "2023-07-08T12:01:14.323602",
     "status": "completed"
    },
    "tags": []
   },
   "outputs": [],
   "source": [
    "np.save('predictions_CNN.npy', predictions)"
   ]
  },
  {
   "cell_type": "code",
   "execution_count": 22,
   "id": "fc8d68ee",
   "metadata": {
    "execution": {
     "iopub.execute_input": "2023-07-08T12:01:14.356476Z",
     "iopub.status.busy": "2023-07-08T12:01:14.356203Z",
     "iopub.status.idle": "2023-07-08T12:01:19.613159Z",
     "shell.execute_reply": "2023-07-08T12:01:19.612258Z"
    },
    "papermill": {
     "duration": 5.267733,
     "end_time": "2023-07-08T12:01:19.615538",
     "exception": false,
     "start_time": "2023-07-08T12:01:14.347805",
     "status": "completed"
    },
    "tags": []
   },
   "outputs": [],
   "source": [
    "predictions = np.load('/kaggle/input/cafa-5-cnn/predictions_CNN.npy')"
   ]
  },
  {
   "cell_type": "code",
   "execution_count": 23,
   "id": "523d3679",
   "metadata": {
    "execution": {
     "iopub.execute_input": "2023-07-08T12:01:19.634328Z",
     "iopub.status.busy": "2023-07-08T12:01:19.634011Z",
     "iopub.status.idle": "2023-07-08T12:01:19.646204Z",
     "shell.execute_reply": "2023-07-08T12:01:19.645590Z"
    },
    "papermill": {
     "duration": 0.023664,
     "end_time": "2023-07-08T12:01:19.648250",
     "exception": false,
     "start_time": "2023-07-08T12:01:19.624586",
     "status": "completed"
    },
    "tags": []
   },
   "outputs": [],
   "source": [
    "labels = np.load('/kaggle/input/train-labels-cafa5/top_1500_labels.npy',allow_pickle=True)\n",
    "slice_ = np.load('/kaggle/input/train-labels-cafa5/test_proteins_retained.npy')"
   ]
  },
  {
   "cell_type": "code",
   "execution_count": 24,
   "id": "4eab35dc",
   "metadata": {
    "execution": {
     "iopub.execute_input": "2023-07-08T12:01:19.664678Z",
     "iopub.status.busy": "2023-07-08T12:01:19.664372Z",
     "iopub.status.idle": "2023-07-08T12:01:19.725477Z",
     "shell.execute_reply": "2023-07-08T12:01:19.724609Z"
    },
    "papermill": {
     "duration": 0.071541,
     "end_time": "2023-07-08T12:01:19.727583",
     "exception": false,
     "start_time": "2023-07-08T12:01:19.656042",
     "status": "completed"
    },
    "tags": []
   },
   "outputs": [],
   "source": [
    "test_ids = np.load('/kaggle/input/t5embeds/test_ids.npy')\n",
    "test_protein_ids = test_ids[slice_]"
   ]
  },
  {
   "cell_type": "code",
   "execution_count": 25,
   "id": "fc8a7a67",
   "metadata": {
    "execution": {
     "iopub.execute_input": "2023-07-08T12:01:19.744084Z",
     "iopub.status.busy": "2023-07-08T12:01:19.743760Z",
     "iopub.status.idle": "2023-07-08T12:01:21.993948Z",
     "shell.execute_reply": "2023-07-08T12:01:21.992900Z"
    },
    "papermill": {
     "duration": 2.260623,
     "end_time": "2023-07-08T12:01:21.996056",
     "exception": false,
     "start_time": "2023-07-08T12:01:19.735433",
     "status": "completed"
    },
    "tags": []
   },
   "outputs": [
    {
     "name": "stderr",
     "output_type": "stream",
     "text": [
      "100%|██████████| 123639/123639 [00:02<00:00, 56633.88it/s]\n"
     ]
    }
   ],
   "source": [
    "l = []\n",
    "for k in tqdm(list(test_protein_ids)):\n",
    "    l += [ k] * predictions.shape[1]"
   ]
  },
  {
   "cell_type": "code",
   "execution_count": 26,
   "id": "3bf01b38",
   "metadata": {
    "execution": {
     "iopub.execute_input": "2023-07-08T12:01:22.017011Z",
     "iopub.status.busy": "2023-07-08T12:01:22.016696Z",
     "iopub.status.idle": "2023-07-08T12:01:44.410649Z",
     "shell.execute_reply": "2023-07-08T12:01:44.409593Z"
    },
    "papermill": {
     "duration": 22.407419,
     "end_time": "2023-07-08T12:01:44.413267",
     "exception": false,
     "start_time": "2023-07-08T12:01:22.005848",
     "status": "completed"
    },
    "tags": []
   },
   "outputs": [],
   "source": [
    "df_submission = pd.DataFrame(\n",
    "    {\n",
    "        'Protein ID': l,\n",
    "        'GO Term ID': np.tile(labels, predictions.shape[0]),\n",
    "        'Prediction': np.round(predictions.ravel(),3)\n",
    "    }\n",
    ")"
   ]
  },
  {
   "cell_type": "code",
   "execution_count": 27,
   "id": "7c86cac0",
   "metadata": {
    "execution": {
     "iopub.execute_input": "2023-07-08T12:01:44.435146Z",
     "iopub.status.busy": "2023-07-08T12:01:44.434077Z",
     "iopub.status.idle": "2023-07-08T12:01:45.119715Z",
     "shell.execute_reply": "2023-07-08T12:01:45.118558Z"
    },
    "papermill": {
     "duration": 0.698693,
     "end_time": "2023-07-08T12:01:45.122124",
     "exception": false,
     "start_time": "2023-07-08T12:01:44.423431",
     "status": "completed"
    },
    "tags": []
   },
   "outputs": [
    {
     "data": {
      "text/html": [
       "<div>\n",
       "<style scoped>\n",
       "    .dataframe tbody tr th:only-of-type {\n",
       "        vertical-align: middle;\n",
       "    }\n",
       "\n",
       "    .dataframe tbody tr th {\n",
       "        vertical-align: top;\n",
       "    }\n",
       "\n",
       "    .dataframe thead th {\n",
       "        text-align: right;\n",
       "    }\n",
       "</style>\n",
       "<table border=\"1\" class=\"dataframe\">\n",
       "  <thead>\n",
       "    <tr style=\"text-align: right;\">\n",
       "      <th></th>\n",
       "      <th>Protein ID</th>\n",
       "      <th>GO Term ID</th>\n",
       "      <th>Prediction</th>\n",
       "    </tr>\n",
       "  </thead>\n",
       "  <tbody>\n",
       "    <tr>\n",
       "      <th>0</th>\n",
       "      <td>Q9CQV8</td>\n",
       "      <td>GO:0005575</td>\n",
       "      <td>0.744</td>\n",
       "    </tr>\n",
       "    <tr>\n",
       "      <th>1</th>\n",
       "      <td>Q9CQV8</td>\n",
       "      <td>GO:0008150</td>\n",
       "      <td>0.715</td>\n",
       "    </tr>\n",
       "    <tr>\n",
       "      <th>2</th>\n",
       "      <td>Q9CQV8</td>\n",
       "      <td>GO:0110165</td>\n",
       "      <td>0.762</td>\n",
       "    </tr>\n",
       "    <tr>\n",
       "      <th>3</th>\n",
       "      <td>Q9CQV8</td>\n",
       "      <td>GO:0003674</td>\n",
       "      <td>0.624</td>\n",
       "    </tr>\n",
       "    <tr>\n",
       "      <th>4</th>\n",
       "      <td>Q9CQV8</td>\n",
       "      <td>GO:0005622</td>\n",
       "      <td>0.796</td>\n",
       "    </tr>\n",
       "  </tbody>\n",
       "</table>\n",
       "</div>"
      ],
      "text/plain": [
       "  Protein ID  GO Term ID  Prediction\n",
       "0     Q9CQV8  GO:0005575       0.744\n",
       "1     Q9CQV8  GO:0008150       0.715\n",
       "2     Q9CQV8  GO:0110165       0.762\n",
       "3     Q9CQV8  GO:0003674       0.624\n",
       "4     Q9CQV8  GO:0005622       0.796"
      ]
     },
     "execution_count": 27,
     "metadata": {},
     "output_type": "execute_result"
    }
   ],
   "source": [
    "df_submission.head()"
   ]
  },
  {
   "cell_type": "code",
   "execution_count": 28,
   "id": "60755d94",
   "metadata": {
    "execution": {
     "iopub.execute_input": "2023-07-08T12:01:45.144339Z",
     "iopub.status.busy": "2023-07-08T12:01:45.143515Z",
     "iopub.status.idle": "2023-07-08T12:12:28.455414Z",
     "shell.execute_reply": "2023-07-08T12:12:28.454081Z"
    },
    "papermill": {
     "duration": 643.325801,
     "end_time": "2023-07-08T12:12:28.458288",
     "exception": false,
     "start_time": "2023-07-08T12:01:45.132487",
     "status": "completed"
    },
    "tags": []
   },
   "outputs": [],
   "source": [
    "df_submission.to_csv('submission.tsv', sep='\\t', header=None, index= None)"
   ]
  }
 ],
 "metadata": {
  "kernelspec": {
   "display_name": "Python 3",
   "language": "python",
   "name": "python3"
  },
  "language_info": {
   "codemirror_mode": {
    "name": "ipython",
    "version": 3
   },
   "file_extension": ".py",
   "mimetype": "text/x-python",
   "name": "python",
   "nbconvert_exporter": "python",
   "pygments_lexer": "ipython3",
   "version": "3.10.10"
  },
  "papermill": {
   "default_parameters": {},
   "duration": 688.631801,
   "end_time": "2023-07-08T12:12:31.290553",
   "environment_variables": {},
   "exception": null,
   "input_path": "__notebook__.ipynb",
   "output_path": "__notebook__.ipynb",
   "parameters": {},
   "start_time": "2023-07-08T12:01:02.658752",
   "version": "2.4.0"
  }
 },
 "nbformat": 4,
 "nbformat_minor": 5
}
