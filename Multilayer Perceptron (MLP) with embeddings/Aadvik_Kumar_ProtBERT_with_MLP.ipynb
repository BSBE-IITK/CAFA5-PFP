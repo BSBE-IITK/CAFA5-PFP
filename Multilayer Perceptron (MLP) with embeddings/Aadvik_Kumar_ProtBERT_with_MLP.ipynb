{
 "cells": [
  {
   "cell_type": "code",
   "execution_count": 1,
   "id": "a144e1f6",
   "metadata": {
    "_cell_guid": "b1076dfc-b9ad-4769-8c92-a6c4dae69d19",
    "_uuid": "8f2839f25d086af736a60e9eeb907d3b93b6e0e5",
    "execution": {
     "iopub.execute_input": "2023-07-04T17:28:36.587184Z",
     "iopub.status.busy": "2023-07-04T17:28:36.586752Z",
     "iopub.status.idle": "2023-07-04T17:28:36.782146Z",
     "shell.execute_reply": "2023-07-04T17:28:36.781304Z"
    },
    "papermill": {
     "duration": 0.206067,
     "end_time": "2023-07-04T17:28:36.784283",
     "exception": false,
     "start_time": "2023-07-04T17:28:36.578216",
     "status": "completed"
    },
    "tags": []
   },
   "outputs": [],
   "source": [
    "from Bio import SeqIO\n",
    "import pandas as pd"
   ]
  },
  {
   "cell_type": "code",
   "execution_count": 2,
   "id": "12c4053f",
   "metadata": {
    "execution": {
     "iopub.execute_input": "2023-07-04T17:28:36.799932Z",
     "iopub.status.busy": "2023-07-04T17:28:36.799161Z",
     "iopub.status.idle": "2023-07-04T17:29:03.773357Z",
     "shell.execute_reply": "2023-07-04T17:29:03.771596Z"
    },
    "papermill": {
     "duration": 26.985886,
     "end_time": "2023-07-04T17:29:03.777257",
     "exception": false,
     "start_time": "2023-07-04T17:28:36.791371",
     "status": "completed"
    },
    "tags": []
   },
   "outputs": [
    {
     "name": "stderr",
     "output_type": "stream",
     "text": [
      "/opt/conda/lib/python3.10/site-packages/tensorflow_io/python/ops/__init__.py:98: UserWarning: unable to load libtensorflow_io_plugins.so: unable to open file: libtensorflow_io_plugins.so, from paths: ['/opt/conda/lib/python3.10/site-packages/tensorflow_io/python/ops/libtensorflow_io_plugins.so']\n",
      "caused by: ['/opt/conda/lib/python3.10/site-packages/tensorflow_io/python/ops/libtensorflow_io_plugins.so: undefined symbol: _ZN3tsl6StatusC1EN10tensorflow5error4CodeESt17basic_string_viewIcSt11char_traitsIcEENS_14SourceLocationE']\n",
      "  warnings.warn(f\"unable to load libtensorflow_io_plugins.so: {e}\")\n",
      "/opt/conda/lib/python3.10/site-packages/tensorflow_io/python/ops/__init__.py:104: UserWarning: file system plugins are not loaded: unable to open file: libtensorflow_io.so, from paths: ['/opt/conda/lib/python3.10/site-packages/tensorflow_io/python/ops/libtensorflow_io.so']\n",
      "caused by: ['/opt/conda/lib/python3.10/site-packages/tensorflow_io/python/ops/libtensorflow_io.so: undefined symbol: _ZTVN10tensorflow13GcsFileSystemE']\n",
      "  warnings.warn(f\"file system plugins are not loaded: {e}\")\n"
     ]
    },
    {
     "name": "stdout",
     "output_type": "stream",
     "text": [
      "/kaggle/input/protbert-embeddings-for-cafa5/train_ids.npy\n",
      "/kaggle/input/protbert-embeddings-for-cafa5/train_embeddings.npy\n",
      "/kaggle/input/protbert-embeddings-for-cafa5/test_ids.npy\n",
      "/kaggle/input/protbert-embeddings-for-cafa5/test_embeddings.npy\n",
      "/kaggle/input/proteinet-pytorch-ems2-t5-protbert-embeddings/submission.tsv\n",
      "/kaggle/input/proteinet-pytorch-ems2-t5-protbert-embeddings/__results__.html\n",
      "/kaggle/input/proteinet-pytorch-ems2-t5-protbert-embeddings/__resultx__.html\n",
      "/kaggle/input/proteinet-pytorch-ems2-t5-protbert-embeddings/__notebook__.ipynb\n",
      "/kaggle/input/proteinet-pytorch-ems2-t5-protbert-embeddings/__output__.json\n",
      "/kaggle/input/proteinet-pytorch-ems2-t5-protbert-embeddings/custom.css\n",
      "/kaggle/input/proteinet-pytorch-ems2-t5-protbert-embeddings/__results___files/__results___36_0.png\n",
      "/kaggle/input/proteinet-pytorch-ems2-t5-protbert-embeddings/__results___files/__results___36_1.png\n",
      "/kaggle/input/cafa-5-protein-function-prediction/sample_submission.tsv\n",
      "/kaggle/input/cafa-5-protein-function-prediction/IA.txt\n",
      "/kaggle/input/cafa-5-protein-function-prediction/Test (Targets)/testsuperset.fasta\n",
      "/kaggle/input/cafa-5-protein-function-prediction/Test (Targets)/testsuperset-taxon-list.tsv\n",
      "/kaggle/input/cafa-5-protein-function-prediction/Train/train_terms.tsv\n",
      "/kaggle/input/cafa-5-protein-function-prediction/Train/train_sequences.fasta\n",
      "/kaggle/input/cafa-5-protein-function-prediction/Train/train_taxonomy.tsv\n",
      "/kaggle/input/cafa-5-protein-function-prediction/Train/go-basic.obo\n"
     ]
    }
   ],
   "source": [
    "MAIN_DIR = \"/kaggle/input/cafa-5-protein-function-prediction\"\n",
    "\n",
    "# UTILITARIES\n",
    "import numpy as np\n",
    "from tqdm import tqdm\n",
    "import time\n",
    "import matplotlib.pyplot as plt\n",
    "plt.style.use('ggplot')\n",
    "\n",
    "# TORCH MODULES FOR METRICS COMPUTATION :\n",
    "import torch\n",
    "from torch.utils.data import Dataset\n",
    "from torch import nn\n",
    "from torch.utils.data import random_split\n",
    "from torch.optim.lr_scheduler import ReduceLROnPlateau\n",
    "from torchmetrics.classification import MultilabelF1Score\n",
    "from torchmetrics.classification import MultilabelAccuracy\n",
    "\n",
    "import pytorch_lightning as pl\n",
    "from pytorch_lightning import Trainer\n",
    "from pytorch_lightning.loggers import WandbLogger\n",
    "\n",
    "# WANDB FOR LIGHTNING :\n",
    "import wandb\n",
    "\n",
    "# FILES VISUALIZATION\n",
    "import os\n",
    "for dirname, _, filenames in os.walk('/kaggle/input'):\n",
    "    for filename in filenames:\n",
    "        print(os.path.join(dirname, filename))"
   ]
  },
  {
   "cell_type": "code",
   "execution_count": 3,
   "id": "ae7c8dea",
   "metadata": {
    "execution": {
     "iopub.execute_input": "2023-07-04T17:29:03.795504Z",
     "iopub.status.busy": "2023-07-04T17:29:03.795202Z",
     "iopub.status.idle": "2023-07-04T17:29:03.815756Z",
     "shell.execute_reply": "2023-07-04T17:29:03.814848Z"
    },
    "papermill": {
     "duration": 0.030971,
     "end_time": "2023-07-04T17:29:03.817873",
     "exception": false,
     "start_time": "2023-07-04T17:29:03.786902",
     "status": "completed"
    },
    "tags": []
   },
   "outputs": [],
   "source": [
    "class config:\n",
    "    train_sequences_path = MAIN_DIR  + \"/Train/train_sequences.fasta\"\n",
    "    train_labels_path = MAIN_DIR + \"/Train/train_terms.tsv\"\n",
    "    test_sequences_path = MAIN_DIR + \"/Test (Targets)/testsuperset.fasta\"\n",
    "    \n",
    "    num_labels = 500\n",
    "    n_epochs = 18\n",
    "    batch_size = 128\n",
    "    lr = 0.01\n",
    "    \n",
    "    device = torch.device('cuda' if torch.cuda.is_available() else 'cpu')"
   ]
  },
  {
   "cell_type": "code",
   "execution_count": 4,
   "id": "72a16939",
   "metadata": {
    "execution": {
     "iopub.execute_input": "2023-07-04T17:29:03.834045Z",
     "iopub.status.busy": "2023-07-04T17:29:03.833299Z",
     "iopub.status.idle": "2023-07-04T17:29:37.000256Z",
     "shell.execute_reply": "2023-07-04T17:29:36.999265Z"
    },
    "papermill": {
     "duration": 33.177295,
     "end_time": "2023-07-04T17:29:37.002556",
     "exception": false,
     "start_time": "2023-07-04T17:29:03.825261",
     "status": "completed"
    },
    "tags": []
   },
   "outputs": [
    {
     "name": "stdout",
     "output_type": "stream",
     "text": [
      "Load ProtBERT Model...\n"
     ]
    },
    {
     "data": {
      "application/vnd.jupyter.widget-view+json": {
       "model_id": "dd1cc3fffe6d474ebd58d486aafc8ee8",
       "version_major": 2,
       "version_minor": 0
      },
      "text/plain": [
       "Downloading (…)solve/main/vocab.txt:   0%|          | 0.00/81.0 [00:00<?, ?B/s]"
      ]
     },
     "metadata": {},
     "output_type": "display_data"
    },
    {
     "data": {
      "application/vnd.jupyter.widget-view+json": {
       "model_id": "7ea5c1f9977048a3b2b34031be0eb863",
       "version_major": 2,
       "version_minor": 0
      },
      "text/plain": [
       "Downloading (…)cial_tokens_map.json:   0%|          | 0.00/112 [00:00<?, ?B/s]"
      ]
     },
     "metadata": {},
     "output_type": "display_data"
    },
    {
     "data": {
      "application/vnd.jupyter.widget-view+json": {
       "model_id": "3bf011e9764d44e0a9c24758593468fe",
       "version_major": 2,
       "version_minor": 0
      },
      "text/plain": [
       "Downloading (…)okenizer_config.json:   0%|          | 0.00/86.0 [00:00<?, ?B/s]"
      ]
     },
     "metadata": {},
     "output_type": "display_data"
    },
    {
     "data": {
      "application/vnd.jupyter.widget-view+json": {
       "model_id": "051293b6b17d477bb22d14d199203daf",
       "version_major": 2,
       "version_minor": 0
      },
      "text/plain": [
       "Downloading (…)lve/main/config.json:   0%|          | 0.00/361 [00:00<?, ?B/s]"
      ]
     },
     "metadata": {},
     "output_type": "display_data"
    },
    {
     "data": {
      "application/vnd.jupyter.widget-view+json": {
       "model_id": "0be062ceb585411f89e3671128e542f0",
       "version_major": 2,
       "version_minor": 0
      },
      "text/plain": [
       "Downloading pytorch_model.bin:   0%|          | 0.00/1.68G [00:00<?, ?B/s]"
      ]
     },
     "metadata": {},
     "output_type": "display_data"
    },
    {
     "name": "stderr",
     "output_type": "stream",
     "text": [
      "Some weights of the model checkpoint at Rostlab/prot_bert were not used when initializing BertModel: ['cls.predictions.decoder.bias', 'cls.predictions.transform.dense.bias', 'cls.seq_relationship.weight', 'cls.seq_relationship.bias', 'cls.predictions.bias', 'cls.predictions.transform.LayerNorm.bias', 'cls.predictions.transform.dense.weight', 'cls.predictions.decoder.weight', 'cls.predictions.transform.LayerNorm.weight']\n",
      "- This IS expected if you are initializing BertModel from the checkpoint of a model trained on another task or with another architecture (e.g. initializing a BertForSequenceClassification model from a BertForPreTraining model).\n",
      "- This IS NOT expected if you are initializing BertModel from the checkpoint of a model that you expect to be exactly identical (initializing a BertForSequenceClassification model from a BertForSequenceClassification model).\n"
     ]
    }
   ],
   "source": [
    "print(\"Load ProtBERT Model...\")\n",
    "# PROT BERT LOADING :\n",
    "from transformers import BertModel, BertTokenizer\n",
    "tokenizer = BertTokenizer.from_pretrained(\"Rostlab/prot_bert\", do_lower_case=False )\n",
    "model = BertModel.from_pretrained(\"Rostlab/prot_bert\").to(config.device)"
   ]
  },
  {
   "cell_type": "code",
   "execution_count": 5,
   "id": "57e9a574",
   "metadata": {
    "execution": {
     "iopub.execute_input": "2023-07-04T17:29:37.020584Z",
     "iopub.status.busy": "2023-07-04T17:29:37.020271Z",
     "iopub.status.idle": "2023-07-04T17:29:37.024972Z",
     "shell.execute_reply": "2023-07-04T17:29:37.024069Z"
    },
    "papermill": {
     "duration": 0.016152,
     "end_time": "2023-07-04T17:29:37.027078",
     "exception": false,
     "start_time": "2023-07-04T17:29:37.010926",
     "status": "completed"
    },
    "tags": []
   },
   "outputs": [],
   "source": [
    "# def get_bert_embedding(\n",
    "#     sequence : str,\n",
    "#     len_seq_limit : int\n",
    "# ):\n",
    "#     '''\n",
    "#     Function to collect last hidden state embedding vector from pre-trained ProtBERT Model\n",
    "\n",
    "#     INPUTS:\n",
    "#     - sequence (str) : protein sequence (ex : AAABBB) from fasta file\n",
    "#     - len_seq_limit (int) : maximum sequence lenght (i.e nb of letters) for truncation\n",
    "\n",
    "#     OUTPUTS:\n",
    "#     - output_hidden : last hidden state embedding vector for input sequence of length 1024\n",
    "#     '''\n",
    "#     sequence_w_spaces = ' '.join(list(sequence))\n",
    "#     encoded_input = tokenizer(\n",
    "#         sequence_w_spaces,\n",
    "#         truncation=True,\n",
    "#         max_length=len_seq_limit,\n",
    "#         padding='max_length',\n",
    "#         return_tensors='pt').to(config.device)\n",
    "#     output = model(**encoded_input)\n",
    "#     output_hidden = output['last_hidden_state'][:,0][0].detach().cpu().numpy()\n",
    "#     assert len(output_hidden)==1024\n",
    "#     return output_hidden"
   ]
  },
  {
   "cell_type": "code",
   "execution_count": 6,
   "id": "27d02822",
   "metadata": {
    "execution": {
     "iopub.execute_input": "2023-07-04T17:29:37.044507Z",
     "iopub.status.busy": "2023-07-04T17:29:37.044245Z",
     "iopub.status.idle": "2023-07-04T17:29:37.049888Z",
     "shell.execute_reply": "2023-07-04T17:29:37.049028Z"
    },
    "papermill": {
     "duration": 0.016655,
     "end_time": "2023-07-04T17:29:37.051937",
     "exception": false,
     "start_time": "2023-07-04T17:29:37.035282",
     "status": "completed"
    },
    "tags": []
   },
   "outputs": [],
   "source": [
    "# ### COLLECTING FOR TRAIN SAMPLES :\n",
    "# print(\"Loading train set ProtBERT Embeddings...\")\n",
    "# fasta_train = SeqIO.parse(config.train_sequences_path, \"fasta\")\n",
    "# print(\"Total Nb of Elements : \", len(list(fasta_train)))\n",
    "# fasta_train = SeqIO.parse(config.train_sequences_path, \"fasta\")\n",
    "# ids_list = []\n",
    "# embed_vects_list = []\n",
    "# t0 = time.time()\n",
    "# checkpoint = 0\n",
    "# for item in tqdm(fasta_train):\n",
    "#     ids_list.append(item.id)\n",
    "#     embed_vects_list.append(\n",
    "#         get_bert_embedding(sequence = item.seq, len_seq_limit = 1200))\n",
    "#     checkpoint+=1\n",
    "#     if checkpoint>=100:\n",
    "#         df_res = pd.DataFrame(data={\"id\" : ids_list, \"embed_vect\" : embed_vects_list})\n",
    "#         np.save('/kaggle/working/train_ids.npy',np.array(ids_list))\n",
    "#         np.save('/kaggle/working/train_embeddings.npy',np.array(embed_vects_list))\n",
    "#         checkpoint=0\n",
    "\n",
    "# np.save('/kaggle/working/train_ids.npy',np.array(ids_list))\n",
    "# np.save('/kaggle/working/train_embeddings.npy',np.array(embed_vects_list))\n",
    "# print('Total Elapsed Time:',time.time()-t0)"
   ]
  },
  {
   "cell_type": "code",
   "execution_count": 7,
   "id": "d7e0061a",
   "metadata": {
    "execution": {
     "iopub.execute_input": "2023-07-04T17:29:37.069668Z",
     "iopub.status.busy": "2023-07-04T17:29:37.069416Z",
     "iopub.status.idle": "2023-07-04T17:29:37.073565Z",
     "shell.execute_reply": "2023-07-04T17:29:37.072745Z"
    },
    "papermill": {
     "duration": 0.014795,
     "end_time": "2023-07-04T17:29:37.075644",
     "exception": false,
     "start_time": "2023-07-04T17:29:37.060849",
     "status": "completed"
    },
    "tags": []
   },
   "outputs": [],
   "source": [
    "# ### COLLECTING FOR TEST SAMPLES :\n",
    "# print(\"Loading test set ProtBERT Embeddings...\")\n",
    "# fasta_test = SeqIO.parse(config.test_sequences_path, \"fasta\")\n",
    "# print(\"Total Nb of Elements : \", len(list(fasta_test)))\n",
    "# fasta_test = SeqIO.parse(config.test_sequences_path, \"fasta\")\n",
    "# ids_list = []\n",
    "# embed_vects_list = []\n",
    "# t0 = time.time()\n",
    "# checkpoint=0\n",
    "# for item in tqdm(fasta_test):\n",
    "#     ids_list.append(item.id)\n",
    "#     embed_vects_list.append(\n",
    "#         get_bert_embedding(sequence = item.seq, len_seq_limit = 1200))\n",
    "#     checkpoint+=1\n",
    "#     if checkpoint>=100:\n",
    "#         np.save('/kaggle/working/test_ids.npy',np.array(ids_list))\n",
    "#         np.save('/kaggle/working/test_embeddings.npy',np.array(embed_vects_list))\n",
    "#         checkpoint=0\n",
    "\n",
    "# np.save('/kaggle/working/test_ids.npy',np.array(ids_list))\n",
    "# np.save('/kaggle/working/test_embeddings.npy',np.array(embed_vects_list))\n",
    "# print('Total Elasped Time:',time.time()-t0)"
   ]
  },
  {
   "cell_type": "code",
   "execution_count": 8,
   "id": "4a6f2058",
   "metadata": {
    "execution": {
     "iopub.execute_input": "2023-07-04T17:29:37.092320Z",
     "iopub.status.busy": "2023-07-04T17:29:37.092070Z",
     "iopub.status.idle": "2023-07-04T17:30:53.028516Z",
     "shell.execute_reply": "2023-07-04T17:30:53.026957Z"
    },
    "papermill": {
     "duration": 75.947173,
     "end_time": "2023-07-04T17:30:53.030578",
     "exception": false,
     "start_time": "2023-07-04T17:29:37.083405",
     "status": "completed"
    },
    "tags": []
   },
   "outputs": [
    {
     "name": "stdout",
     "output_type": "stream",
     "text": [
      "GENERATE TARGETS FOR ENTRY IDS (500 MOST COMMON GO TERMS)\n"
     ]
    },
    {
     "name": "stderr",
     "output_type": "stream",
     "text": [
      "142246it [01:03, 2227.71it/s]\n"
     ]
    },
    {
     "name": "stdout",
     "output_type": "stream",
     "text": [
      "GENERATION FINISHED!\n"
     ]
    }
   ],
   "source": [
    "print(\"GENERATE TARGETS FOR ENTRY IDS (\"+str(config.num_labels)+\" MOST COMMON GO TERMS)\")\n",
    "ids = np.load(\"/kaggle/input/protbert-embeddings-for-cafa5/train_ids.npy\")\n",
    "labels = pd.read_csv(config.train_labels_path, sep = \"\\t\")\n",
    "\n",
    "top_terms = labels.groupby(\"term\")[\"EntryID\"].count().sort_values(ascending=False)\n",
    "labels_names = top_terms[:config.num_labels].index.values\n",
    "train_labels_sub = labels[(labels.term.isin(labels_names)) & (labels.EntryID.isin(ids))]\n",
    "id_labels = train_labels_sub.groupby('EntryID')['term'].apply(list).to_dict()\n",
    "\n",
    "go_terms_map = {label: i for i, label in enumerate(labels_names)}\n",
    "labels_matrix = np.empty((len(ids), len(labels_names)))\n",
    "\n",
    "for index, id in tqdm(enumerate(ids)):\n",
    "    id_gos_list = id_labels[id]\n",
    "    temp = [go_terms_map[go] for go in labels_names if go in id_gos_list]\n",
    "    labels_matrix[index, temp] = 1\n",
    "\n",
    "np.save(\"/kaggle/working/train_targets_top\"+str(config.num_labels)+\".npy\", np.array(labels_matrix))\n",
    "print(\"GENERATION FINISHED!\")"
   ]
  },
  {
   "cell_type": "code",
   "execution_count": 9,
   "id": "f2ae9f7d",
   "metadata": {
    "execution": {
     "iopub.execute_input": "2023-07-04T17:30:53.137587Z",
     "iopub.status.busy": "2023-07-04T17:30:53.136981Z",
     "iopub.status.idle": "2023-07-04T17:30:53.141453Z",
     "shell.execute_reply": "2023-07-04T17:30:53.140572Z"
    },
    "papermill": {
     "duration": 0.059555,
     "end_time": "2023-07-04T17:30:53.143412",
     "exception": false,
     "start_time": "2023-07-04T17:30:53.083857",
     "status": "completed"
    },
    "tags": []
   },
   "outputs": [],
   "source": [
    "# import pickle\n",
    "\n",
    "# # Assuming you already have the variables 'labels', 'id_labels', and 'labels_names' from your previous code\n",
    "# # Ensure that 'labels_names' contains the top 500 most common GO terms\n",
    "\n",
    "# # Filter the 'labels' DataFrame to keep only the top 500 most common GO terms\n",
    "# top_500_labels = labels[labels['term'].isin(labels_names)]\n",
    "\n",
    "# # Save 'top_500_labels' and 'id_labels' to a dictionary\n",
    "# data_dict = {'top_500_labels': top_500_labels, 'id_labels': id_labels}\n",
    "\n",
    "# # Define the filename for the pickle file\n",
    "# pickle_file = \"/kaggle/working/train_targets_top\"+str(config.num_labels)+\".pkl\"\n",
    "\n",
    "# # Open the file in binary write mode and save the data_dict\n",
    "# with open(pickle_file, 'wb') as f:\n",
    "#     pickle.dump(data_dict, f)\n",
    "\n",
    "# print(\"Pickle file created successfully at:\", pickle_file)\n"
   ]
  },
  {
   "cell_type": "code",
   "execution_count": 10,
   "id": "aaafd8fb",
   "metadata": {
    "execution": {
     "iopub.execute_input": "2023-07-04T17:30:53.250992Z",
     "iopub.status.busy": "2023-07-04T17:30:53.250710Z",
     "iopub.status.idle": "2023-07-04T17:30:53.255252Z",
     "shell.execute_reply": "2023-07-04T17:30:53.254345Z"
    },
    "papermill": {
     "duration": 0.062427,
     "end_time": "2023-07-04T17:30:53.257240",
     "exception": false,
     "start_time": "2023-07-04T17:30:53.194813",
     "status": "completed"
    },
    "tags": []
   },
   "outputs": [],
   "source": [
    "# import pandas as pd\n",
    "\n",
    "# # Load the pickled dictionary\n",
    "# data_dict = pd.read_pickle(\"/kaggle/working/train_targets_top\"+str(config.num_labels)+\".pkl\")\n",
    "\n",
    "# # Get the number of entries (assuming the dictionary is the same as DataFrame rows)\n",
    "# num_entries = len(data_dict)\n",
    "# print(\"Number of entries:\", num_entries)\n",
    "\n",
    "# # Get the dimensions of the dictionary (if the value is a pandas DataFrame or similar)\n",
    "# dimensions = {}\n",
    "# for key, value in data_dict.items():\n",
    "#     if isinstance(value, pd.DataFrame) or isinstance(value, pd.Series):\n",
    "#         dimensions[key] = value.shape\n",
    "#     elif isinstance(value, list):\n",
    "#         dimensions[key] = len(value)\n",
    "#     else:\n",
    "#         dimensions[key] = \"Unknown\"\n",
    "\n",
    "# print(\"Dimensions of the dictionary:\")\n",
    "# for key, value in dimensions.items():\n",
    "#     print(f\"Key: {key}, Dimensions: {value}\")\n"
   ]
  },
  {
   "cell_type": "code",
   "execution_count": 11,
   "id": "9faff2ad",
   "metadata": {
    "execution": {
     "iopub.execute_input": "2023-07-04T17:30:53.362483Z",
     "iopub.status.busy": "2023-07-04T17:30:53.362217Z",
     "iopub.status.idle": "2023-07-04T17:30:53.367834Z",
     "shell.execute_reply": "2023-07-04T17:30:53.366880Z"
    },
    "papermill": {
     "duration": 0.060887,
     "end_time": "2023-07-04T17:30:53.370051",
     "exception": false,
     "start_time": "2023-07-04T17:30:53.309164",
     "status": "completed"
    },
    "tags": []
   },
   "outputs": [],
   "source": [
    "# class ProteinSequenceDataset(Dataset):\n",
    "    \n",
    "#     def __init__(self, datatype, embeddings_source):\n",
    "#         super(ProteinSequenceDataset).__init__()\n",
    "#         self.datatype = datatype\n",
    "        \n",
    "#         if embeddings_source in [\"ProtBERT\", \"EMS2\"]:\n",
    "#             embeds = np.load(\"/kaggle/input/\"+embeds_map[embeddings_source]+\"/\"+datatype+\"_embeddings.npy\")\n",
    "#             ids = np.load(\"/kaggle/input/\"+embeds_map[embeddings_source]+\"/\"+datatype+\"_ids.npy\")\n",
    "        \n",
    "#         if embeddings_source == \"T5\":\n",
    "#             embeds = np.load(\"/kaggle/input/\"+embeds_map[embeddings_source]+\"/\"+datatype+\"_embeds.npy\")\n",
    "#             ids = np.load(\"/kaggle/input/\"+embeds_map[embeddings_source]+\"/\"+datatype+\"_ids.npy\")\n",
    "            \n",
    "#         embeds_list = []\n",
    "#         for l in range(embeds.shape[0]):\n",
    "#             embeds_list.append(embeds[l,:])\n",
    "#         self.df = pd.DataFrame(data={\"EntryID\": ids, \"embed\" : embeds_list})\n",
    "        \n",
    "#         if datatype==\"train\":\n",
    "#             df_labels = pd.read_pickle(\n",
    "#                 \"/kaggle/working/train_targets_top\"+str(config.num_labels)+\".pkl\")\n",
    "\n",
    "#             # Assuming self.df is your existing DataFrame and df_labels is the dictionary with \"top_500_labels\" and \"id_labels\" keys\n",
    "#             # Extract the \"top_500_labels\" DataFrame from the dictionary\n",
    "#             df_labels = df_labels[\"top_500_labels\"]\n",
    "\n",
    "#             # Merge the two DataFrames on \"EntryID\" column\n",
    "#             self.df = self.df.merge(df_labels, on=\"EntryID\")\n",
    "\n",
    "\n",
    "#             # Merge the two DataFrames on \"EntryID\" column\n",
    "#             #self.df = self.df.merge(df_labels, on=\"EntryID\")\n",
    "#             #self.df = self.df.merge(df_labels, on=\"EntryID\")\n",
    "        \n",
    "#     def __len__(self):\n",
    "#         return len(self.df)\n",
    "    \n",
    "#     def __getitem__(self, index):\n",
    "#         embed = torch.tensor(self.df.iloc[index][\"embed\"] , dtype = torch.float32)\n",
    "#         if self.datatype==\"train\":\n",
    "#             targets = torch.tensor(self.df.iloc[index][\"labels_vect\"], dtype = torch.float32)\n",
    "#             return embed, targets\n",
    "#         if self.datatype==\"test\":\n",
    "#             id = self.df.iloc[index][\"EntryID\"]\n",
    "#             return embed, id\n",
    "        "
   ]
  },
  {
   "cell_type": "code",
   "execution_count": 12,
   "id": "a6def0a4",
   "metadata": {
    "execution": {
     "iopub.execute_input": "2023-07-04T17:30:53.478835Z",
     "iopub.status.busy": "2023-07-04T17:30:53.478570Z",
     "iopub.status.idle": "2023-07-04T17:30:53.491679Z",
     "shell.execute_reply": "2023-07-04T17:30:53.490831Z"
    },
    "papermill": {
     "duration": 0.070308,
     "end_time": "2023-07-04T17:30:53.493628",
     "exception": false,
     "start_time": "2023-07-04T17:30:53.423320",
     "status": "completed"
    },
    "tags": []
   },
   "outputs": [],
   "source": [
    "class ProteinSequenceDataset(Dataset):\n",
    "    \n",
    "    def __init__(self, datatype, embeddings_source):\n",
    "        super(ProteinSequenceDataset).__init__()\n",
    "        self.datatype = datatype\n",
    "        \n",
    "        if embeddings_source in [\"ProtBERT\", \"EMS2\"]:\n",
    "            embeds = np.load(\"/kaggle/input/\"+embeds_map[embeddings_source]+\"/\"+datatype+\"_embeddings.npy\")\n",
    "            ids = np.load(\"/kaggle/input/\"+embeds_map[embeddings_source]+\"/\"+datatype+\"_ids.npy\")\n",
    "        \n",
    "        if embeddings_source == \"T5\":\n",
    "            embeds = np.load(\"/kaggle/input/\"+embeds_map[embeddings_source]+\"/\"+datatype+\"_embeds.npy\")\n",
    "            ids = np.load(\"/kaggle/input/\"+embeds_map[embeddings_source]+\"/\"+datatype+\"_ids.npy\")\n",
    "            \n",
    "        embeds_list = []\n",
    "        for l in range(embeds.shape[0]):\n",
    "            embeds_list.append(embeds[l,:])\n",
    "        self.df = pd.DataFrame(data={\"EntryID\": ids, \"embed\" : embeds_list})\n",
    "        \n",
    "        if datatype==\"train\":\n",
    "            df_labels = np.load(\"/kaggle/working/train_targets_top500.npy\")\n",
    "            self.df[\"labels_vect\"] = df_labels.tolist()\n",
    "            #self.df = self.df.merge(df_labels, on=\"EntryID\")\n",
    "        \n",
    "    def __len__(self):\n",
    "        return len(self.df)\n",
    "    \n",
    "    def __getitem__(self, index):\n",
    "        embed = torch.tensor(self.df.iloc[index][\"embed\"] , dtype = torch.float32)\n",
    "        if self.datatype==\"train\":\n",
    "            targets = torch.tensor(self.df.iloc[index][\"labels_vect\"], dtype = torch.float32)\n",
    "            return embed, targets\n",
    "        if self.datatype==\"test\":\n",
    "            id = self.df.iloc[index][\"EntryID\"]\n",
    "            return embed, id\n",
    "        "
   ]
  },
  {
   "cell_type": "code",
   "execution_count": 13,
   "id": "1f4744fd",
   "metadata": {
    "execution": {
     "iopub.execute_input": "2023-07-04T17:30:53.603950Z",
     "iopub.status.busy": "2023-07-04T17:30:53.603680Z",
     "iopub.status.idle": "2023-07-04T17:30:53.608766Z",
     "shell.execute_reply": "2023-07-04T17:30:53.607953Z"
    },
    "papermill": {
     "duration": 0.061467,
     "end_time": "2023-07-04T17:30:53.610661",
     "exception": false,
     "start_time": "2023-07-04T17:30:53.549194",
     "status": "completed"
    },
    "tags": []
   },
   "outputs": [],
   "source": [
    "# import torch\n",
    "# from torch.utils.data import Dataset\n",
    "# import numpy as np\n",
    "# import pandas as pd\n",
    "\n",
    "# class ProteinSequenceDataset(Dataset):\n",
    "    \n",
    "#     def __init__(self, datatype, embeddings_source):\n",
    "#         super(ProteinSequenceDataset, self).__init__()\n",
    "#         self.datatype = datatype\n",
    "        \n",
    "#         if embeddings_source in [\"ProtBERT\", \"EMS2\"]:\n",
    "#             embeds = np.load(\"/kaggle/input/\"+embeds_map[embeddings_source]+\"/\"+datatype+\"_embeddings.npy\")\n",
    "#             ids = np.load(\"/kaggle/input/\"+embeds_map[embeddings_source]+\"/\"+datatype+\"_ids.npy\")\n",
    "        \n",
    "#         if embeddings_source == \"T5\":\n",
    "#             embeds = np.load(\"/kaggle/input/\"+embeds_map[embeddings_source]+\"/\"+datatype+\"_embeds.npy\")\n",
    "#             ids = np.load(\"/kaggle/input/\"+embeds_map[embeddings_source]+\"/\"+datatype+\"_ids.npy\")\n",
    "            \n",
    "#         embeds_list = []\n",
    "#         for l in range(embeds.shape[0]):\n",
    "#             embeds_list.append(embeds[l,:])\n",
    "#         self.df = pd.DataFrame(data={\"EntryID\": ids, \"embed\" : embeds_list})\n",
    "        \n",
    "#         if datatype == \"train\":\n",
    "#             # Read df_labels as a DataFrame\n",
    "#             #df_labels = pd.read_pickle(\"/kaggle/working/train_targets_top\"+str(config.num_labels)+\".pkl\")\n",
    "#             df_labels = pd.read_pickle(\"/kaggle/working/train_targets_top500.pkl\")\n",
    "#             # Check if df_labels is a DataFrame and contains 'EntryID' and 'labels_vect' columns\n",
    "#             if not isinstance(df_labels, pd.DataFrame) or \"EntryID\" not in df_labels.columns or \"labels_vect\" not in df_labels.columns:\n",
    "#                 raise ValueError(\"Invalid df_labels format. It should be a DataFrame with 'EntryID' and 'labels_vect' columns.\")\n",
    "#             self.df = self.df.merge(df_labels, on=\"EntryID\")\n",
    "        \n",
    "#     def __len__(self):\n",
    "#         return len(self.df)\n",
    "    \n",
    "#     def __getitem__(self, index):\n",
    "#         embed = torch.tensor(self.df.iloc[index][\"embed\"], dtype=torch.float32)\n",
    "#         if self.datatype == \"train\":\n",
    "#             targets = torch.tensor(self.df.iloc[index][\"labels_vect\"], dtype=torch.float32)\n",
    "#             return embed, targets\n",
    "#         if self.datatype == \"test\":\n",
    "#             entry_id = self.df.iloc[index][\"EntryID\"]\n",
    "#             return embed, entry_id\n"
   ]
  },
  {
   "cell_type": "code",
   "execution_count": 14,
   "id": "7bb40299",
   "metadata": {
    "execution": {
     "iopub.execute_input": "2023-07-04T17:30:53.716844Z",
     "iopub.status.busy": "2023-07-04T17:30:53.715515Z",
     "iopub.status.idle": "2023-07-04T17:30:53.722993Z",
     "shell.execute_reply": "2023-07-04T17:30:53.722179Z"
    },
    "papermill": {
     "duration": 0.06208,
     "end_time": "2023-07-04T17:30:53.724968",
     "exception": false,
     "start_time": "2023-07-04T17:30:53.662888",
     "status": "completed"
    },
    "tags": []
   },
   "outputs": [],
   "source": [
    "class MultiLayerPerceptron(torch.nn.Module):\n",
    "\n",
    "    def __init__(self, input_dim, num_classes):\n",
    "        super(MultiLayerPerceptron, self).__init__()\n",
    "\n",
    "        self.linear1 = torch.nn.Linear(input_dim, 1012)\n",
    "        self.activation1 = torch.nn.ReLU()\n",
    "        self.linear2 = torch.nn.Linear(1012, 712)\n",
    "        self.activation2 = torch.nn.ReLU()\n",
    "        self.linear3 = torch.nn.Linear(712, num_classes)\n",
    "\n",
    "    def forward(self, x):\n",
    "        x = self.linear1(x)\n",
    "        x = self.activation1(x)\n",
    "        x = self.linear2(x)\n",
    "        x = self.activation2(x)\n",
    "        x = self.linear3(x)\n",
    "        return x"
   ]
  },
  {
   "cell_type": "code",
   "execution_count": 15,
   "id": "22c9fa7d",
   "metadata": {
    "execution": {
     "iopub.execute_input": "2023-07-04T17:30:53.840744Z",
     "iopub.status.busy": "2023-07-04T17:30:53.840454Z",
     "iopub.status.idle": "2023-07-04T17:30:53.856959Z",
     "shell.execute_reply": "2023-07-04T17:30:53.856163Z"
    },
    "papermill": {
     "duration": 0.071802,
     "end_time": "2023-07-04T17:30:53.858890",
     "exception": false,
     "start_time": "2023-07-04T17:30:53.787088",
     "status": "completed"
    },
    "tags": []
   },
   "outputs": [],
   "source": [
    "def train_model(embeddings_source, model_type=\"linear\", train_size=0.9):\n",
    "    \n",
    "    train_dataset = ProteinSequenceDataset(datatype=\"train\", embeddings_source = embeddings_source)\n",
    "    \n",
    "    train_set, val_set = random_split(train_dataset, lengths = [int(len(train_dataset)*train_size), len(train_dataset)-int(len(train_dataset)*train_size)])\n",
    "    train_dataloader = torch.utils.data.DataLoader(train_set, batch_size=config.batch_size, shuffle=True)\n",
    "    val_dataloader = torch.utils.data.DataLoader(val_set, batch_size=config.batch_size, shuffle=True)\n",
    "\n",
    "    if model_type == \"linear\":\n",
    "        model = MultiLayerPerceptron(input_dim=embeds_dim[embeddings_source], num_classes=config.num_labels).to(config.device)\n",
    "    if model_type == \"convolutional\":\n",
    "        model = CNN1D(input_dim=embeds_dim[embeddings_source], num_classes=config.num_labels).to(config.device)\n",
    "\n",
    "    optimizer = torch.optim.Adam(model.parameters(), lr = config.lr)\n",
    "    scheduler = ReduceLROnPlateau(optimizer, factor=0.1, patience=1)\n",
    "    CrossEntropy = torch.nn.CrossEntropyLoss()\n",
    "    f1_score = MultilabelF1Score(num_labels=config.num_labels).to(config.device)\n",
    "    n_epochs = config.n_epochs\n",
    "\n",
    "    print(\"BEGIN TRAINING...\")\n",
    "    train_loss_history=[]\n",
    "    val_loss_history=[]\n",
    "    \n",
    "    train_f1score_history=[]\n",
    "    val_f1score_history=[]\n",
    "    for epoch in range(n_epochs):\n",
    "        print(\"EPOCH \", epoch+1)\n",
    "        ## TRAIN PHASE :\n",
    "        losses = []\n",
    "        scores = []\n",
    "        for embed, targets in tqdm(train_dataloader):\n",
    "            embed, targets = embed.to(config.device), targets.to(config.device)\n",
    "            optimizer.zero_grad()\n",
    "            preds = model(embed)\n",
    "            loss= CrossEntropy(preds, targets)\n",
    "            score=f1_score(preds, targets)\n",
    "            losses.append(loss.item()) \n",
    "            scores.append(score.item())\n",
    "            loss.backward()\n",
    "            optimizer.step()\n",
    "        avg_loss = np.mean(losses)\n",
    "        avg_score = np.mean(scores)\n",
    "        print(\"Running Average TRAIN Loss : \", avg_loss)\n",
    "        print(\"Running Average TRAIN F1-Score : \", avg_score)\n",
    "        train_loss_history.append(avg_loss)\n",
    "        train_f1score_history.append(avg_score)\n",
    "        \n",
    "        ## VALIDATION PHASE : \n",
    "        losses = []\n",
    "        scores = []\n",
    "        for embed, targets in val_dataloader:\n",
    "            embed, targets = embed.to(config.device), targets.to(config.device)\n",
    "            preds = model(embed)\n",
    "            loss= CrossEntropy(preds, targets)\n",
    "            score=f1_score(preds, targets)\n",
    "            losses.append(loss.item())\n",
    "            scores.append(score.item())\n",
    "        avg_loss = np.mean(losses)\n",
    "        avg_score = np.mean(scores)\n",
    "        print(\"Running Average VAL Loss : \", avg_loss)\n",
    "        print(\"Running Average VAL F1-Score : \", avg_score)\n",
    "        val_loss_history.append(avg_loss)\n",
    "        val_f1score_history.append(avg_score)\n",
    "        \n",
    "        scheduler.step(avg_loss)\n",
    "        print(\"\\n\")\n",
    "        \n",
    "    print(\"TRAINING FINISHED\")\n",
    "    print(\"FINAL TRAINING SCORE : \", train_f1score_history[-1])\n",
    "    print(\"FINAL VALIDATION SCORE : \", val_f1score_history[-1])\n",
    "    \n",
    "    losses_history = {\"train\" : train_loss_history, \"val\" : val_loss_history}\n",
    "    scores_history = {\"train\" : train_f1score_history, \"val\" : val_f1score_history}\n",
    "    \n",
    "    return model, losses_history, scores_history"
   ]
  },
  {
   "cell_type": "code",
   "execution_count": 16,
   "id": "ea6b3071",
   "metadata": {
    "execution": {
     "iopub.execute_input": "2023-07-04T17:30:53.975623Z",
     "iopub.status.busy": "2023-07-04T17:30:53.975332Z",
     "iopub.status.idle": "2023-07-04T17:30:53.979957Z",
     "shell.execute_reply": "2023-07-04T17:30:53.979268Z"
    },
    "papermill": {
     "duration": 0.072784,
     "end_time": "2023-07-04T17:30:53.984243",
     "exception": false,
     "start_time": "2023-07-04T17:30:53.911459",
     "status": "completed"
    },
    "tags": []
   },
   "outputs": [],
   "source": [
    "# Directories for the different embedding vectors : \n",
    "embeds_map = {\n",
    "    \"T5\" : \"t5embeds\",\n",
    "    \"ProtBERT\" : \"protbert-embeddings-for-cafa5\",\n",
    "    \"EMS2\" : \"cafa-5-ems-2-embeddings-numpy\"\n",
    "}\n",
    "\n",
    "# Length of the different embedding vectors :\n",
    "embeds_dim = {\n",
    "    \"T5\" : 1024,\n",
    "    \"ProtBERT\" : 1024,\n",
    "    \"EMS2\" : 1280\n",
    "}"
   ]
  },
  {
   "cell_type": "code",
   "execution_count": 17,
   "id": "7ac20c3d",
   "metadata": {
    "execution": {
     "iopub.execute_input": "2023-07-04T17:30:54.125799Z",
     "iopub.status.busy": "2023-07-04T17:30:54.125490Z",
     "iopub.status.idle": "2023-07-04T17:40:55.037822Z",
     "shell.execute_reply": "2023-07-04T17:40:55.036812Z"
    },
    "papermill": {
     "duration": 601.360591,
     "end_time": "2023-07-04T17:40:55.432501",
     "exception": false,
     "start_time": "2023-07-04T17:30:54.071910",
     "status": "completed"
    },
    "tags": []
   },
   "outputs": [
    {
     "name": "stdout",
     "output_type": "stream",
     "text": [
      "BEGIN TRAINING...\n",
      "EPOCH  1\n"
     ]
    },
    {
     "name": "stderr",
     "output_type": "stream",
     "text": [
      "100%|██████████| 1001/1001 [00:33<00:00, 29.51it/s]\n"
     ]
    },
    {
     "name": "stdout",
     "output_type": "stream",
     "text": [
      "Running Average TRAIN Loss :  138.12836127800423\n",
      "Running Average TRAIN F1-Score :  0.09952495968737803\n",
      "Running Average VAL Loss :  138.22681951522827\n",
      "Running Average VAL F1-Score :  0.12204746316586222\n",
      "\n",
      "\n",
      "EPOCH  2\n"
     ]
    },
    {
     "name": "stderr",
     "output_type": "stream",
     "text": [
      "100%|██████████| 1001/1001 [00:29<00:00, 33.85it/s]\n"
     ]
    },
    {
     "name": "stdout",
     "output_type": "stream",
     "text": [
      "Running Average TRAIN Loss :  135.99615704882277\n",
      "Running Average TRAIN F1-Score :  0.12885572608712909\n",
      "Running Average VAL Loss :  137.73274626050676\n",
      "Running Average VAL F1-Score :  0.13744735531508923\n",
      "\n",
      "\n",
      "EPOCH  3\n"
     ]
    },
    {
     "name": "stderr",
     "output_type": "stream",
     "text": [
      "100%|██████████| 1001/1001 [00:29<00:00, 34.18it/s]\n"
     ]
    },
    {
     "name": "stdout",
     "output_type": "stream",
     "text": [
      "Running Average TRAIN Loss :  135.33449469841682\n",
      "Running Average TRAIN F1-Score :  0.13808137198517492\n",
      "Running Average VAL Loss :  138.21979011808122\n",
      "Running Average VAL F1-Score :  0.14067339784066593\n",
      "\n",
      "\n",
      "EPOCH  4\n"
     ]
    },
    {
     "name": "stderr",
     "output_type": "stream",
     "text": [
      "100%|██████████| 1001/1001 [00:29<00:00, 34.16it/s]\n"
     ]
    },
    {
     "name": "stdout",
     "output_type": "stream",
     "text": [
      "Running Average TRAIN Loss :  134.9644132951399\n",
      "Running Average TRAIN F1-Score :  0.1423766935741032\n",
      "Running Average VAL Loss :  138.0634389604841\n",
      "Running Average VAL F1-Score :  0.14345647980059897\n",
      "\n",
      "\n",
      "EPOCH  5\n"
     ]
    },
    {
     "name": "stderr",
     "output_type": "stream",
     "text": [
      "100%|██████████| 1001/1001 [00:29<00:00, 34.00it/s]\n"
     ]
    },
    {
     "name": "stdout",
     "output_type": "stream",
     "text": [
      "Running Average TRAIN Loss :  133.77718761036326\n",
      "Running Average TRAIN F1-Score :  0.15284399577341118\n",
      "Running Average VAL Loss :  135.48505204064506\n",
      "Running Average VAL F1-Score :  0.1550299571827054\n",
      "\n",
      "\n",
      "EPOCH  6\n"
     ]
    },
    {
     "name": "stderr",
     "output_type": "stream",
     "text": [
      "100%|██████████| 1001/1001 [00:29<00:00, 34.12it/s]\n"
     ]
    },
    {
     "name": "stdout",
     "output_type": "stream",
     "text": [
      "Running Average TRAIN Loss :  133.48772893823707\n",
      "Running Average TRAIN F1-Score :  0.1556777313991741\n",
      "Running Average VAL Loss :  136.08940199443273\n",
      "Running Average VAL F1-Score :  0.15888097815747773\n",
      "\n",
      "\n",
      "EPOCH  7\n"
     ]
    },
    {
     "name": "stderr",
     "output_type": "stream",
     "text": [
      "100%|██████████| 1001/1001 [00:29<00:00, 33.99it/s]\n"
     ]
    },
    {
     "name": "stdout",
     "output_type": "stream",
     "text": [
      "Running Average TRAIN Loss :  133.4063641512906\n",
      "Running Average TRAIN F1-Score :  0.1566887392655953\n",
      "Running Average VAL Loss :  135.68329661233085\n",
      "Running Average VAL F1-Score :  0.1592092916502484\n",
      "\n",
      "\n",
      "EPOCH  8\n"
     ]
    },
    {
     "name": "stderr",
     "output_type": "stream",
     "text": [
      "100%|██████████| 1001/1001 [00:29<00:00, 34.18it/s]\n"
     ]
    },
    {
     "name": "stdout",
     "output_type": "stream",
     "text": [
      "Running Average TRAIN Loss :  133.15598341325423\n",
      "Running Average TRAIN F1-Score :  0.15801899545229636\n",
      "Running Average VAL Loss :  135.47861964362008\n",
      "Running Average VAL F1-Score :  0.15890183126819984\n",
      "\n",
      "\n",
      "EPOCH  9\n"
     ]
    },
    {
     "name": "stderr",
     "output_type": "stream",
     "text": [
      "100%|██████████| 1001/1001 [00:29<00:00, 33.61it/s]\n"
     ]
    },
    {
     "name": "stdout",
     "output_type": "stream",
     "text": [
      "Running Average TRAIN Loss :  133.12910599379867\n",
      "Running Average TRAIN F1-Score :  0.1583502212023878\n",
      "Running Average VAL Loss :  135.2771806716919\n",
      "Running Average VAL F1-Score :  0.15880086153213466\n",
      "\n",
      "\n",
      "EPOCH  10\n"
     ]
    },
    {
     "name": "stderr",
     "output_type": "stream",
     "text": [
      "100%|██████████| 1001/1001 [00:29<00:00, 34.15it/s]\n"
     ]
    },
    {
     "name": "stdout",
     "output_type": "stream",
     "text": [
      "Running Average TRAIN Loss :  133.1189535333441\n",
      "Running Average TRAIN F1-Score :  0.15867484110099572\n",
      "Running Average VAL Loss :  135.52039561952864\n",
      "Running Average VAL F1-Score :  0.15934781324384467\n",
      "\n",
      "\n",
      "EPOCH  11\n"
     ]
    },
    {
     "name": "stderr",
     "output_type": "stream",
     "text": [
      "100%|██████████| 1001/1001 [00:29<00:00, 34.10it/s]\n"
     ]
    },
    {
     "name": "stdout",
     "output_type": "stream",
     "text": [
      "Running Average TRAIN Loss :  133.10077248038826\n",
      "Running Average TRAIN F1-Score :  0.1588178798779622\n",
      "Running Average VAL Loss :  135.79457242148263\n",
      "Running Average VAL F1-Score :  0.16005157599491732\n",
      "\n",
      "\n",
      "EPOCH  12\n"
     ]
    },
    {
     "name": "stderr",
     "output_type": "stream",
     "text": [
      "100%|██████████| 1001/1001 [00:29<00:00, 34.16it/s]\n"
     ]
    },
    {
     "name": "stdout",
     "output_type": "stream",
     "text": [
      "Running Average TRAIN Loss :  133.1059628771497\n",
      "Running Average TRAIN F1-Score :  0.15883655070544003\n",
      "Running Average VAL Loss :  135.2766945021493\n",
      "Running Average VAL F1-Score :  0.15866563908223594\n",
      "\n",
      "\n",
      "EPOCH  13\n"
     ]
    },
    {
     "name": "stderr",
     "output_type": "stream",
     "text": [
      "100%|██████████| 1001/1001 [00:29<00:00, 34.14it/s]\n"
     ]
    },
    {
     "name": "stdout",
     "output_type": "stream",
     "text": [
      "Running Average TRAIN Loss :  133.0744325864565\n",
      "Running Average TRAIN F1-Score :  0.15883041389070668\n",
      "Running Average VAL Loss :  135.4244394983564\n",
      "Running Average VAL F1-Score :  0.16037754268784607\n",
      "\n",
      "\n",
      "EPOCH  14\n"
     ]
    },
    {
     "name": "stderr",
     "output_type": "stream",
     "text": [
      "100%|██████████| 1001/1001 [00:29<00:00, 34.14it/s]\n"
     ]
    },
    {
     "name": "stdout",
     "output_type": "stream",
     "text": [
      "Running Average TRAIN Loss :  133.07636440097988\n",
      "Running Average TRAIN F1-Score :  0.1591512992918551\n",
      "Running Average VAL Loss :  135.58456332342965\n",
      "Running Average VAL F1-Score :  0.15927956785474504\n",
      "\n",
      "\n",
      "EPOCH  15\n"
     ]
    },
    {
     "name": "stderr",
     "output_type": "stream",
     "text": [
      "100%|██████████| 1001/1001 [00:29<00:00, 34.13it/s]\n"
     ]
    },
    {
     "name": "stdout",
     "output_type": "stream",
     "text": [
      "Running Average TRAIN Loss :  133.16253313032183\n",
      "Running Average TRAIN F1-Score :  0.1591790429615117\n",
      "Running Average VAL Loss :  135.4414530481611\n",
      "Running Average VAL F1-Score :  0.15941322960757784\n",
      "\n",
      "\n",
      "EPOCH  16\n"
     ]
    },
    {
     "name": "stderr",
     "output_type": "stream",
     "text": [
      "100%|██████████| 1001/1001 [00:29<00:00, 34.11it/s]\n"
     ]
    },
    {
     "name": "stdout",
     "output_type": "stream",
     "text": [
      "Running Average TRAIN Loss :  133.102527256374\n",
      "Running Average TRAIN F1-Score :  0.15912898751971247\n",
      "Running Average VAL Loss :  135.37466750826155\n",
      "Running Average VAL F1-Score :  0.16015799835856473\n",
      "\n",
      "\n",
      "EPOCH  17\n"
     ]
    },
    {
     "name": "stderr",
     "output_type": "stream",
     "text": [
      "100%|██████████| 1001/1001 [00:29<00:00, 33.94it/s]\n"
     ]
    },
    {
     "name": "stdout",
     "output_type": "stream",
     "text": [
      "Running Average TRAIN Loss :  133.10153845330694\n",
      "Running Average TRAIN F1-Score :  0.15888307586714223\n",
      "Running Average VAL Loss :  136.1646035058158\n",
      "Running Average VAL F1-Score :  0.1601372824183532\n",
      "\n",
      "\n",
      "EPOCH  18\n"
     ]
    },
    {
     "name": "stderr",
     "output_type": "stream",
     "text": [
      "100%|██████████| 1001/1001 [00:29<00:00, 34.06it/s]\n"
     ]
    },
    {
     "name": "stdout",
     "output_type": "stream",
     "text": [
      "Running Average TRAIN Loss :  133.1079959621677\n",
      "Running Average TRAIN F1-Score :  0.15919021803599137\n",
      "Running Average VAL Loss :  135.51618228639876\n",
      "Running Average VAL F1-Score :  0.15924392780289054\n",
      "\n",
      "\n",
      "TRAINING FINISHED\n",
      "FINAL TRAINING SCORE :  0.15919021803599137\n",
      "FINAL VALIDATION SCORE :  0.15924392780289054\n"
     ]
    }
   ],
   "source": [
    "protbert_model, protbert_losses, protbert_scores = train_model(embeddings_source=\"ProtBERT\",model_type=\"linear\")"
   ]
  },
  {
   "cell_type": "code",
   "execution_count": 18,
   "id": "af94b28f",
   "metadata": {
    "execution": {
     "iopub.execute_input": "2023-07-04T17:40:56.226460Z",
     "iopub.status.busy": "2023-07-04T17:40:56.225384Z",
     "iopub.status.idle": "2023-07-04T17:40:57.050655Z",
     "shell.execute_reply": "2023-07-04T17:40:57.049733Z"
    },
    "papermill": {
     "duration": 1.221552,
     "end_time": "2023-07-04T17:40:57.053302",
     "exception": false,
     "start_time": "2023-07-04T17:40:55.831750",
     "status": "completed"
    },
    "tags": []
   },
   "outputs": [
    {
     "data": {
      "image/png": "[encoded data removed]",
      "text/plain": [
       "<Figure size 1000x400 with 1 Axes>"
      ]
     },
     "metadata": {},
     "output_type": "display_data"
    },
    {
     "data": {
      "image/png": "[encoded data removed]",
      "text/plain": [
       "<Figure size 1000x400 with 1 Axes>"
      ]
     },
     "metadata": {},
     "output_type": "display_data"
    }
   ],
   "source": [
    "plt.figure(figsize = (10, 4))\n",
    "plt.plot(protbert_losses[\"val\"], label = \"ProtBERT\")\n",
    "plt.title(\"Validation Losses for # Vector Embeddings\")\n",
    "plt.xlabel(\"Epochs\")\n",
    "plt.ylabel(\"Average Loss\")\n",
    "plt.legend()\n",
    "plt.show()\n",
    "\n",
    "plt.figure(figsize = (10, 4))\n",
    "plt.plot(protbert_scores[\"val\"], label = \"ProtBERT\")\n",
    "plt.title(\"Validation F1-Scores for # Vector Embeddings\")\n",
    "plt.xlabel(\"Epochs\")\n",
    "plt.ylabel(\"Average F1-Score\")\n",
    "plt.legend()\n",
    "plt.show()"
   ]
  },
  {
   "cell_type": "code",
   "execution_count": 19,
   "id": "129a5915",
   "metadata": {
    "execution": {
     "iopub.execute_input": "2023-07-04T17:40:58.246789Z",
     "iopub.status.busy": "2023-07-04T17:40:58.246428Z",
     "iopub.status.idle": "2023-07-04T17:40:58.257719Z",
     "shell.execute_reply": "2023-07-04T17:40:58.257072Z"
    },
    "papermill": {
     "duration": 0.582713,
     "end_time": "2023-07-04T17:40:58.259512",
     "exception": false,
     "start_time": "2023-07-04T17:40:57.676799",
     "status": "completed"
    },
    "tags": []
   },
   "outputs": [],
   "source": [
    "def predict(embeddings_source):\n",
    "    \n",
    "    test_dataset = ProteinSequenceDataset(datatype=\"test\", embeddings_source = embeddings_source)\n",
    "    test_dataloader = torch.utils.data.DataLoader(test_dataset, batch_size=1, shuffle=False)\n",
    "    \n",
    "    if embeddings_source == \"T5\":\n",
    "        model = t5_model\n",
    "    if embeddings_source == \"ProtBERT\":\n",
    "        model = protbert_model\n",
    "    if embeddings_source == \"EMS2\":\n",
    "        model = ems2_model\n",
    "        \n",
    "    model.eval()\n",
    "    \n",
    "    labels = pd.read_csv(config.train_labels_path, sep = \"\\t\")\n",
    "    top_terms = labels.groupby(\"term\")[\"EntryID\"].count().sort_values(ascending=False)\n",
    "    labels_names = top_terms[:config.num_labels].index.values\n",
    "    print(\"GENERATE PREDICTION FOR TEST SET...\")\n",
    "\n",
    "    ids_ = np.empty(shape=(len(test_dataloader)*config.num_labels,), dtype=object)\n",
    "    go_terms_ = np.empty(shape=(len(test_dataloader)*config.num_labels,), dtype=object)\n",
    "    confs_ = np.empty(shape=(len(test_dataloader)*config.num_labels,), dtype=np.float32)\n",
    "\n",
    "    for i, (embed, id) in tqdm(enumerate(test_dataloader)):\n",
    "        embed = embed.to(config.device)\n",
    "        confs_[i*config.num_labels:(i+1)*config.num_labels] = torch.nn.functional.sigmoid(model(embed)).squeeze().detach().cpu().numpy()\n",
    "        ids_[i*config.num_labels:(i+1)*config.num_labels] = id[0]\n",
    "        go_terms_[i*config.num_labels:(i+1)*config.num_labels] = labels_names\n",
    "\n",
    "    submission_df = pd.DataFrame(data={\"Id\" : ids_, \"GO term\" : go_terms_, \"Confidence\" : confs_})\n",
    "    print(\"PREDICTIONS DONE\")\n",
    "    return submission_df"
   ]
  },
  {
   "cell_type": "code",
   "execution_count": 20,
   "id": "2f7d25c3",
   "metadata": {
    "execution": {
     "iopub.execute_input": "2023-07-04T17:40:59.060395Z",
     "iopub.status.busy": "2023-07-04T17:40:59.060021Z",
     "iopub.status.idle": "2023-07-04T17:42:39.792745Z",
     "shell.execute_reply": "2023-07-04T17:42:39.791090Z"
    },
    "papermill": {
     "duration": 101.13488,
     "end_time": "2023-07-04T17:42:39.794952",
     "exception": false,
     "start_time": "2023-07-04T17:40:58.660072",
     "status": "completed"
    },
    "tags": []
   },
   "outputs": [
    {
     "name": "stdout",
     "output_type": "stream",
     "text": [
      "GENERATE PREDICTION FOR TEST SET...\n"
     ]
    },
    {
     "name": "stderr",
     "output_type": "stream",
     "text": [
      "141865it [01:28, 1604.38it/s]\n"
     ]
    },
    {
     "name": "stdout",
     "output_type": "stream",
     "text": [
      "PREDICTIONS DONE\n"
     ]
    }
   ],
   "source": [
    "submission_df = predict(\"ProtBERT\")"
   ]
  },
  {
   "cell_type": "code",
   "execution_count": 21,
   "id": "fea67ff3",
   "metadata": {
    "execution": {
     "iopub.execute_input": "2023-07-04T17:42:40.725037Z",
     "iopub.status.busy": "2023-07-04T17:42:40.724663Z",
     "iopub.status.idle": "2023-07-04T17:42:40.729130Z",
     "shell.execute_reply": "2023-07-04T17:42:40.728222Z"
    },
    "papermill": {
     "duration": 0.463653,
     "end_time": "2023-07-04T17:42:40.731147",
     "exception": false,
     "start_time": "2023-07-04T17:42:40.267494",
     "status": "completed"
    },
    "tags": []
   },
   "outputs": [],
   "source": [
    "#np.save(\"pred.npy\", submission_df)"
   ]
  },
  {
   "cell_type": "code",
   "execution_count": 22,
   "id": "64f81dec",
   "metadata": {
    "execution": {
     "iopub.execute_input": "2023-07-04T17:42:41.647980Z",
     "iopub.status.busy": "2023-07-04T17:42:41.647617Z",
     "iopub.status.idle": "2023-07-04T17:42:41.677001Z",
     "shell.execute_reply": "2023-07-04T17:42:41.676173Z"
    },
    "papermill": {
     "duration": 0.490093,
     "end_time": "2023-07-04T17:42:41.679348",
     "exception": false,
     "start_time": "2023-07-04T17:42:41.189255",
     "status": "completed"
    },
    "tags": []
   },
   "outputs": [
    {
     "data": {
      "text/html": [
       "<div>\n",
       "<style scoped>\n",
       "    .dataframe tbody tr th:only-of-type {\n",
       "        vertical-align: middle;\n",
       "    }\n",
       "\n",
       "    .dataframe tbody tr th {\n",
       "        vertical-align: top;\n",
       "    }\n",
       "\n",
       "    .dataframe thead th {\n",
       "        text-align: right;\n",
       "    }\n",
       "</style>\n",
       "<table border=\"1\" class=\"dataframe\">\n",
       "  <thead>\n",
       "    <tr style=\"text-align: right;\">\n",
       "      <th></th>\n",
       "      <th>Id</th>\n",
       "      <th>GO term</th>\n",
       "      <th>Confidence</th>\n",
       "    </tr>\n",
       "  </thead>\n",
       "  <tbody>\n",
       "    <tr>\n",
       "      <th>0</th>\n",
       "      <td>Q9CQV8</td>\n",
       "      <td>GO:0005575</td>\n",
       "      <td>0.906818</td>\n",
       "    </tr>\n",
       "    <tr>\n",
       "      <th>1</th>\n",
       "      <td>Q9CQV8</td>\n",
       "      <td>GO:0008150</td>\n",
       "      <td>0.903472</td>\n",
       "    </tr>\n",
       "    <tr>\n",
       "      <th>2</th>\n",
       "      <td>Q9CQV8</td>\n",
       "      <td>GO:0110165</td>\n",
       "      <td>0.905195</td>\n",
       "    </tr>\n",
       "    <tr>\n",
       "      <th>3</th>\n",
       "      <td>Q9CQV8</td>\n",
       "      <td>GO:0003674</td>\n",
       "      <td>0.880664</td>\n",
       "    </tr>\n",
       "    <tr>\n",
       "      <th>4</th>\n",
       "      <td>Q9CQV8</td>\n",
       "      <td>GO:0005622</td>\n",
       "      <td>0.894402</td>\n",
       "    </tr>\n",
       "    <tr>\n",
       "      <th>...</th>\n",
       "      <td>...</td>\n",
       "      <td>...</td>\n",
       "      <td>...</td>\n",
       "    </tr>\n",
       "    <tr>\n",
       "      <th>70932495</th>\n",
       "      <td>A0A3G2FQK2</td>\n",
       "      <td>GO:0044403</td>\n",
       "      <td>0.786492</td>\n",
       "    </tr>\n",
       "    <tr>\n",
       "      <th>70932496</th>\n",
       "      <td>A0A3G2FQK2</td>\n",
       "      <td>GO:0042803</td>\n",
       "      <td>0.166554</td>\n",
       "    </tr>\n",
       "    <tr>\n",
       "      <th>70932497</th>\n",
       "      <td>A0A3G2FQK2</td>\n",
       "      <td>GO:0016829</td>\n",
       "      <td>0.037005</td>\n",
       "    </tr>\n",
       "    <tr>\n",
       "      <th>70932498</th>\n",
       "      <td>A0A3G2FQK2</td>\n",
       "      <td>GO:0090596</td>\n",
       "      <td>0.182513</td>\n",
       "    </tr>\n",
       "    <tr>\n",
       "      <th>70932499</th>\n",
       "      <td>A0A3G2FQK2</td>\n",
       "      <td>GO:0051640</td>\n",
       "      <td>0.073473</td>\n",
       "    </tr>\n",
       "  </tbody>\n",
       "</table>\n",
       "<p>70932500 rows × 3 columns</p>\n",
       "</div>"
      ],
      "text/plain": [
       "                  Id     GO term  Confidence\n",
       "0             Q9CQV8  GO:0005575    0.906818\n",
       "1             Q9CQV8  GO:0008150    0.903472\n",
       "2             Q9CQV8  GO:0110165    0.905195\n",
       "3             Q9CQV8  GO:0003674    0.880664\n",
       "4             Q9CQV8  GO:0005622    0.894402\n",
       "...              ...         ...         ...\n",
       "70932495  A0A3G2FQK2  GO:0044403    0.786492\n",
       "70932496  A0A3G2FQK2  GO:0042803    0.166554\n",
       "70932497  A0A3G2FQK2  GO:0016829    0.037005\n",
       "70932498  A0A3G2FQK2  GO:0090596    0.182513\n",
       "70932499  A0A3G2FQK2  GO:0051640    0.073473\n",
       "\n",
       "[70932500 rows x 3 columns]"
      ]
     },
     "execution_count": 22,
     "metadata": {},
     "output_type": "execute_result"
    }
   ],
   "source": [
    "submission_df"
   ]
  },
  {
   "cell_type": "code",
   "execution_count": 23,
   "id": "d6eda85b",
   "metadata": {
    "execution": {
     "iopub.execute_input": "2023-07-04T17:42:42.671858Z",
     "iopub.status.busy": "2023-07-04T17:42:42.671476Z",
     "iopub.status.idle": "2023-07-04T17:47:04.471713Z",
     "shell.execute_reply": "2023-07-04T17:47:04.470616Z"
    },
    "papermill": {
     "duration": 262.311224,
     "end_time": "2023-07-04T17:47:04.474209",
     "exception": false,
     "start_time": "2023-07-04T17:42:42.162985",
     "status": "completed"
    },
    "tags": []
   },
   "outputs": [],
   "source": [
    "submission_df.to_csv('submission.tsv', sep='\\t', index=False)"
   ]
  },
  {
   "cell_type": "code",
   "execution_count": null,
   "id": "4a683e9a",
   "metadata": {
    "papermill": {
     "duration": 0.454173,
     "end_time": "2023-07-04T17:47:05.394894",
     "exception": false,
     "start_time": "2023-07-04T17:47:04.940721",
     "status": "completed"
    },
    "tags": []
   },
   "outputs": [],
   "source": []
  }
 ],
 "metadata": {
  "kernelspec": {
   "display_name": "Python 3",
   "language": "python",
   "name": "python3"
  },
  "language_info": {
   "codemirror_mode": {
    "name": "ipython",
    "version": 3
   },
   "file_extension": ".py",
   "mimetype": "text/x-python",
   "name": "python",
   "nbconvert_exporter": "python",
   "pygments_lexer": "ipython3",
   "version": "3.10.10"
  },
  "papermill": {
   "default_parameters": {},
   "duration": 1127.487171,
   "end_time": "2023-07-04T17:47:09.213371",
   "environment_variables": {},
   "exception": null,
   "input_path": "__notebook__.ipynb",
   "output_path": "__notebook__.ipynb",
   "parameters": {},
   "start_time": "2023-07-04T17:28:21.726200",
   "version": "2.4.0"
  },
  "widgets": {
   "application/vnd.jupyter.widget-state+json": {
    "state": {
     "051293b6b17d477bb22d14d199203daf": {
      "model_module": "@jupyter-widgets/controls",
      "model_module_version": "1.5.0",
      "model_name": "HBoxModel",
      "state": {
       "_dom_classes": [],
       "_model_module": "@jupyter-widgets/controls",
       "_model_module_version": "1.5.0",
       "_model_name": "HBoxModel",
       "_view_count": null,
       "_view_module": "@jupyter-widgets/controls",
       "_view_module_version": "1.5.0",
       "_view_name": "HBoxView",
       "box_style": "",
       "children": [
        "IPY_MODEL_7b37e3123cde47aa9b673bc6ce2768dc",
        "IPY_MODEL_c67ef0eea20b4d8cbacbe9ba05af440d",
        "IPY_MODEL_b7bb012f911047fcb8889bf05876b116"
       ],
       "layout": "IPY_MODEL_712d495fc4e7428c8688513e3002a7b4"
      }
     },
     "0580f9e5e61e462aaea7f36424a374b4": {
      "model_module": "@jupyter-widgets/controls",
      "model_module_version": "1.5.0",
      "model_name": "HTMLModel",
      "state": {
       "_dom_classes": [],
       "_model_module": "@jupyter-widgets/controls",
       "_model_module_version": "1.5.0",
       "_model_name": "HTMLModel",
       "_view_count": null,
       "_view_module": "@jupyter-widgets/controls",
       "_view_module_version": "1.5.0",
       "_view_name": "HTMLView",
       "description": "",
       "description_tooltip": null,
       "layout": "IPY_MODEL_b266d38bc4bf459f9d444252585c6841",
       "placeholder": "​",
       "style": "IPY_MODEL_75dfc57092924ad384a2250354a40356",
       "value": " 81.0/81.0 [00:00&lt;00:00, 5.74kB/s]"
      }
     },
     "062b54d1482441a7a2dc3c87ba13443d": {
      "model_module": "@jupyter-widgets/base",
      "model_module_version": "1.2.0",
      "model_name": "LayoutModel",
      "state": {
       "_model_module": "@jupyter-widgets/base",
       "_model_module_version": "1.2.0",
       "_model_name": "LayoutModel",
       "_view_count": null,
       "_view_module": "@jupyter-widgets/base",
       "_view_module_version": "1.2.0",
       "_view_name": "LayoutView",
       "align_content": null,
       "align_items": null,
       "align_self": null,
       "border": null,
       "bottom": null,
       "display": null,
       "flex": null,
       "flex_flow": null,
       "grid_area": null,
       "grid_auto_columns": null,
       "grid_auto_flow": null,
       "grid_auto_rows": null,
       "grid_column": null,
       "grid_gap": null,
       "grid_row": null,
       "grid_template_areas": null,
       "grid_template_columns": null,
       "grid_template_rows": null,
       "height": null,
       "justify_content": null,
       "justify_items": null,
       "left": null,
       "margin": null,
       "max_height": null,
       "max_width": null,
       "min_height": null,
       "min_width": null,
       "object_fit": null,
       "object_position": null,
       "order": null,
       "overflow": null,
       "overflow_x": null,
       "overflow_y": null,
       "padding": null,
       "right": null,
       "top": null,
       "visibility": null,
       "width": null
      }
     },
     "0b1fabeb6f8f423f8192272f5d53ca65": {
      "model_module": "@jupyter-widgets/controls",
      "model_module_version": "1.5.0",
      "model_name": "ProgressStyleModel",
      "state": {
       "_model_module": "@jupyter-widgets/controls",
       "_model_module_version": "1.5.0",
       "_model_name": "ProgressStyleModel",
       "_view_count": null,
       "_view_module": "@jupyter-widgets/base",
       "_view_module_version": "1.2.0",
       "_view_name": "StyleView",
       "bar_color": null,
       "description_width": ""
      }
     },
     "0be062ceb585411f89e3671128e542f0": {
      "model_module": "@jupyter-widgets/controls",
      "model_module_version": "1.5.0",
      "model_name": "HBoxModel",
      "state": {
       "_dom_classes": [],
       "_model_module": "@jupyter-widgets/controls",
       "_model_module_version": "1.5.0",
       "_model_name": "HBoxModel",
       "_view_count": null,
       "_view_module": "@jupyter-widgets/controls",
       "_view_module_version": "1.5.0",
       "_view_name": "HBoxView",
       "box_style": "",
       "children": [
        "IPY_MODEL_964be496a19d4500bfb18432e9042c7d",
        "IPY_MODEL_ebed197cf2804869a50d30bc1fa37ed2",
        "IPY_MODEL_b02d0306775846a3a0e73570a0b4d8fd"
       ],
       "layout": "IPY_MODEL_062b54d1482441a7a2dc3c87ba13443d"
      }
     },
     "10f454d02c6444e2bdb718439361a474": {
      "model_module": "@jupyter-widgets/controls",
      "model_module_version": "1.5.0",
      "model_name": "DescriptionStyleModel",
      "state": {
       "_model_module": "@jupyter-widgets/controls",
       "_model_module_version": "1.5.0",
       "_model_name": "DescriptionStyleModel",
       "_view_count": null,
       "_view_module": "@jupyter-widgets/base",
       "_view_module_version": "1.2.0",
       "_view_name": "StyleView",
       "description_width": ""
      }
     },
     "11f4d7fd02e946bd91ef509d2f7fe88d": {
      "model_module": "@jupyter-widgets/base",
      "model_module_version": "1.2.0",
      "model_name": "LayoutModel",
      "state": {
       "_model_module": "@jupyter-widgets/base",
       "_model_module_version": "1.2.0",
       "_model_name": "LayoutModel",
       "_view_count": null,
       "_view_module": "@jupyter-widgets/base",
       "_view_module_version": "1.2.0",
       "_view_name": "LayoutView",
       "align_content": null,
       "align_items": null,
       "align_self": null,
       "border": null,
       "bottom": null,
       "display": null,
       "flex": null,
       "flex_flow": null,
       "grid_area": null,
       "grid_auto_columns": null,
       "grid_auto_flow": null,
       "grid_auto_rows": null,
       "grid_column": null,
       "grid_gap": null,
       "grid_row": null,
       "grid_template_areas": null,
       "grid_template_columns": null,
       "grid_template_rows": null,
       "height": null,
       "justify_content": null,
       "justify_items": null,
       "left": null,
       "margin": null,
       "max_height": null,
       "max_width": null,
       "min_height": null,
       "min_width": null,
       "object_fit": null,
       "object_position": null,
       "order": null,
       "overflow": null,
       "overflow_x": null,
       "overflow_y": null,
       "padding": null,
       "right": null,
       "top": null,
       "visibility": null,
       "width": null
      }
     },
     "1a92b500a43a41c68ab1b32f937814f6": {
      "model_module": "@jupyter-widgets/controls",
      "model_module_version": "1.5.0",
      "model_name": "HTMLModel",
      "state": {
       "_dom_classes": [],
       "_model_module": "@jupyter-widgets/controls",
       "_model_module_version": "1.5.0",
       "_model_name": "HTMLModel",
       "_view_count": null,
       "_view_module": "@jupyter-widgets/controls",
       "_view_module_version": "1.5.0",
       "_view_name": "HTMLView",
       "description": "",
       "description_tooltip": null,
       "layout": "IPY_MODEL_b8281d6bd97a4b3f85c5b885669e7d98",
       "placeholder": "​",
       "style": "IPY_MODEL_10f454d02c6444e2bdb718439361a474",
       "value": " 86.0/86.0 [00:00&lt;00:00, 6.95kB/s]"
      }
     },
     "260e2d07153b48e0b4a4adb108ec46d5": {
      "model_module": "@jupyter-widgets/base",
      "model_module_version": "1.2.0",
      "model_name": "LayoutModel",
      "state": {
       "_model_module": "@jupyter-widgets/base",
       "_model_module_version": "1.2.0",
       "_model_name": "LayoutModel",
       "_view_count": null,
       "_view_module": "@jupyter-widgets/base",
       "_view_module_version": "1.2.0",
       "_view_name": "LayoutView",
       "align_content": null,
       "align_items": null,
       "align_self": null,
       "border": null,
       "bottom": null,
       "display": null,
       "flex": null,
       "flex_flow": null,
       "grid_area": null,
       "grid_auto_columns": null,
       "grid_auto_flow": null,
       "grid_auto_rows": null,
       "grid_column": null,
       "grid_gap": null,
       "grid_row": null,
       "grid_template_areas": null,
       "grid_template_columns": null,
       "grid_template_rows": null,
       "height": null,
       "justify_content": null,
       "justify_items": null,
       "left": null,
       "margin": null,
       "max_height": null,
       "max_width": null,
       "min_height": null,
       "min_width": null,
       "object_fit": null,
       "object_position": null,
       "order": null,
       "overflow": null,
       "overflow_x": null,
       "overflow_y": null,
       "padding": null,
       "right": null,
       "top": null,
       "visibility": null,
       "width": null
      }
     },
     "287d2eebe4e340ce8a0d2baf77d3fafb": {
      "model_module": "@jupyter-widgets/base",
      "model_module_version": "1.2.0",
      "model_name": "LayoutModel",
      "state": {
       "_model_module": "@jupyter-widgets/base",
       "_model_module_version": "1.2.0",
       "_model_name": "LayoutModel",
       "_view_count": null,
       "_view_module": "@jupyter-widgets/base",
       "_view_module_version": "1.2.0",
       "_view_name": "LayoutView",
       "align_content": null,
       "align_items": null,
       "align_self": null,
       "border": null,
       "bottom": null,
       "display": null,
       "flex": null,
       "flex_flow": null,
       "grid_area": null,
       "grid_auto_columns": null,
       "grid_auto_flow": null,
       "grid_auto_rows": null,
       "grid_column": null,
       "grid_gap": null,
       "grid_row": null,
       "grid_template_areas": null,
       "grid_template_columns": null,
       "grid_template_rows": null,
       "height": null,
       "justify_content": null,
       "justify_items": null,
       "left": null,
       "margin": null,
       "max_height": null,
       "max_width": null,
       "min_height": null,
       "min_width": null,
       "object_fit": null,
       "object_position": null,
       "order": null,
       "overflow": null,
       "overflow_x": null,
       "overflow_y": null,
       "padding": null,
       "right": null,
       "top": null,
       "visibility": null,
       "width": null
      }
     },
     "296c5bf6c4634c909ab0f93def934705": {
      "model_module": "@jupyter-widgets/controls",
      "model_module_version": "1.5.0",
      "model_name": "ProgressStyleModel",
      "state": {
       "_model_module": "@jupyter-widgets/controls",
       "_model_module_version": "1.5.0",
       "_model_name": "ProgressStyleModel",
       "_view_count": null,
       "_view_module": "@jupyter-widgets/base",
       "_view_module_version": "1.2.0",
       "_view_name": "StyleView",
       "bar_color": null,
       "description_width": ""
      }
     },
     "3021648bd98f4c16906cb9935dea3b97": {
      "model_module": "@jupyter-widgets/base",
      "model_module_version": "1.2.0",
      "model_name": "LayoutModel",
      "state": {
       "_model_module": "@jupyter-widgets/base",
       "_model_module_version": "1.2.0",
       "_model_name": "LayoutModel",
       "_view_count": null,
       "_view_module": "@jupyter-widgets/base",
       "_view_module_version": "1.2.0",
       "_view_name": "LayoutView",
       "align_content": null,
       "align_items": null,
       "align_self": null,
       "border": null,
       "bottom": null,
       "display": null,
       "flex": null,
       "flex_flow": null,
       "grid_area": null,
       "grid_auto_columns": null,
       "grid_auto_flow": null,
       "grid_auto_rows": null,
       "grid_column": null,
       "grid_gap": null,
       "grid_row": null,
       "grid_template_areas": null,
       "grid_template_columns": null,
       "grid_template_rows": null,
       "height": null,
       "justify_content": null,
       "justify_items": null,
       "left": null,
       "margin": null,
       "max_height": null,
       "max_width": null,
       "min_height": null,
       "min_width": null,
       "object_fit": null,
       "object_position": null,
       "order": null,
       "overflow": null,
       "overflow_x": null,
       "overflow_y": null,
       "padding": null,
       "right": null,
       "top": null,
       "visibility": null,
       "width": null
      }
     },
     "30dcd7675789477db3ea63abe9d5d09d": {
      "model_module": "@jupyter-widgets/base",
      "model_module_version": "1.2.0",
      "model_name": "LayoutModel",
      "state": {
       "_model_module": "@jupyter-widgets/base",
       "_model_module_version": "1.2.0",
       "_model_name": "LayoutModel",
       "_view_count": null,
       "_view_module": "@jupyter-widgets/base",
       "_view_module_version": "1.2.0",
       "_view_name": "LayoutView",
       "align_content": null,
       "align_items": null,
       "align_self": null,
       "border": null,
       "bottom": null,
       "display": null,
       "flex": null,
       "flex_flow": null,
       "grid_area": null,
       "grid_auto_columns": null,
       "grid_auto_flow": null,
       "grid_auto_rows": null,
       "grid_column": null,
       "grid_gap": null,
       "grid_row": null,
       "grid_template_areas": null,
       "grid_template_columns": null,
       "grid_template_rows": null,
       "height": null,
       "justify_content": null,
       "justify_items": null,
       "left": null,
       "margin": null,
       "max_height": null,
       "max_width": null,
       "min_height": null,
       "min_width": null,
       "object_fit": null,
       "object_position": null,
       "order": null,
       "overflow": null,
       "overflow_x": null,
       "overflow_y": null,
       "padding": null,
       "right": null,
       "top": null,
       "visibility": null,
       "width": null
      }
     },
     "38dfcc4e4b054c1096a9f5ec4196beb4": {
      "model_module": "@jupyter-widgets/base",
      "model_module_version": "1.2.0",
      "model_name": "LayoutModel",
      "state": {
       "_model_module": "@jupyter-widgets/base",
       "_model_module_version": "1.2.0",
       "_model_name": "LayoutModel",
       "_view_count": null,
       "_view_module": "@jupyter-widgets/base",
       "_view_module_version": "1.2.0",
       "_view_name": "LayoutView",
       "align_content": null,
       "align_items": null,
       "align_self": null,
       "border": null,
       "bottom": null,
       "display": null,
       "flex": null,
       "flex_flow": null,
       "grid_area": null,
       "grid_auto_columns": null,
       "grid_auto_flow": null,
       "grid_auto_rows": null,
       "grid_column": null,
       "grid_gap": null,
       "grid_row": null,
       "grid_template_areas": null,
       "grid_template_columns": null,
       "grid_template_rows": null,
       "height": null,
       "justify_content": null,
       "justify_items": null,
       "left": null,
       "margin": null,
       "max_height": null,
       "max_width": null,
       "min_height": null,
       "min_width": null,
       "object_fit": null,
       "object_position": null,
       "order": null,
       "overflow": null,
       "overflow_x": null,
       "overflow_y": null,
       "padding": null,
       "right": null,
       "top": null,
       "visibility": null,
       "width": null
      }
     },
     "3bf011e9764d44e0a9c24758593468fe": {
      "model_module": "@jupyter-widgets/controls",
      "model_module_version": "1.5.0",
      "model_name": "HBoxModel",
      "state": {
       "_dom_classes": [],
       "_model_module": "@jupyter-widgets/controls",
       "_model_module_version": "1.5.0",
       "_model_name": "HBoxModel",
       "_view_count": null,
       "_view_module": "@jupyter-widgets/controls",
       "_view_module_version": "1.5.0",
       "_view_name": "HBoxView",
       "box_style": "",
       "children": [
        "IPY_MODEL_ab3b6e23fd9b42b3a3f398be5233ad59",
        "IPY_MODEL_e02f7cfa58604041992f3ffbec4a831e",
        "IPY_MODEL_1a92b500a43a41c68ab1b32f937814f6"
       ],
       "layout": "IPY_MODEL_38dfcc4e4b054c1096a9f5ec4196beb4"
      }
     },
     "4554800a1bfb4fc19551eb49d678fbcf": {
      "model_module": "@jupyter-widgets/base",
      "model_module_version": "1.2.0",
      "model_name": "LayoutModel",
      "state": {
       "_model_module": "@jupyter-widgets/base",
       "_model_module_version": "1.2.0",
       "_model_name": "LayoutModel",
       "_view_count": null,
       "_view_module": "@jupyter-widgets/base",
       "_view_module_version": "1.2.0",
       "_view_name": "LayoutView",
       "align_content": null,
       "align_items": null,
       "align_self": null,
       "border": null,
       "bottom": null,
       "display": null,
       "flex": null,
       "flex_flow": null,
       "grid_area": null,
       "grid_auto_columns": null,
       "grid_auto_flow": null,
       "grid_auto_rows": null,
       "grid_column": null,
       "grid_gap": null,
       "grid_row": null,
       "grid_template_areas": null,
       "grid_template_columns": null,
       "grid_template_rows": null,
       "height": null,
       "justify_content": null,
       "justify_items": null,
       "left": null,
       "margin": null,
       "max_height": null,
       "max_width": null,
       "min_height": null,
       "min_width": null,
       "object_fit": null,
       "object_position": null,
       "order": null,
       "overflow": null,
       "overflow_x": null,
       "overflow_y": null,
       "padding": null,
       "right": null,
       "top": null,
       "visibility": null,
       "width": null
      }
     },
     "4746cfb304264fd398871a4c35161824": {
      "model_module": "@jupyter-widgets/controls",
      "model_module_version": "1.5.0",
      "model_name": "ProgressStyleModel",
      "state": {
       "_model_module": "@jupyter-widgets/controls",
       "_model_module_version": "1.5.0",
       "_model_name": "ProgressStyleModel",
       "_view_count": null,
       "_view_module": "@jupyter-widgets/base",
       "_view_module_version": "1.2.0",
       "_view_name": "StyleView",
       "bar_color": null,
       "description_width": ""
      }
     },
     "48292a61f87c45eabe1a78d95e05a9f2": {
      "model_module": "@jupyter-widgets/controls",
      "model_module_version": "1.5.0",
      "model_name": "ProgressStyleModel",
      "state": {
       "_model_module": "@jupyter-widgets/controls",
       "_model_module_version": "1.5.0",
       "_model_name": "ProgressStyleModel",
       "_view_count": null,
       "_view_module": "@jupyter-widgets/base",
       "_view_module_version": "1.2.0",
       "_view_name": "StyleView",
       "bar_color": null,
       "description_width": ""
      }
     },
     "538d6fdaf454460c828ce6b2a6792a45": {
      "model_module": "@jupyter-widgets/controls",
      "model_module_version": "1.5.0",
      "model_name": "DescriptionStyleModel",
      "state": {
       "_model_module": "@jupyter-widgets/controls",
       "_model_module_version": "1.5.0",
       "_model_name": "DescriptionStyleModel",
       "_view_count": null,
       "_view_module": "@jupyter-widgets/base",
       "_view_module_version": "1.2.0",
       "_view_name": "StyleView",
       "description_width": ""
      }
     },
     "627e73ed44c04ed5a26c5d2f857a3ab1": {
      "model_module": "@jupyter-widgets/controls",
      "model_module_version": "1.5.0",
      "model_name": "FloatProgressModel",
      "state": {
       "_dom_classes": [],
       "_model_module": "@jupyter-widgets/controls",
       "_model_module_version": "1.5.0",
       "_model_name": "FloatProgressModel",
       "_view_count": null,
       "_view_module": "@jupyter-widgets/controls",
       "_view_module_version": "1.5.0",
       "_view_name": "ProgressView",
       "bar_style": "success",
       "description": "",
       "description_tooltip": null,
       "layout": "IPY_MODEL_f04d58656988449fb7ebd00be4afa426",
       "max": 81.0,
       "min": 0.0,
       "orientation": "horizontal",
       "style": "IPY_MODEL_73bd5fd4b3f14a57b714b9c7c5a064ee",
       "value": 81.0
      }
     },
     "67277b322470423a89c4a21fa8c27715": {
      "model_module": "@jupyter-widgets/base",
      "model_module_version": "1.2.0",
      "model_name": "LayoutModel",
      "state": {
       "_model_module": "@jupyter-widgets/base",
       "_model_module_version": "1.2.0",
       "_model_name": "LayoutModel",
       "_view_count": null,
       "_view_module": "@jupyter-widgets/base",
       "_view_module_version": "1.2.0",
       "_view_name": "LayoutView",
       "align_content": null,
       "align_items": null,
       "align_self": null,
       "border": null,
       "bottom": null,
       "display": null,
       "flex": null,
       "flex_flow": null,
       "grid_area": null,
       "grid_auto_columns": null,
       "grid_auto_flow": null,
       "grid_auto_rows": null,
       "grid_column": null,
       "grid_gap": null,
       "grid_row": null,
       "grid_template_areas": null,
       "grid_template_columns": null,
       "grid_template_rows": null,
       "height": null,
       "justify_content": null,
       "justify_items": null,
       "left": null,
       "margin": null,
       "max_height": null,
       "max_width": null,
       "min_height": null,
       "min_width": null,
       "object_fit": null,
       "object_position": null,
       "order": null,
       "overflow": null,
       "overflow_x": null,
       "overflow_y": null,
       "padding": null,
       "right": null,
       "top": null,
       "visibility": null,
       "width": null
      }
     },
     "68e5efaa5f624a6db9afe158ef36bc99": {
      "model_module": "@jupyter-widgets/controls",
      "model_module_version": "1.5.0",
      "model_name": "DescriptionStyleModel",
      "state": {
       "_model_module": "@jupyter-widgets/controls",
       "_model_module_version": "1.5.0",
       "_model_name": "DescriptionStyleModel",
       "_view_count": null,
       "_view_module": "@jupyter-widgets/base",
       "_view_module_version": "1.2.0",
       "_view_name": "StyleView",
       "description_width": ""
      }
     },
     "69c5ada17a584a38b4b0d5705e25dcfe": {
      "model_module": "@jupyter-widgets/controls",
      "model_module_version": "1.5.0",
      "model_name": "HTMLModel",
      "state": {
       "_dom_classes": [],
       "_model_module": "@jupyter-widgets/controls",
       "_model_module_version": "1.5.0",
       "_model_name": "HTMLModel",
       "_view_count": null,
       "_view_module": "@jupyter-widgets/controls",
       "_view_module_version": "1.5.0",
       "_view_name": "HTMLView",
       "description": "",
       "description_tooltip": null,
       "layout": "IPY_MODEL_3021648bd98f4c16906cb9935dea3b97",
       "placeholder": "​",
       "style": "IPY_MODEL_89552975bacc47e39e7c467c1b043940",
       "value": " 112/112 [00:00&lt;00:00, 8.30kB/s]"
      }
     },
     "712d495fc4e7428c8688513e3002a7b4": {
      "model_module": "@jupyter-widgets/base",
      "model_module_version": "1.2.0",
      "model_name": "LayoutModel",
      "state": {
       "_model_module": "@jupyter-widgets/base",
       "_model_module_version": "1.2.0",
       "_model_name": "LayoutModel",
       "_view_count": null,
       "_view_module": "@jupyter-widgets/base",
       "_view_module_version": "1.2.0",
       "_view_name": "LayoutView",
       "align_content": null,
       "align_items": null,
       "align_self": null,
       "border": null,
       "bottom": null,
       "display": null,
       "flex": null,
       "flex_flow": null,
       "grid_area": null,
       "grid_auto_columns": null,
       "grid_auto_flow": null,
       "grid_auto_rows": null,
       "grid_column": null,
       "grid_gap": null,
       "grid_row": null,
       "grid_template_areas": null,
       "grid_template_columns": null,
       "grid_template_rows": null,
       "height": null,
       "justify_content": null,
       "justify_items": null,
       "left": null,
       "margin": null,
       "max_height": null,
       "max_width": null,
       "min_height": null,
       "min_width": null,
       "object_fit": null,
       "object_position": null,
       "order": null,
       "overflow": null,
       "overflow_x": null,
       "overflow_y": null,
       "padding": null,
       "right": null,
       "top": null,
       "visibility": null,
       "width": null
      }
     },
     "73bd5fd4b3f14a57b714b9c7c5a064ee": {
      "model_module": "@jupyter-widgets/controls",
      "model_module_version": "1.5.0",
      "model_name": "ProgressStyleModel",
      "state": {
       "_model_module": "@jupyter-widgets/controls",
       "_model_module_version": "1.5.0",
       "_model_name": "ProgressStyleModel",
       "_view_count": null,
       "_view_module": "@jupyter-widgets/base",
       "_view_module_version": "1.2.0",
       "_view_name": "StyleView",
       "bar_color": null,
       "description_width": ""
      }
     },
     "75dfc57092924ad384a2250354a40356": {
      "model_module": "@jupyter-widgets/controls",
      "model_module_version": "1.5.0",
      "model_name": "DescriptionStyleModel",
      "state": {
       "_model_module": "@jupyter-widgets/controls",
       "_model_module_version": "1.5.0",
       "_model_name": "DescriptionStyleModel",
       "_view_count": null,
       "_view_module": "@jupyter-widgets/base",
       "_view_module_version": "1.2.0",
       "_view_name": "StyleView",
       "description_width": ""
      }
     },
     "7b37e3123cde47aa9b673bc6ce2768dc": {
      "model_module": "@jupyter-widgets/controls",
      "model_module_version": "1.5.0",
      "model_name": "HTMLModel",
      "state": {
       "_dom_classes": [],
       "_model_module": "@jupyter-widgets/controls",
       "_model_module_version": "1.5.0",
       "_model_name": "HTMLModel",
       "_view_count": null,
       "_view_module": "@jupyter-widgets/controls",
       "_view_module_version": "1.5.0",
       "_view_name": "HTMLView",
       "description": "",
       "description_tooltip": null,
       "layout": "IPY_MODEL_287d2eebe4e340ce8a0d2baf77d3fafb",
       "placeholder": "​",
       "style": "IPY_MODEL_f6f5c7957d8e4f53aff8b916e1aafd7b",
       "value": "Downloading (…)lve/main/config.json: 100%"
      }
     },
     "7ea5c1f9977048a3b2b34031be0eb863": {
      "model_module": "@jupyter-widgets/controls",
      "model_module_version": "1.5.0",
      "model_name": "HBoxModel",
      "state": {
       "_dom_classes": [],
       "_model_module": "@jupyter-widgets/controls",
       "_model_module_version": "1.5.0",
       "_model_name": "HBoxModel",
       "_view_count": null,
       "_view_module": "@jupyter-widgets/controls",
       "_view_module_version": "1.5.0",
       "_view_name": "HBoxView",
       "box_style": "",
       "children": [
        "IPY_MODEL_fd6d6a88dbf2461dbd43304f4418c002",
        "IPY_MODEL_d00b5c7111154a06bc8e644caecc755a",
        "IPY_MODEL_69c5ada17a584a38b4b0d5705e25dcfe"
       ],
       "layout": "IPY_MODEL_9726a8a811354ed09fc005b67a886a23"
      }
     },
     "88496d5c97204c9cb6eb795d6c16f085": {
      "model_module": "@jupyter-widgets/controls",
      "model_module_version": "1.5.0",
      "model_name": "HTMLModel",
      "state": {
       "_dom_classes": [],
       "_model_module": "@jupyter-widgets/controls",
       "_model_module_version": "1.5.0",
       "_model_name": "HTMLModel",
       "_view_count": null,
       "_view_module": "@jupyter-widgets/controls",
       "_view_module_version": "1.5.0",
       "_view_name": "HTMLView",
       "description": "",
       "description_tooltip": null,
       "layout": "IPY_MODEL_dd3ab289a79643c4a2d546b654247a9c",
       "placeholder": "​",
       "style": "IPY_MODEL_974387e3fbc14ad1a4bfa096a0dc84fd",
       "value": "Downloading (…)solve/main/vocab.txt: 100%"
      }
     },
     "89552975bacc47e39e7c467c1b043940": {
      "model_module": "@jupyter-widgets/controls",
      "model_module_version": "1.5.0",
      "model_name": "DescriptionStyleModel",
      "state": {
       "_model_module": "@jupyter-widgets/controls",
       "_model_module_version": "1.5.0",
       "_model_name": "DescriptionStyleModel",
       "_view_count": null,
       "_view_module": "@jupyter-widgets/base",
       "_view_module_version": "1.2.0",
       "_view_name": "StyleView",
       "description_width": ""
      }
     },
     "89943cf7a83f4facb42a112e0dbad6ed": {
      "model_module": "@jupyter-widgets/base",
      "model_module_version": "1.2.0",
      "model_name": "LayoutModel",
      "state": {
       "_model_module": "@jupyter-widgets/base",
       "_model_module_version": "1.2.0",
       "_model_name": "LayoutModel",
       "_view_count": null,
       "_view_module": "@jupyter-widgets/base",
       "_view_module_version": "1.2.0",
       "_view_name": "LayoutView",
       "align_content": null,
       "align_items": null,
       "align_self": null,
       "border": null,
       "bottom": null,
       "display": null,
       "flex": null,
       "flex_flow": null,
       "grid_area": null,
       "grid_auto_columns": null,
       "grid_auto_flow": null,
       "grid_auto_rows": null,
       "grid_column": null,
       "grid_gap": null,
       "grid_row": null,
       "grid_template_areas": null,
       "grid_template_columns": null,
       "grid_template_rows": null,
       "height": null,
       "justify_content": null,
       "justify_items": null,
       "left": null,
       "margin": null,
       "max_height": null,
       "max_width": null,
       "min_height": null,
       "min_width": null,
       "object_fit": null,
       "object_position": null,
       "order": null,
       "overflow": null,
       "overflow_x": null,
       "overflow_y": null,
       "padding": null,
       "right": null,
       "top": null,
       "visibility": null,
       "width": null
      }
     },
     "964be496a19d4500bfb18432e9042c7d": {
      "model_module": "@jupyter-widgets/controls",
      "model_module_version": "1.5.0",
      "model_name": "HTMLModel",
      "state": {
       "_dom_classes": [],
       "_model_module": "@jupyter-widgets/controls",
       "_model_module_version": "1.5.0",
       "_model_name": "HTMLModel",
       "_view_count": null,
       "_view_module": "@jupyter-widgets/controls",
       "_view_module_version": "1.5.0",
       "_view_name": "HTMLView",
       "description": "",
       "description_tooltip": null,
       "layout": "IPY_MODEL_e51ddfae02cb4ace919f9dc0a2369094",
       "placeholder": "​",
       "style": "IPY_MODEL_68e5efaa5f624a6db9afe158ef36bc99",
       "value": "Downloading pytorch_model.bin: 100%"
      }
     },
     "9726a8a811354ed09fc005b67a886a23": {
      "model_module": "@jupyter-widgets/base",
      "model_module_version": "1.2.0",
      "model_name": "LayoutModel",
      "state": {
       "_model_module": "@jupyter-widgets/base",
       "_model_module_version": "1.2.0",
       "_model_name": "LayoutModel",
       "_view_count": null,
       "_view_module": "@jupyter-widgets/base",
       "_view_module_version": "1.2.0",
       "_view_name": "LayoutView",
       "align_content": null,
       "align_items": null,
       "align_self": null,
       "border": null,
       "bottom": null,
       "display": null,
       "flex": null,
       "flex_flow": null,
       "grid_area": null,
       "grid_auto_columns": null,
       "grid_auto_flow": null,
       "grid_auto_rows": null,
       "grid_column": null,
       "grid_gap": null,
       "grid_row": null,
       "grid_template_areas": null,
       "grid_template_columns": null,
       "grid_template_rows": null,
       "height": null,
       "justify_content": null,
       "justify_items": null,
       "left": null,
       "margin": null,
       "max_height": null,
       "max_width": null,
       "min_height": null,
       "min_width": null,
       "object_fit": null,
       "object_position": null,
       "order": null,
       "overflow": null,
       "overflow_x": null,
       "overflow_y": null,
       "padding": null,
       "right": null,
       "top": null,
       "visibility": null,
       "width": null
      }
     },
     "974387e3fbc14ad1a4bfa096a0dc84fd": {
      "model_module": "@jupyter-widgets/controls",
      "model_module_version": "1.5.0",
      "model_name": "DescriptionStyleModel",
      "state": {
       "_model_module": "@jupyter-widgets/controls",
       "_model_module_version": "1.5.0",
       "_model_name": "DescriptionStyleModel",
       "_view_count": null,
       "_view_module": "@jupyter-widgets/base",
       "_view_module_version": "1.2.0",
       "_view_name": "StyleView",
       "description_width": ""
      }
     },
     "a35ff18cd5cf4d12988ca3c6c9b45a56": {
      "model_module": "@jupyter-widgets/controls",
      "model_module_version": "1.5.0",
      "model_name": "DescriptionStyleModel",
      "state": {
       "_model_module": "@jupyter-widgets/controls",
       "_model_module_version": "1.5.0",
       "_model_name": "DescriptionStyleModel",
       "_view_count": null,
       "_view_module": "@jupyter-widgets/base",
       "_view_module_version": "1.2.0",
       "_view_name": "StyleView",
       "description_width": ""
      }
     },
     "ab3b6e23fd9b42b3a3f398be5233ad59": {
      "model_module": "@jupyter-widgets/controls",
      "model_module_version": "1.5.0",
      "model_name": "HTMLModel",
      "state": {
       "_dom_classes": [],
       "_model_module": "@jupyter-widgets/controls",
       "_model_module_version": "1.5.0",
       "_model_name": "HTMLModel",
       "_view_count": null,
       "_view_module": "@jupyter-widgets/controls",
       "_view_module_version": "1.5.0",
       "_view_name": "HTMLView",
       "description": "",
       "description_tooltip": null,
       "layout": "IPY_MODEL_260e2d07153b48e0b4a4adb108ec46d5",
       "placeholder": "​",
       "style": "IPY_MODEL_dab114e08f1b412483a84d27f654d640",
       "value": "Downloading (…)okenizer_config.json: 100%"
      }
     },
     "b02d0306775846a3a0e73570a0b4d8fd": {
      "model_module": "@jupyter-widgets/controls",
      "model_module_version": "1.5.0",
      "model_name": "HTMLModel",
      "state": {
       "_dom_classes": [],
       "_model_module": "@jupyter-widgets/controls",
       "_model_module_version": "1.5.0",
       "_model_name": "HTMLModel",
       "_view_count": null,
       "_view_module": "@jupyter-widgets/controls",
       "_view_module_version": "1.5.0",
       "_view_name": "HTMLView",
       "description": "",
       "description_tooltip": null,
       "layout": "IPY_MODEL_4554800a1bfb4fc19551eb49d678fbcf",
       "placeholder": "​",
       "style": "IPY_MODEL_ffa760da24454f53b9ae2aef4dcd2b73",
       "value": " 1.68G/1.68G [00:16&lt;00:00, 104MB/s]"
      }
     },
     "b266d38bc4bf459f9d444252585c6841": {
      "model_module": "@jupyter-widgets/base",
      "model_module_version": "1.2.0",
      "model_name": "LayoutModel",
      "state": {
       "_model_module": "@jupyter-widgets/base",
       "_model_module_version": "1.2.0",
       "_model_name": "LayoutModel",
       "_view_count": null,
       "_view_module": "@jupyter-widgets/base",
       "_view_module_version": "1.2.0",
       "_view_name": "LayoutView",
       "align_content": null,
       "align_items": null,
       "align_self": null,
       "border": null,
       "bottom": null,
       "display": null,
       "flex": null,
       "flex_flow": null,
       "grid_area": null,
       "grid_auto_columns": null,
       "grid_auto_flow": null,
       "grid_auto_rows": null,
       "grid_column": null,
       "grid_gap": null,
       "grid_row": null,
       "grid_template_areas": null,
       "grid_template_columns": null,
       "grid_template_rows": null,
       "height": null,
       "justify_content": null,
       "justify_items": null,
       "left": null,
       "margin": null,
       "max_height": null,
       "max_width": null,
       "min_height": null,
       "min_width": null,
       "object_fit": null,
       "object_position": null,
       "order": null,
       "overflow": null,
       "overflow_x": null,
       "overflow_y": null,
       "padding": null,
       "right": null,
       "top": null,
       "visibility": null,
       "width": null
      }
     },
     "b4cf3e6ba8f146e8a2e7d0b1d3e06124": {
      "model_module": "@jupyter-widgets/base",
      "model_module_version": "1.2.0",
      "model_name": "LayoutModel",
      "state": {
       "_model_module": "@jupyter-widgets/base",
       "_model_module_version": "1.2.0",
       "_model_name": "LayoutModel",
       "_view_count": null,
       "_view_module": "@jupyter-widgets/base",
       "_view_module_version": "1.2.0",
       "_view_name": "LayoutView",
       "align_content": null,
       "align_items": null,
       "align_self": null,
       "border": null,
       "bottom": null,
       "display": null,
       "flex": null,
       "flex_flow": null,
       "grid_area": null,
       "grid_auto_columns": null,
       "grid_auto_flow": null,
       "grid_auto_rows": null,
       "grid_column": null,
       "grid_gap": null,
       "grid_row": null,
       "grid_template_areas": null,
       "grid_template_columns": null,
       "grid_template_rows": null,
       "height": null,
       "justify_content": null,
       "justify_items": null,
       "left": null,
       "margin": null,
       "max_height": null,
       "max_width": null,
       "min_height": null,
       "min_width": null,
       "object_fit": null,
       "object_position": null,
       "order": null,
       "overflow": null,
       "overflow_x": null,
       "overflow_y": null,
       "padding": null,
       "right": null,
       "top": null,
       "visibility": null,
       "width": null
      }
     },
     "b7bb012f911047fcb8889bf05876b116": {
      "model_module": "@jupyter-widgets/controls",
      "model_module_version": "1.5.0",
      "model_name": "HTMLModel",
      "state": {
       "_dom_classes": [],
       "_model_module": "@jupyter-widgets/controls",
       "_model_module_version": "1.5.0",
       "_model_name": "HTMLModel",
       "_view_count": null,
       "_view_module": "@jupyter-widgets/controls",
       "_view_module_version": "1.5.0",
       "_view_name": "HTMLView",
       "description": "",
       "description_tooltip": null,
       "layout": "IPY_MODEL_f2382c82d2a54da6ad0a3d74254c4eb8",
       "placeholder": "​",
       "style": "IPY_MODEL_538d6fdaf454460c828ce6b2a6792a45",
       "value": " 361/361 [00:00&lt;00:00, 26.5kB/s]"
      }
     },
     "b8281d6bd97a4b3f85c5b885669e7d98": {
      "model_module": "@jupyter-widgets/base",
      "model_module_version": "1.2.0",
      "model_name": "LayoutModel",
      "state": {
       "_model_module": "@jupyter-widgets/base",
       "_model_module_version": "1.2.0",
       "_model_name": "LayoutModel",
       "_view_count": null,
       "_view_module": "@jupyter-widgets/base",
       "_view_module_version": "1.2.0",
       "_view_name": "LayoutView",
       "align_content": null,
       "align_items": null,
       "align_self": null,
       "border": null,
       "bottom": null,
       "display": null,
       "flex": null,
       "flex_flow": null,
       "grid_area": null,
       "grid_auto_columns": null,
       "grid_auto_flow": null,
       "grid_auto_rows": null,
       "grid_column": null,
       "grid_gap": null,
       "grid_row": null,
       "grid_template_areas": null,
       "grid_template_columns": null,
       "grid_template_rows": null,
       "height": null,
       "justify_content": null,
       "justify_items": null,
       "left": null,
       "margin": null,
       "max_height": null,
       "max_width": null,
       "min_height": null,
       "min_width": null,
       "object_fit": null,
       "object_position": null,
       "order": null,
       "overflow": null,
       "overflow_x": null,
       "overflow_y": null,
       "padding": null,
       "right": null,
       "top": null,
       "visibility": null,
       "width": null
      }
     },
     "c0983b469562458295847a6594ce4663": {
      "model_module": "@jupyter-widgets/base",
      "model_module_version": "1.2.0",
      "model_name": "LayoutModel",
      "state": {
       "_model_module": "@jupyter-widgets/base",
       "_model_module_version": "1.2.0",
       "_model_name": "LayoutModel",
       "_view_count": null,
       "_view_module": "@jupyter-widgets/base",
       "_view_module_version": "1.2.0",
       "_view_name": "LayoutView",
       "align_content": null,
       "align_items": null,
       "align_self": null,
       "border": null,
       "bottom": null,
       "display": null,
       "flex": null,
       "flex_flow": null,
       "grid_area": null,
       "grid_auto_columns": null,
       "grid_auto_flow": null,
       "grid_auto_rows": null,
       "grid_column": null,
       "grid_gap": null,
       "grid_row": null,
       "grid_template_areas": null,
       "grid_template_columns": null,
       "grid_template_rows": null,
       "height": null,
       "justify_content": null,
       "justify_items": null,
       "left": null,
       "margin": null,
       "max_height": null,
       "max_width": null,
       "min_height": null,
       "min_width": null,
       "object_fit": null,
       "object_position": null,
       "order": null,
       "overflow": null,
       "overflow_x": null,
       "overflow_y": null,
       "padding": null,
       "right": null,
       "top": null,
       "visibility": null,
       "width": null
      }
     },
     "c67ef0eea20b4d8cbacbe9ba05af440d": {
      "model_module": "@jupyter-widgets/controls",
      "model_module_version": "1.5.0",
      "model_name": "FloatProgressModel",
      "state": {
       "_dom_classes": [],
       "_model_module": "@jupyter-widgets/controls",
       "_model_module_version": "1.5.0",
       "_model_name": "FloatProgressModel",
       "_view_count": null,
       "_view_module": "@jupyter-widgets/controls",
       "_view_module_version": "1.5.0",
       "_view_name": "ProgressView",
       "bar_style": "success",
       "description": "",
       "description_tooltip": null,
       "layout": "IPY_MODEL_30dcd7675789477db3ea63abe9d5d09d",
       "max": 361.0,
       "min": 0.0,
       "orientation": "horizontal",
       "style": "IPY_MODEL_4746cfb304264fd398871a4c35161824",
       "value": 361.0
      }
     },
     "d00b5c7111154a06bc8e644caecc755a": {
      "model_module": "@jupyter-widgets/controls",
      "model_module_version": "1.5.0",
      "model_name": "FloatProgressModel",
      "state": {
       "_dom_classes": [],
       "_model_module": "@jupyter-widgets/controls",
       "_model_module_version": "1.5.0",
       "_model_name": "FloatProgressModel",
       "_view_count": null,
       "_view_module": "@jupyter-widgets/controls",
       "_view_module_version": "1.5.0",
       "_view_name": "ProgressView",
       "bar_style": "success",
       "description": "",
       "description_tooltip": null,
       "layout": "IPY_MODEL_b4cf3e6ba8f146e8a2e7d0b1d3e06124",
       "max": 112.0,
       "min": 0.0,
       "orientation": "horizontal",
       "style": "IPY_MODEL_296c5bf6c4634c909ab0f93def934705",
       "value": 112.0
      }
     },
     "dab114e08f1b412483a84d27f654d640": {
      "model_module": "@jupyter-widgets/controls",
      "model_module_version": "1.5.0",
      "model_name": "DescriptionStyleModel",
      "state": {
       "_model_module": "@jupyter-widgets/controls",
       "_model_module_version": "1.5.0",
       "_model_name": "DescriptionStyleModel",
       "_view_count": null,
       "_view_module": "@jupyter-widgets/base",
       "_view_module_version": "1.2.0",
       "_view_name": "StyleView",
       "description_width": ""
      }
     },
     "dd1cc3fffe6d474ebd58d486aafc8ee8": {
      "model_module": "@jupyter-widgets/controls",
      "model_module_version": "1.5.0",
      "model_name": "HBoxModel",
      "state": {
       "_dom_classes": [],
       "_model_module": "@jupyter-widgets/controls",
       "_model_module_version": "1.5.0",
       "_model_name": "HBoxModel",
       "_view_count": null,
       "_view_module": "@jupyter-widgets/controls",
       "_view_module_version": "1.5.0",
       "_view_name": "HBoxView",
       "box_style": "",
       "children": [
        "IPY_MODEL_88496d5c97204c9cb6eb795d6c16f085",
        "IPY_MODEL_627e73ed44c04ed5a26c5d2f857a3ab1",
        "IPY_MODEL_0580f9e5e61e462aaea7f36424a374b4"
       ],
       "layout": "IPY_MODEL_67277b322470423a89c4a21fa8c27715"
      }
     },
     "dd3ab289a79643c4a2d546b654247a9c": {
      "model_module": "@jupyter-widgets/base",
      "model_module_version": "1.2.0",
      "model_name": "LayoutModel",
      "state": {
       "_model_module": "@jupyter-widgets/base",
       "_model_module_version": "1.2.0",
       "_model_name": "LayoutModel",
       "_view_count": null,
       "_view_module": "@jupyter-widgets/base",
       "_view_module_version": "1.2.0",
       "_view_name": "LayoutView",
       "align_content": null,
       "align_items": null,
       "align_self": null,
       "border": null,
       "bottom": null,
       "display": null,
       "flex": null,
       "flex_flow": null,
       "grid_area": null,
       "grid_auto_columns": null,
       "grid_auto_flow": null,
       "grid_auto_rows": null,
       "grid_column": null,
       "grid_gap": null,
       "grid_row": null,
       "grid_template_areas": null,
       "grid_template_columns": null,
       "grid_template_rows": null,
       "height": null,
       "justify_content": null,
       "justify_items": null,
       "left": null,
       "margin": null,
       "max_height": null,
       "max_width": null,
       "min_height": null,
       "min_width": null,
       "object_fit": null,
       "object_position": null,
       "order": null,
       "overflow": null,
       "overflow_x": null,
       "overflow_y": null,
       "padding": null,
       "right": null,
       "top": null,
       "visibility": null,
       "width": null
      }
     },
     "e02f7cfa58604041992f3ffbec4a831e": {
      "model_module": "@jupyter-widgets/controls",
      "model_module_version": "1.5.0",
      "model_name": "FloatProgressModel",
      "state": {
       "_dom_classes": [],
       "_model_module": "@jupyter-widgets/controls",
       "_model_module_version": "1.5.0",
       "_model_name": "FloatProgressModel",
       "_view_count": null,
       "_view_module": "@jupyter-widgets/controls",
       "_view_module_version": "1.5.0",
       "_view_name": "ProgressView",
       "bar_style": "success",
       "description": "",
       "description_tooltip": null,
       "layout": "IPY_MODEL_11f4d7fd02e946bd91ef509d2f7fe88d",
       "max": 86.0,
       "min": 0.0,
       "orientation": "horizontal",
       "style": "IPY_MODEL_48292a61f87c45eabe1a78d95e05a9f2",
       "value": 86.0
      }
     },
     "e51ddfae02cb4ace919f9dc0a2369094": {
      "model_module": "@jupyter-widgets/base",
      "model_module_version": "1.2.0",
      "model_name": "LayoutModel",
      "state": {
       "_model_module": "@jupyter-widgets/base",
       "_model_module_version": "1.2.0",
       "_model_name": "LayoutModel",
       "_view_count": null,
       "_view_module": "@jupyter-widgets/base",
       "_view_module_version": "1.2.0",
       "_view_name": "LayoutView",
       "align_content": null,
       "align_items": null,
       "align_self": null,
       "border": null,
       "bottom": null,
       "display": null,
       "flex": null,
       "flex_flow": null,
       "grid_area": null,
       "grid_auto_columns": null,
       "grid_auto_flow": null,
       "grid_auto_rows": null,
       "grid_column": null,
       "grid_gap": null,
       "grid_row": null,
       "grid_template_areas": null,
       "grid_template_columns": null,
       "grid_template_rows": null,
       "height": null,
       "justify_content": null,
       "justify_items": null,
       "left": null,
       "margin": null,
       "max_height": null,
       "max_width": null,
       "min_height": null,
       "min_width": null,
       "object_fit": null,
       "object_position": null,
       "order": null,
       "overflow": null,
       "overflow_x": null,
       "overflow_y": null,
       "padding": null,
       "right": null,
       "top": null,
       "visibility": null,
       "width": null
      }
     },
     "ebed197cf2804869a50d30bc1fa37ed2": {
      "model_module": "@jupyter-widgets/controls",
      "model_module_version": "1.5.0",
      "model_name": "FloatProgressModel",
      "state": {
       "_dom_classes": [],
       "_model_module": "@jupyter-widgets/controls",
       "_model_module_version": "1.5.0",
       "_model_name": "FloatProgressModel",
       "_view_count": null,
       "_view_module": "@jupyter-widgets/controls",
       "_view_module_version": "1.5.0",
       "_view_name": "ProgressView",
       "bar_style": "success",
       "description": "",
       "description_tooltip": null,
       "layout": "IPY_MODEL_c0983b469562458295847a6594ce4663",
       "max": 1684058277.0,
       "min": 0.0,
       "orientation": "horizontal",
       "style": "IPY_MODEL_0b1fabeb6f8f423f8192272f5d53ca65",
       "value": 1684058277.0
      }
     },
     "f04d58656988449fb7ebd00be4afa426": {
      "model_module": "@jupyter-widgets/base",
      "model_module_version": "1.2.0",
      "model_name": "LayoutModel",
      "state": {
       "_model_module": "@jupyter-widgets/base",
       "_model_module_version": "1.2.0",
       "_model_name": "LayoutModel",
       "_view_count": null,
       "_view_module": "@jupyter-widgets/base",
       "_view_module_version": "1.2.0",
       "_view_name": "LayoutView",
       "align_content": null,
       "align_items": null,
       "align_self": null,
       "border": null,
       "bottom": null,
       "display": null,
       "flex": null,
       "flex_flow": null,
       "grid_area": null,
       "grid_auto_columns": null,
       "grid_auto_flow": null,
       "grid_auto_rows": null,
       "grid_column": null,
       "grid_gap": null,
       "grid_row": null,
       "grid_template_areas": null,
       "grid_template_columns": null,
       "grid_template_rows": null,
       "height": null,
       "justify_content": null,
       "justify_items": null,
       "left": null,
       "margin": null,
       "max_height": null,
       "max_width": null,
       "min_height": null,
       "min_width": null,
       "object_fit": null,
       "object_position": null,
       "order": null,
       "overflow": null,
       "overflow_x": null,
       "overflow_y": null,
       "padding": null,
       "right": null,
       "top": null,
       "visibility": null,
       "width": null
      }
     },
     "f2382c82d2a54da6ad0a3d74254c4eb8": {
      "model_module": "@jupyter-widgets/base",
      "model_module_version": "1.2.0",
      "model_name": "LayoutModel",
      "state": {
       "_model_module": "@jupyter-widgets/base",
       "_model_module_version": "1.2.0",
       "_model_name": "LayoutModel",
       "_view_count": null,
       "_view_module": "@jupyter-widgets/base",
       "_view_module_version": "1.2.0",
       "_view_name": "LayoutView",
       "align_content": null,
       "align_items": null,
       "align_self": null,
       "border": null,
       "bottom": null,
       "display": null,
       "flex": null,
       "flex_flow": null,
       "grid_area": null,
       "grid_auto_columns": null,
       "grid_auto_flow": null,
       "grid_auto_rows": null,
       "grid_column": null,
       "grid_gap": null,
       "grid_row": null,
       "grid_template_areas": null,
       "grid_template_columns": null,
       "grid_template_rows": null,
       "height": null,
       "justify_content": null,
       "justify_items": null,
       "left": null,
       "margin": null,
       "max_height": null,
       "max_width": null,
       "min_height": null,
       "min_width": null,
       "object_fit": null,
       "object_position": null,
       "order": null,
       "overflow": null,
       "overflow_x": null,
       "overflow_y": null,
       "padding": null,
       "right": null,
       "top": null,
       "visibility": null,
       "width": null
      }
     },
     "f6f5c7957d8e4f53aff8b916e1aafd7b": {
      "model_module": "@jupyter-widgets/controls",
      "model_module_version": "1.5.0",
      "model_name": "DescriptionStyleModel",
      "state": {
       "_model_module": "@jupyter-widgets/controls",
       "_model_module_version": "1.5.0",
       "_model_name": "DescriptionStyleModel",
       "_view_count": null,
       "_view_module": "@jupyter-widgets/base",
       "_view_module_version": "1.2.0",
       "_view_name": "StyleView",
       "description_width": ""
      }
     },
     "fd6d6a88dbf2461dbd43304f4418c002": {
      "model_module": "@jupyter-widgets/controls",
      "model_module_version": "1.5.0",
      "model_name": "HTMLModel",
      "state": {
       "_dom_classes": [],
       "_model_module": "@jupyter-widgets/controls",
       "_model_module_version": "1.5.0",
       "_model_name": "HTMLModel",
       "_view_count": null,
       "_view_module": "@jupyter-widgets/controls",
       "_view_module_version": "1.5.0",
       "_view_name": "HTMLView",
       "description": "",
       "description_tooltip": null,
       "layout": "IPY_MODEL_89943cf7a83f4facb42a112e0dbad6ed",
       "placeholder": "​",
       "style": "IPY_MODEL_a35ff18cd5cf4d12988ca3c6c9b45a56",
       "value": "Downloading (…)cial_tokens_map.json: 100%"
      }
     },
     "ffa760da24454f53b9ae2aef4dcd2b73": {
      "model_module": "@jupyter-widgets/controls",
      "model_module_version": "1.5.0",
      "model_name": "DescriptionStyleModel",
      "state": {
       "_model_module": "@jupyter-widgets/controls",
       "_model_module_version": "1.5.0",
       "_model_name": "DescriptionStyleModel",
       "_view_count": null,
       "_view_module": "@jupyter-widgets/base",
       "_view_module_version": "1.2.0",
       "_view_name": "StyleView",
       "description_width": ""
      }
     }
    },
    "version_major": 2,
    "version_minor": 0
   }
  }
 },
 "nbformat": 4,
 "nbformat_minor": 5
}
