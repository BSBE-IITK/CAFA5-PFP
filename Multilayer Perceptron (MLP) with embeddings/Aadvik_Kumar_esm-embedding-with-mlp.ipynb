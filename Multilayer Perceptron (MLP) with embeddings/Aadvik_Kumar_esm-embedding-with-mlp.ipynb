{
 "cells": [
  {
   "cell_type": "code",
   "execution_count": 1,
   "id": "6ef1ba48",
   "metadata": {
    "_cell_guid": "b1076dfc-b9ad-4769-8c92-a6c4dae69d19",
    "_uuid": "8f2839f25d086af736a60e9eeb907d3b93b6e0e5",
    "execution": {
     "iopub.execute_input": "2023-07-06T17:35:23.183995Z",
     "iopub.status.busy": "2023-07-06T17:35:23.183556Z",
     "iopub.status.idle": "2023-07-06T17:35:49.974938Z",
     "shell.execute_reply": "2023-07-06T17:35:49.973067Z"
    },
    "papermill": {
     "duration": 26.800998,
     "end_time": "2023-07-06T17:35:49.977299",
     "exception": false,
     "start_time": "2023-07-06T17:35:23.176301",
     "status": "completed"
    },
    "tags": []
   },
   "outputs": [
    {
     "name": "stderr",
     "output_type": "stream",
     "text": [
      "/opt/conda/lib/python3.10/site-packages/tensorflow_io/python/ops/__init__.py:98: UserWarning: unable to load libtensorflow_io_plugins.so: unable to open file: libtensorflow_io_plugins.so, from paths: ['/opt/conda/lib/python3.10/site-packages/tensorflow_io/python/ops/libtensorflow_io_plugins.so']\n",
      "caused by: ['/opt/conda/lib/python3.10/site-packages/tensorflow_io/python/ops/libtensorflow_io_plugins.so: undefined symbol: _ZN3tsl6StatusC1EN10tensorflow5error4CodeESt17basic_string_viewIcSt11char_traitsIcEENS_14SourceLocationE']\n",
      "  warnings.warn(f\"unable to load libtensorflow_io_plugins.so: {e}\")\n",
      "/opt/conda/lib/python3.10/site-packages/tensorflow_io/python/ops/__init__.py:104: UserWarning: file system plugins are not loaded: unable to open file: libtensorflow_io.so, from paths: ['/opt/conda/lib/python3.10/site-packages/tensorflow_io/python/ops/libtensorflow_io.so']\n",
      "caused by: ['/opt/conda/lib/python3.10/site-packages/tensorflow_io/python/ops/libtensorflow_io.so: undefined symbol: _ZTVN10tensorflow13GcsFileSystemE']\n",
      "  warnings.warn(f\"file system plugins are not loaded: {e}\")\n"
     ]
    },
    {
     "name": "stdout",
     "output_type": "stream",
     "text": [
      "/kaggle/input/cafa-5-protein-function-prediction/sample_submission.tsv\n",
      "/kaggle/input/cafa-5-protein-function-prediction/IA.txt\n",
      "/kaggle/input/cafa-5-protein-function-prediction/Test (Targets)/testsuperset.fasta\n",
      "/kaggle/input/cafa-5-protein-function-prediction/Test (Targets)/testsuperset-taxon-list.tsv\n",
      "/kaggle/input/cafa-5-protein-function-prediction/Train/train_terms.tsv\n",
      "/kaggle/input/cafa-5-protein-function-prediction/Train/train_sequences.fasta\n",
      "/kaggle/input/cafa-5-protein-function-prediction/Train/train_taxonomy.tsv\n",
      "/kaggle/input/cafa-5-protein-function-prediction/Train/go-basic.obo\n",
      "/kaggle/input/cafa5-esm-2-3b-various-poolings/train_ids.npy\n",
      "/kaggle/input/cafa5-esm-2-3b-various-poolings/test_ids.npy\n",
      "/kaggle/input/cafa5-esm-2-3b-various-poolings/mean/train_embeddings.npy\n",
      "/kaggle/input/cafa5-esm-2-3b-various-poolings/mean/test_embeddings.npy\n",
      "/kaggle/input/cafa5-esm-2-3b-various-poolings/sum/train_embeddings.npy\n",
      "/kaggle/input/cafa5-esm-2-3b-various-poolings/sum/test_embeddings.npy\n",
      "/kaggle/input/cafa5-esm-2-3b-various-poolings/cls/train_embeddings.npy\n",
      "/kaggle/input/cafa5-esm-2-3b-various-poolings/cls/test_embeddings.npy\n",
      "/kaggle/input/esm-2-3b-embeddings-with-three-pooling-methods/submission.tsv\n",
      "/kaggle/input/esm-2-3b-embeddings-with-three-pooling-methods/train_targets_top500.npy\n",
      "/kaggle/input/esm-2-3b-embeddings-with-three-pooling-methods/__results__.html\n",
      "/kaggle/input/esm-2-3b-embeddings-with-three-pooling-methods/__resultx__.html\n",
      "/kaggle/input/esm-2-3b-embeddings-with-three-pooling-methods/__notebook__.ipynb\n",
      "/kaggle/input/esm-2-3b-embeddings-with-three-pooling-methods/__output__.json\n",
      "/kaggle/input/esm-2-3b-embeddings-with-three-pooling-methods/custom.css\n",
      "/kaggle/input/esm-2-3b-embeddings-with-three-pooling-methods/__results___files/__results___13_1.png\n",
      "/kaggle/input/esm-2-3b-embeddings-with-three-pooling-methods/__results___files/__results___13_0.png\n"
     ]
    }
   ],
   "source": [
    "from Bio import SeqIO\n",
    "import pandas as pd\n",
    "MAIN_DIR = \"/kaggle/input/cafa-5-protein-function-prediction\"\n",
    "\n",
    "# UTILITARIES\n",
    "import numpy as np\n",
    "from tqdm import tqdm\n",
    "import time\n",
    "import matplotlib.pyplot as plt\n",
    "plt.style.use('ggplot')\n",
    "\n",
    "# TORCH MODULES FOR METRICS COMPUTATION :\n",
    "import torch\n",
    "from torch.utils.data import Dataset\n",
    "from torch import nn\n",
    "from torch.utils.data import random_split\n",
    "from torch.optim.lr_scheduler import ReduceLROnPlateau\n",
    "from torchmetrics.classification import MultilabelF1Score\n",
    "from torchmetrics.classification import MultilabelAccuracy\n",
    "\n",
    "import pytorch_lightning as pl\n",
    "from pytorch_lightning import Trainer\n",
    "from pytorch_lightning.loggers import WandbLogger\n",
    "\n",
    "# WANDB FOR LIGHTNING :\n",
    "import wandb\n",
    "\n",
    "# FILES VISUALIZATION\n",
    "import os\n",
    "for dirname, _, filenames in os.walk('/kaggle/input'):\n",
    "    for filename in filenames:\n",
    "        print(os.path.join(dirname, filename))"
   ]
  },
  {
   "cell_type": "code",
   "execution_count": 2,
   "id": "f8059665",
   "metadata": {
    "execution": {
     "iopub.execute_input": "2023-07-06T17:35:49.990538Z",
     "iopub.status.busy": "2023-07-06T17:35:49.990196Z",
     "iopub.status.idle": "2023-07-06T17:35:50.011457Z",
     "shell.execute_reply": "2023-07-06T17:35:50.010477Z"
    },
    "papermill": {
     "duration": 0.030675,
     "end_time": "2023-07-06T17:35:50.014005",
     "exception": false,
     "start_time": "2023-07-06T17:35:49.983330",
     "status": "completed"
    },
    "tags": []
   },
   "outputs": [],
   "source": [
    "class config:\n",
    "    train_sequences_path = MAIN_DIR  + \"/Train/train_sequences.fasta\"\n",
    "    train_labels_path = MAIN_DIR + \"/Train/train_terms.tsv\"\n",
    "    test_sequences_path = MAIN_DIR + \"/Test (Targets)/testsuperset.fasta\"\n",
    "    \n",
    "    num_labels = 500\n",
    "    n_epochs = 35\n",
    "    batch_size = 128\n",
    "    lr = 0.001\n",
    "    \n",
    "    device = torch.device('cuda' if torch.cuda.is_available() else 'cpu')"
   ]
  },
  {
   "cell_type": "code",
   "execution_count": 3,
   "id": "e1bebf26",
   "metadata": {
    "execution": {
     "iopub.execute_input": "2023-07-06T17:35:50.026338Z",
     "iopub.status.busy": "2023-07-06T17:35:50.026026Z",
     "iopub.status.idle": "2023-07-06T17:36:22.860969Z",
     "shell.execute_reply": "2023-07-06T17:36:22.859995Z"
    },
    "papermill": {
     "duration": 32.843673,
     "end_time": "2023-07-06T17:36:22.863302",
     "exception": false,
     "start_time": "2023-07-06T17:35:50.019629",
     "status": "completed"
    },
    "tags": []
   },
   "outputs": [
    {
     "name": "stdout",
     "output_type": "stream",
     "text": [
      "Load ProtBERT Model...\n"
     ]
    },
    {
     "data": {
      "application/vnd.jupyter.widget-view+json": {
       "model_id": "430b37f158c44129a92479887bb7d5ab",
       "version_major": 2,
       "version_minor": 0
      },
      "text/plain": [
       "Downloading (…)solve/main/vocab.txt:   0%|          | 0.00/81.0 [00:00<?, ?B/s]"
      ]
     },
     "metadata": {},
     "output_type": "display_data"
    },
    {
     "data": {
      "application/vnd.jupyter.widget-view+json": {
       "model_id": "2a9e9050f3fb411ea0f5ab215fdbf8c3",
       "version_major": 2,
       "version_minor": 0
      },
      "text/plain": [
       "Downloading (…)cial_tokens_map.json:   0%|          | 0.00/112 [00:00<?, ?B/s]"
      ]
     },
     "metadata": {},
     "output_type": "display_data"
    },
    {
     "data": {
      "application/vnd.jupyter.widget-view+json": {
       "model_id": "6ab2b5449c67402aa1834b7660e4c27a",
       "version_major": 2,
       "version_minor": 0
      },
      "text/plain": [
       "Downloading (…)okenizer_config.json:   0%|          | 0.00/86.0 [00:00<?, ?B/s]"
      ]
     },
     "metadata": {},
     "output_type": "display_data"
    },
    {
     "data": {
      "application/vnd.jupyter.widget-view+json": {
       "model_id": "78788c298c3a4376984494ae5b39565f",
       "version_major": 2,
       "version_minor": 0
      },
      "text/plain": [
       "Downloading (…)lve/main/config.json:   0%|          | 0.00/361 [00:00<?, ?B/s]"
      ]
     },
     "metadata": {},
     "output_type": "display_data"
    },
    {
     "data": {
      "application/vnd.jupyter.widget-view+json": {
       "model_id": "91a375c029594487a51d27689beb86f4",
       "version_major": 2,
       "version_minor": 0
      },
      "text/plain": [
       "Downloading pytorch_model.bin:   0%|          | 0.00/1.68G [00:00<?, ?B/s]"
      ]
     },
     "metadata": {},
     "output_type": "display_data"
    },
    {
     "name": "stderr",
     "output_type": "stream",
     "text": [
      "Some weights of the model checkpoint at Rostlab/prot_bert were not used when initializing BertModel: ['cls.predictions.bias', 'cls.predictions.transform.dense.bias', 'cls.predictions.transform.dense.weight', 'cls.predictions.decoder.bias', 'cls.predictions.transform.LayerNorm.bias', 'cls.predictions.decoder.weight', 'cls.seq_relationship.bias', 'cls.seq_relationship.weight', 'cls.predictions.transform.LayerNorm.weight']\n",
      "- This IS expected if you are initializing BertModel from the checkpoint of a model trained on another task or with another architecture (e.g. initializing a BertForSequenceClassification model from a BertForPreTraining model).\n",
      "- This IS NOT expected if you are initializing BertModel from the checkpoint of a model that you expect to be exactly identical (initializing a BertForSequenceClassification model from a BertForSequenceClassification model).\n"
     ]
    }
   ],
   "source": [
    "print(\"Load ProtBERT Model...\")\n",
    "# PROT BERT LOADING :\n",
    "from transformers import BertModel, BertTokenizer\n",
    "tokenizer = BertTokenizer.from_pretrained(\"Rostlab/prot_bert\", do_lower_case=False )\n",
    "model = BertModel.from_pretrained(\"Rostlab/prot_bert\").to(config.device)"
   ]
  },
  {
   "cell_type": "code",
   "execution_count": 4,
   "id": "5caf3885",
   "metadata": {
    "execution": {
     "iopub.execute_input": "2023-07-06T17:36:22.879255Z",
     "iopub.status.busy": "2023-07-06T17:36:22.877571Z",
     "iopub.status.idle": "2023-07-06T17:37:41.656893Z",
     "shell.execute_reply": "2023-07-06T17:37:41.655800Z"
    },
    "papermill": {
     "duration": 78.789917,
     "end_time": "2023-07-06T17:37:41.659831",
     "exception": false,
     "start_time": "2023-07-06T17:36:22.869914",
     "status": "completed"
    },
    "tags": []
   },
   "outputs": [
    {
     "name": "stdout",
     "output_type": "stream",
     "text": [
      "GENERATE TARGETS FOR ENTRY IDS (500 MOST COMMON GO TERMS)\n"
     ]
    },
    {
     "name": "stderr",
     "output_type": "stream",
     "text": [
      "142246it [01:06, 2146.05it/s]\n"
     ]
    },
    {
     "name": "stdout",
     "output_type": "stream",
     "text": [
      "GENERATION FINISHED!\n"
     ]
    }
   ],
   "source": [
    "print(\"GENERATE TARGETS FOR ENTRY IDS (\"+str(config.num_labels)+\" MOST COMMON GO TERMS)\")\n",
    "ids = np.load(\"/kaggle/input/cafa5-esm-2-3b-various-poolings/train_ids.npy\")\n",
    "labels = pd.read_csv(config.train_labels_path, sep = \"\\t\")\n",
    "\n",
    "top_terms = labels.groupby(\"term\")[\"EntryID\"].count().sort_values(ascending=False)\n",
    "labels_names = top_terms[:config.num_labels].index.values\n",
    "train_labels_sub = labels[(labels.term.isin(labels_names)) & (labels.EntryID.isin(ids))]\n",
    "id_labels = train_labels_sub.groupby('EntryID')['term'].apply(list).to_dict()\n",
    "\n",
    "go_terms_map = {label: i for i, label in enumerate(labels_names)}\n",
    "labels_matrix = np.empty((len(ids), len(labels_names)))\n",
    "\n",
    "for index, id in tqdm(enumerate(ids)):\n",
    "    id_gos_list = id_labels[id]\n",
    "    temp = [go_terms_map[go] for go in labels_names if go in id_gos_list]\n",
    "    labels_matrix[index, temp] = 1\n",
    "\n",
    "np.save(\"/kaggle/working/train_targets_top\"+str(config.num_labels)+\".npy\", np.array(labels_matrix))\n",
    "print(\"GENERATION FINISHED!\")"
   ]
  },
  {
   "cell_type": "code",
   "execution_count": 5,
   "id": "e6ea8eab",
   "metadata": {
    "execution": {
     "iopub.execute_input": "2023-07-06T17:37:41.773204Z",
     "iopub.status.busy": "2023-07-06T17:37:41.772790Z",
     "iopub.status.idle": "2023-07-06T17:37:41.779483Z",
     "shell.execute_reply": "2023-07-06T17:37:41.777405Z"
    },
    "papermill": {
     "duration": 0.066949,
     "end_time": "2023-07-06T17:37:41.781967",
     "exception": false,
     "start_time": "2023-07-06T17:37:41.715018",
     "status": "completed"
    },
    "tags": []
   },
   "outputs": [],
   "source": [
    "# Directories for the different embedding vectors : \n",
    "embeds_map = {\n",
    "    'ids' : \"cafa5-esm-2-3b-various-poolings/\",\n",
    "    \"cls\" : \"cafa5-esm-2-3b-various-poolings/cls\",\n",
    "    \"sum\" : \"cafa5-esm-2-3b-various-poolings/sum\",\n",
    "    \"mean\" : \"cafa5-esm-2-3b-various-poolings/mean\"\n",
    "}\n",
    "\n",
    "# Length of the different embedding vectors :\n",
    "embeds_dim = {\n",
    "    \"ESM2\" : 2560\n",
    "}"
   ]
  },
  {
   "cell_type": "code",
   "execution_count": 6,
   "id": "319b3e84",
   "metadata": {
    "execution": {
     "iopub.execute_input": "2023-07-06T17:37:41.900815Z",
     "iopub.status.busy": "2023-07-06T17:37:41.900427Z",
     "iopub.status.idle": "2023-07-06T17:37:41.913859Z",
     "shell.execute_reply": "2023-07-06T17:37:41.912748Z"
    },
    "papermill": {
     "duration": 0.072763,
     "end_time": "2023-07-06T17:37:41.915971",
     "exception": false,
     "start_time": "2023-07-06T17:37:41.843208",
     "status": "completed"
    },
    "tags": []
   },
   "outputs": [],
   "source": [
    "class ProteinSequenceDataset(Dataset):\n",
    "    def __init__(self, datatype, pooling_method):\n",
    "        super(ProteinSequenceDataset).__init__()\n",
    "        self.datatype = datatype\n",
    "        \n",
    "        if pooling_method in ['cls', 'sum', 'mean']:\n",
    "            embeds = np.load(\"/kaggle/input/\"+embeds_map[pooling_method]+\"/\"+datatype+\"_embeddings.npy\")\n",
    "            ids = np.load(\"/kaggle/input/\"+embeds_map['ids']+\"/\"+datatype+\"_ids.npy\")\n",
    "        embeds_list = []\n",
    "        for l in range(embeds.shape[0]):\n",
    "            embeds_list.append(embeds[l,:])\n",
    "        self.df = pd.DataFrame(data={\"EntryID\": ids, \"embed\": embeds_list})\n",
    "        if datatype==\"train\":\n",
    "            labels_vect = np.load(\"/kaggle/working/train_targets_top\"+str(config.num_labels)+\".npy\")\n",
    "            df_labels = pd.DataFrame({\"EntryID\": ids, \"labels_vect\": labels_vect.tolist()})\n",
    "#             df_labels = pd.read_pickle(\n",
    "#                 \"/kaggle/working/train_targets_top\"+str(config.num_labels)+\".pkl\")\n",
    "            self.df = self.df.merge(df_labels, on=\"EntryID\")\n",
    "    def __len__(self):\n",
    "        return len(self.df)\n",
    "    \n",
    "    def __getitem__(self, index):\n",
    "        embed = torch.tensor(self.df.iloc[index]['embed'], dtype=torch.float32)\n",
    "        if self.datatype==\"train\":\n",
    "            targets = torch.tensor(self.df.iloc[index][\"labels_vect\"], dtype=torch.float32)\n",
    "            return embed, targets\n",
    "        if self.datatype==\"test\":\n",
    "            id = self.df.iloc[index][\"EntryID\"]\n",
    "            return embed, id"
   ]
  },
  {
   "cell_type": "code",
   "execution_count": 7,
   "id": "ae2eb7ec",
   "metadata": {
    "execution": {
     "iopub.execute_input": "2023-07-06T17:37:42.028570Z",
     "iopub.status.busy": "2023-07-06T17:37:42.028166Z",
     "iopub.status.idle": "2023-07-06T17:37:42.036772Z",
     "shell.execute_reply": "2023-07-06T17:37:42.035559Z"
    },
    "papermill": {
     "duration": 0.067384,
     "end_time": "2023-07-06T17:37:42.038863",
     "exception": false,
     "start_time": "2023-07-06T17:37:41.971479",
     "status": "completed"
    },
    "tags": []
   },
   "outputs": [],
   "source": [
    "class MultiLayerPerceptron(torch.nn.Module):\n",
    "    def __init__(self, input_dim, num_classes):\n",
    "        super(MultiLayerPerceptron, self).__init__()\n",
    "        \n",
    "        self.linear1 = torch.nn.Linear(input_dim, 1012)\n",
    "        self.activation1 = torch.nn.ReLU()\n",
    "        self.linear2 = torch.nn.Linear(1012, 712)\n",
    "        self.activation2 = torch.nn.ReLU()\n",
    "        self.linear3 = torch.nn.Linear(712, 356)\n",
    "        self.activation3 = torch.nn.ReLU()\n",
    "        self.linear4 = torch.nn.Linear(356, num_classes)\n",
    "        \n",
    "    def forward(self, x):\n",
    "        x = self.linear1(x)\n",
    "        x = self.activation1(x)\n",
    "        x = self.linear2(x)\n",
    "        x = self.activation2(x)\n",
    "        x = self.linear3(x)\n",
    "        x = self.activation3(x)\n",
    "        x = self.linear4(x)\n",
    "        return x"
   ]
  },
  {
   "cell_type": "code",
   "execution_count": 8,
   "id": "c0620ff1",
   "metadata": {
    "execution": {
     "iopub.execute_input": "2023-07-06T17:37:42.155961Z",
     "iopub.status.busy": "2023-07-06T17:37:42.155597Z",
     "iopub.status.idle": "2023-07-06T17:37:42.172694Z",
     "shell.execute_reply": "2023-07-06T17:37:42.171526Z"
    },
    "papermill": {
     "duration": 0.078869,
     "end_time": "2023-07-06T17:37:42.175629",
     "exception": false,
     "start_time": "2023-07-06T17:37:42.096760",
     "status": "completed"
    },
    "tags": []
   },
   "outputs": [],
   "source": [
    "def train_model(pooling_method, model_type=\"linear\", train_size=0.9):\n",
    "    train_dataset = ProteinSequenceDataset(datatype=\"train\", pooling_method = pooling_method)\n",
    "    train_set, val_set = random_split(train_dataset, lengths = [int(len(train_dataset)*train_size), len(train_dataset)-int(len(train_dataset)*train_size)])\n",
    "    train_dataloader = torch.utils.data.DataLoader(train_set, batch_size=config.batch_size, shuffle=True)\n",
    "    val_dataloader = torch.utils.data.DataLoader(val_set, batch_size=config.batch_size, shuffle=True)\n",
    "\n",
    "    if model_type == \"linear\":\n",
    "        model = MultiLayerPerceptron(input_dim=embeds_dim[\"ESM2\"], num_classes=config.num_labels).to(config.device)\n",
    "\n",
    "    optimizer = torch.optim.Adam(model.parameters(), lr = config.lr)\n",
    "    scheduler = ReduceLROnPlateau(optimizer, factor=0.1, patience=1)\n",
    "    CrossEntropy = torch.nn.CrossEntropyLoss()\n",
    "    f1_score = MultilabelF1Score(num_labels=config.num_labels).to(config.device)\n",
    "    n_epochs = config.n_epochs\n",
    "    \n",
    "    print(\"BEGIN TRAINING...\")\n",
    "    train_loss_history=[]\n",
    "    val_loss_history=[]\n",
    "    \n",
    "    train_f1score_history=[]\n",
    "    val_f1score_history=[]\n",
    "    for epoch in range(n_epochs):\n",
    "        print(\"EPOCH \", epoch+1)\n",
    "        ## TRAIN PHASE :\n",
    "        losses = []\n",
    "        scores = []\n",
    "        for embed, targets in tqdm(train_dataloader):\n",
    "            embed, targets = embed.to(config.device), targets.to(config.device)\n",
    "            optimizer.zero_grad()\n",
    "            preds = model(embed)\n",
    "            loss= CrossEntropy(preds, targets)\n",
    "            score=f1_score(preds, targets)\n",
    "            losses.append(loss.item()) \n",
    "            scores.append(score.item())\n",
    "            loss.backward()\n",
    "            optimizer.step()\n",
    "        avg_loss = np.mean(losses)\n",
    "        avg_score = np.mean(scores)\n",
    "        print(\"Running Average TRAIN Loss : \", avg_loss)\n",
    "        print(\"Running Average TRAIN F1-Score : \", avg_score)\n",
    "        train_loss_history.append(avg_loss)\n",
    "        train_f1score_history.append(avg_score)\n",
    "        \n",
    "        \n",
    "        ## VALIDATION PHASE : \n",
    "        losses = []\n",
    "        scores = []\n",
    "        for embed, targets in val_dataloader:\n",
    "            embed, targets = embed.to(config.device), targets.to(config.device)\n",
    "            preds = model(embed)\n",
    "            loss= CrossEntropy(preds, targets)\n",
    "            score=f1_score(preds, targets)\n",
    "            losses.append(loss.item())\n",
    "            scores.append(score.item())\n",
    "        avg_loss = np.mean(losses)\n",
    "        avg_score = np.mean(scores)\n",
    "        print(\"Running Average VAL Loss : \", avg_loss)\n",
    "        print(\"Running Average VAL F1-Score : \", avg_score)\n",
    "        val_loss_history.append(avg_loss)\n",
    "        val_f1score_history.append(avg_score)\n",
    "        \n",
    "        scheduler.step(avg_loss)\n",
    "        print(\"\\n\")\n",
    "        \n",
    "    print(\"TRAINING FINISHED\")\n",
    "    print(\"FINAL TRAINING SCORE : \", train_f1score_history[-1])\n",
    "    print(\"FINAL VALIDATION SCORE : \", val_f1score_history[-1])\n",
    "    \n",
    "    \n",
    "    losses_history = {\"train\" : train_loss_history, \"val\" : val_loss_history}\n",
    "    scores_history = {\"train\" : train_f1score_history, \"val\" : val_f1score_history}\n",
    "    \n",
    "    return model, losses_history, scores_history"
   ]
  },
  {
   "cell_type": "code",
   "execution_count": 9,
   "id": "08a78251",
   "metadata": {
    "execution": {
     "iopub.execute_input": "2023-07-06T17:37:42.289154Z",
     "iopub.status.busy": "2023-07-06T17:37:42.288818Z",
     "iopub.status.idle": "2023-07-06T17:58:59.720405Z",
     "shell.execute_reply": "2023-07-06T17:58:59.718694Z"
    },
    "papermill": {
     "duration": 1277.491024,
     "end_time": "2023-07-06T17:58:59.722710",
     "exception": false,
     "start_time": "2023-07-06T17:37:42.231686",
     "status": "completed"
    },
    "tags": []
   },
   "outputs": [
    {
     "name": "stdout",
     "output_type": "stream",
     "text": [
      "BEGIN TRAINING...\n",
      "EPOCH  1\n"
     ]
    },
    {
     "name": "stderr",
     "output_type": "stream",
     "text": [
      "100%|██████████| 1001/1001 [00:36<00:00, 27.26it/s]\n"
     ]
    },
    {
     "name": "stdout",
     "output_type": "stream",
     "text": [
      "Running Average TRAIN Loss :  133.35389275031608\n",
      "Running Average TRAIN F1-Score :  0.1483635292253592\n",
      "Running Average VAL Loss :  130.08313165392195\n",
      "Running Average VAL F1-Score :  0.1764844371271985\n",
      "\n",
      "\n",
      "EPOCH  2\n"
     ]
    },
    {
     "name": "stderr",
     "output_type": "stream",
     "text": [
      "100%|██████████| 1001/1001 [00:32<00:00, 30.52it/s]\n"
     ]
    },
    {
     "name": "stdout",
     "output_type": "stream",
     "text": [
      "Running Average TRAIN Loss :  129.00512753237973\n",
      "Running Average TRAIN F1-Score :  0.18657611066347116\n",
      "Running Average VAL Loss :  127.59668649945941\n",
      "Running Average VAL F1-Score :  0.1924985507503152\n",
      "\n",
      "\n",
      "EPOCH  3\n"
     ]
    },
    {
     "name": "stderr",
     "output_type": "stream",
     "text": [
      "100%|██████████| 1001/1001 [00:32<00:00, 30.57it/s]\n"
     ]
    },
    {
     "name": "stdout",
     "output_type": "stream",
     "text": [
      "Running Average TRAIN Loss :  127.53518317010138\n",
      "Running Average TRAIN F1-Score :  0.19685279199114808\n",
      "Running Average VAL Loss :  127.26230219432286\n",
      "Running Average VAL F1-Score :  0.19791607412376575\n",
      "\n",
      "\n",
      "EPOCH  4\n"
     ]
    },
    {
     "name": "stderr",
     "output_type": "stream",
     "text": [
      "100%|██████████| 1001/1001 [00:32<00:00, 30.57it/s]\n"
     ]
    },
    {
     "name": "stdout",
     "output_type": "stream",
     "text": [
      "Running Average TRAIN Loss :  126.44963353449529\n",
      "Running Average TRAIN F1-Score :  0.20598350212231026\n",
      "Running Average VAL Loss :  126.59453078678676\n",
      "Running Average VAL F1-Score :  0.20678546306278026\n",
      "\n",
      "\n",
      "EPOCH  5\n"
     ]
    },
    {
     "name": "stderr",
     "output_type": "stream",
     "text": [
      "100%|██████████| 1001/1001 [00:32<00:00, 30.61it/s]\n"
     ]
    },
    {
     "name": "stdout",
     "output_type": "stream",
     "text": [
      "Running Average TRAIN Loss :  125.44325776152559\n",
      "Running Average TRAIN F1-Score :  0.21301893302640476\n",
      "Running Average VAL Loss :  125.88910940715245\n",
      "Running Average VAL F1-Score :  0.2122290332668594\n",
      "\n",
      "\n",
      "EPOCH  6\n"
     ]
    },
    {
     "name": "stderr",
     "output_type": "stream",
     "text": [
      "100%|██████████| 1001/1001 [00:32<00:00, 31.08it/s]\n"
     ]
    },
    {
     "name": "stdout",
     "output_type": "stream",
     "text": [
      "Running Average TRAIN Loss :  124.59992159329929\n",
      "Running Average TRAIN F1-Score :  0.21999198344203977\n",
      "Running Average VAL Loss :  125.13545594896588\n",
      "Running Average VAL F1-Score :  0.21756889591259615\n",
      "\n",
      "\n",
      "EPOCH  7\n"
     ]
    },
    {
     "name": "stderr",
     "output_type": "stream",
     "text": [
      "100%|██████████| 1001/1001 [00:32<00:00, 30.98it/s]\n"
     ]
    },
    {
     "name": "stdout",
     "output_type": "stream",
     "text": [
      "Running Average TRAIN Loss :  123.81466297526936\n",
      "Running Average TRAIN F1-Score :  0.22609378704122016\n",
      "Running Average VAL Loss :  124.89024625505719\n",
      "Running Average VAL F1-Score :  0.2171539214572736\n",
      "\n",
      "\n",
      "EPOCH  8\n"
     ]
    },
    {
     "name": "stderr",
     "output_type": "stream",
     "text": [
      "100%|██████████| 1001/1001 [00:32<00:00, 30.99it/s]\n"
     ]
    },
    {
     "name": "stdout",
     "output_type": "stream",
     "text": [
      "Running Average TRAIN Loss :  123.09749409678456\n",
      "Running Average TRAIN F1-Score :  0.23196775507140946\n",
      "Running Average VAL Loss :  125.16215998785836\n",
      "Running Average VAL F1-Score :  0.2220042852152671\n",
      "\n",
      "\n",
      "EPOCH  9\n"
     ]
    },
    {
     "name": "stderr",
     "output_type": "stream",
     "text": [
      "100%|██████████| 1001/1001 [00:32<00:00, 30.57it/s]\n"
     ]
    },
    {
     "name": "stdout",
     "output_type": "stream",
     "text": [
      "Running Average TRAIN Loss :  122.40282082724404\n",
      "Running Average TRAIN F1-Score :  0.23760952326384457\n",
      "Running Average VAL Loss :  124.28032766069684\n",
      "Running Average VAL F1-Score :  0.22610509927783692\n",
      "\n",
      "\n",
      "EPOCH  10\n"
     ]
    },
    {
     "name": "stderr",
     "output_type": "stream",
     "text": [
      "100%|██████████| 1001/1001 [00:32<00:00, 31.00it/s]\n"
     ]
    },
    {
     "name": "stdout",
     "output_type": "stream",
     "text": [
      "Running Average TRAIN Loss :  121.69985695152016\n",
      "Running Average TRAIN F1-Score :  0.24246658575344276\n",
      "Running Average VAL Loss :  125.23037120274135\n",
      "Running Average VAL F1-Score :  0.22730906627007894\n",
      "\n",
      "\n",
      "EPOCH  11\n"
     ]
    },
    {
     "name": "stderr",
     "output_type": "stream",
     "text": [
      "100%|██████████| 1001/1001 [00:32<00:00, 31.14it/s]\n"
     ]
    },
    {
     "name": "stdout",
     "output_type": "stream",
     "text": [
      "Running Average TRAIN Loss :  121.06571197509766\n",
      "Running Average TRAIN F1-Score :  0.24702509255199642\n",
      "Running Average VAL Loss :  124.89154345648629\n",
      "Running Average VAL F1-Score :  0.22937476342277868\n",
      "\n",
      "\n",
      "EPOCH  12\n"
     ]
    },
    {
     "name": "stderr",
     "output_type": "stream",
     "text": [
      "100%|██████████| 1001/1001 [00:32<00:00, 31.07it/s]\n"
     ]
    },
    {
     "name": "stdout",
     "output_type": "stream",
     "text": [
      "Running Average TRAIN Loss :  118.89803798191555\n",
      "Running Average TRAIN F1-Score :  0.2584782006232055\n",
      "Running Average VAL Loss :  123.89271906444004\n",
      "Running Average VAL F1-Score :  0.23597404094679014\n",
      "\n",
      "\n",
      "EPOCH  13\n"
     ]
    },
    {
     "name": "stderr",
     "output_type": "stream",
     "text": [
      "100%|██████████| 1001/1001 [00:32<00:00, 30.94it/s]\n"
     ]
    },
    {
     "name": "stdout",
     "output_type": "stream",
     "text": [
      "Running Average TRAIN Loss :  118.360283408608\n",
      "Running Average TRAIN F1-Score :  0.26140402142073843\n",
      "Running Average VAL Loss :  123.86343199866158\n",
      "Running Average VAL F1-Score :  0.2376993704321129\n",
      "\n",
      "\n",
      "EPOCH  14\n"
     ]
    },
    {
     "name": "stderr",
     "output_type": "stream",
     "text": [
      "100%|██████████| 1001/1001 [00:32<00:00, 30.97it/s]\n"
     ]
    },
    {
     "name": "stdout",
     "output_type": "stream",
     "text": [
      "Running Average TRAIN Loss :  118.14092150220385\n",
      "Running Average TRAIN F1-Score :  0.26327899141566496\n",
      "Running Average VAL Loss :  124.02909312929425\n",
      "Running Average VAL F1-Score :  0.23806685701544797\n",
      "\n",
      "\n",
      "EPOCH  15\n"
     ]
    },
    {
     "name": "stderr",
     "output_type": "stream",
     "text": [
      "100%|██████████| 1001/1001 [00:32<00:00, 31.07it/s]\n"
     ]
    },
    {
     "name": "stdout",
     "output_type": "stream",
     "text": [
      "Running Average TRAIN Loss :  117.94751229605356\n",
      "Running Average TRAIN F1-Score :  0.26510880012195426\n",
      "Running Average VAL Loss :  124.11257246562413\n",
      "Running Average VAL F1-Score :  0.23846380173095635\n",
      "\n",
      "\n",
      "EPOCH  16\n"
     ]
    },
    {
     "name": "stderr",
     "output_type": "stream",
     "text": [
      "100%|██████████| 1001/1001 [00:32<00:00, 30.92it/s]\n"
     ]
    },
    {
     "name": "stdout",
     "output_type": "stream",
     "text": [
      "Running Average TRAIN Loss :  117.6269475001317\n",
      "Running Average TRAIN F1-Score :  0.2669393458328285\n",
      "Running Average VAL Loss :  124.34270988191876\n",
      "Running Average VAL F1-Score :  0.2391379394435457\n",
      "\n",
      "\n",
      "EPOCH  17\n"
     ]
    },
    {
     "name": "stderr",
     "output_type": "stream",
     "text": [
      "100%|██████████| 1001/1001 [00:32<00:00, 30.80it/s]\n"
     ]
    },
    {
     "name": "stdout",
     "output_type": "stream",
     "text": [
      "Running Average TRAIN Loss :  117.5289463039402\n",
      "Running Average TRAIN F1-Score :  0.2671586539927539\n",
      "Running Average VAL Loss :  123.97250843048096\n",
      "Running Average VAL F1-Score :  0.23887733010841267\n",
      "\n",
      "\n",
      "EPOCH  18\n"
     ]
    },
    {
     "name": "stderr",
     "output_type": "stream",
     "text": [
      "100%|██████████| 1001/1001 [00:32<00:00, 30.91it/s]\n"
     ]
    },
    {
     "name": "stdout",
     "output_type": "stream",
     "text": [
      "Running Average TRAIN Loss :  117.515568819913\n",
      "Running Average TRAIN F1-Score :  0.26743343841660394\n",
      "Running Average VAL Loss :  124.09319904872349\n",
      "Running Average VAL F1-Score :  0.23872416506388358\n",
      "\n",
      "\n",
      "EPOCH  19\n"
     ]
    },
    {
     "name": "stderr",
     "output_type": "stream",
     "text": [
      "100%|██████████| 1001/1001 [00:32<00:00, 30.79it/s]\n"
     ]
    },
    {
     "name": "stdout",
     "output_type": "stream",
     "text": [
      "Running Average TRAIN Loss :  117.49621735228882\n",
      "Running Average TRAIN F1-Score :  0.2675787227434831\n",
      "Running Average VAL Loss :  124.11428083692279\n",
      "Running Average VAL F1-Score :  0.23900423771036522\n",
      "\n",
      "\n",
      "EPOCH  20\n"
     ]
    },
    {
     "name": "stderr",
     "output_type": "stream",
     "text": [
      "100%|██████████| 1001/1001 [00:32<00:00, 30.75it/s]\n"
     ]
    },
    {
     "name": "stdout",
     "output_type": "stream",
     "text": [
      "Running Average TRAIN Loss :  117.47559693571809\n",
      "Running Average TRAIN F1-Score :  0.2674881994545638\n",
      "Running Average VAL Loss :  124.15583181381226\n",
      "Running Average VAL F1-Score :  0.23918121374611342\n",
      "\n",
      "\n",
      "EPOCH  21\n"
     ]
    },
    {
     "name": "stderr",
     "output_type": "stream",
     "text": [
      "100%|██████████| 1001/1001 [00:32<00:00, 30.96it/s]\n"
     ]
    },
    {
     "name": "stdout",
     "output_type": "stream",
     "text": [
      "Running Average TRAIN Loss :  117.4915117917361\n",
      "Running Average TRAIN F1-Score :  0.2676586047276393\n",
      "Running Average VAL Loss :  124.39836740493774\n",
      "Running Average VAL F1-Score :  0.23931166542960064\n",
      "\n",
      "\n",
      "EPOCH  22\n"
     ]
    },
    {
     "name": "stderr",
     "output_type": "stream",
     "text": [
      "100%|██████████| 1001/1001 [00:32<00:00, 30.92it/s]\n"
     ]
    },
    {
     "name": "stdout",
     "output_type": "stream",
     "text": [
      "Running Average TRAIN Loss :  117.49391745949363\n",
      "Running Average TRAIN F1-Score :  0.26739221242638855\n",
      "Running Average VAL Loss :  124.1300505229405\n",
      "Running Average VAL F1-Score :  0.23864201941926563\n",
      "\n",
      "\n",
      "EPOCH  23\n"
     ]
    },
    {
     "name": "stderr",
     "output_type": "stream",
     "text": [
      "100%|██████████| 1001/1001 [00:32<00:00, 31.04it/s]\n"
     ]
    },
    {
     "name": "stdout",
     "output_type": "stream",
     "text": [
      "Running Average TRAIN Loss :  117.47510325063121\n",
      "Running Average TRAIN F1-Score :  0.2673414000919411\n",
      "Running Average VAL Loss :  123.95735209328788\n",
      "Running Average VAL F1-Score :  0.2393659297376871\n",
      "\n",
      "\n",
      "EPOCH  24\n"
     ]
    },
    {
     "name": "stderr",
     "output_type": "stream",
     "text": [
      "100%|██████████| 1001/1001 [00:32<00:00, 30.98it/s]\n"
     ]
    },
    {
     "name": "stdout",
     "output_type": "stream",
     "text": [
      "Running Average TRAIN Loss :  117.46738450605791\n",
      "Running Average TRAIN F1-Score :  0.26753964945748376\n",
      "Running Average VAL Loss :  124.0283682686942\n",
      "Running Average VAL F1-Score :  0.23878218313413008\n",
      "\n",
      "\n",
      "EPOCH  25\n"
     ]
    },
    {
     "name": "stderr",
     "output_type": "stream",
     "text": [
      "100%|██████████| 1001/1001 [00:32<00:00, 31.04it/s]\n"
     ]
    },
    {
     "name": "stdout",
     "output_type": "stream",
     "text": [
      "Running Average TRAIN Loss :  117.5352085124958\n",
      "Running Average TRAIN F1-Score :  0.26751433632947824\n",
      "Running Average VAL Loss :  123.92912060873849\n",
      "Running Average VAL F1-Score :  0.23911212883623584\n",
      "\n",
      "\n",
      "EPOCH  26\n"
     ]
    },
    {
     "name": "stderr",
     "output_type": "stream",
     "text": [
      "100%|██████████| 1001/1001 [00:32<00:00, 30.84it/s]\n"
     ]
    },
    {
     "name": "stdout",
     "output_type": "stream",
     "text": [
      "Running Average TRAIN Loss :  117.49309401078658\n",
      "Running Average TRAIN F1-Score :  0.2675895976734447\n",
      "Running Average VAL Loss :  123.9888025011335\n",
      "Running Average VAL F1-Score :  0.23903678903090103\n",
      "\n",
      "\n",
      "EPOCH  27\n"
     ]
    },
    {
     "name": "stderr",
     "output_type": "stream",
     "text": [
      "100%|██████████| 1001/1001 [00:32<00:00, 30.81it/s]\n"
     ]
    },
    {
     "name": "stdout",
     "output_type": "stream",
     "text": [
      "Running Average TRAIN Loss :  117.47401121827392\n",
      "Running Average TRAIN F1-Score :  0.2673352997411381\n",
      "Running Average VAL Loss :  124.18672922679356\n",
      "Running Average VAL F1-Score :  0.23897695674427918\n",
      "\n",
      "\n",
      "EPOCH  28\n"
     ]
    },
    {
     "name": "stderr",
     "output_type": "stream",
     "text": [
      "100%|██████████| 1001/1001 [00:32<00:00, 30.92it/s]\n"
     ]
    },
    {
     "name": "stdout",
     "output_type": "stream",
     "text": [
      "Running Average TRAIN Loss :  117.50304099586937\n",
      "Running Average TRAIN F1-Score :  0.26764734284384745\n",
      "Running Average VAL Loss :  124.1929509980338\n",
      "Running Average VAL F1-Score :  0.23998090558286225\n",
      "\n",
      "\n",
      "EPOCH  29\n"
     ]
    },
    {
     "name": "stderr",
     "output_type": "stream",
     "text": [
      "100%|██████████| 1001/1001 [00:32<00:00, 30.71it/s]\n"
     ]
    },
    {
     "name": "stdout",
     "output_type": "stream",
     "text": [
      "Running Average TRAIN Loss :  117.50578466638342\n",
      "Running Average TRAIN F1-Score :  0.26771531220559\n",
      "Running Average VAL Loss :  124.3736013684954\n",
      "Running Average VAL F1-Score :  0.23974761114056622\n",
      "\n",
      "\n",
      "EPOCH  30\n"
     ]
    },
    {
     "name": "stderr",
     "output_type": "stream",
     "text": [
      "100%|██████████| 1001/1001 [00:32<00:00, 30.97it/s]\n"
     ]
    },
    {
     "name": "stdout",
     "output_type": "stream",
     "text": [
      "Running Average TRAIN Loss :  117.55156275609157\n",
      "Running Average TRAIN F1-Score :  0.2675483036082941\n",
      "Running Average VAL Loss :  124.61239978245327\n",
      "Running Average VAL F1-Score :  0.23885672645909445\n",
      "\n",
      "\n",
      "EPOCH  31\n"
     ]
    },
    {
     "name": "stderr",
     "output_type": "stream",
     "text": [
      "100%|██████████| 1001/1001 [00:32<00:00, 30.98it/s]\n"
     ]
    },
    {
     "name": "stdout",
     "output_type": "stream",
     "text": [
      "Running Average TRAIN Loss :  117.49499226664449\n",
      "Running Average TRAIN F1-Score :  0.2674081867093687\n",
      "Running Average VAL Loss :  124.17514187949044\n",
      "Running Average VAL F1-Score :  0.2387377249875239\n",
      "\n",
      "\n",
      "EPOCH  32\n"
     ]
    },
    {
     "name": "stderr",
     "output_type": "stream",
     "text": [
      "100%|██████████| 1001/1001 [00:32<00:00, 30.59it/s]\n"
     ]
    },
    {
     "name": "stdout",
     "output_type": "stream",
     "text": [
      "Running Average TRAIN Loss :  117.51720048902513\n",
      "Running Average TRAIN F1-Score :  0.2677636729343073\n",
      "Running Average VAL Loss :  124.49669245311192\n",
      "Running Average VAL F1-Score :  0.23955830319651536\n",
      "\n",
      "\n",
      "EPOCH  33\n"
     ]
    },
    {
     "name": "stderr",
     "output_type": "stream",
     "text": [
      "100%|██████████| 1001/1001 [00:32<00:00, 30.84it/s]\n"
     ]
    },
    {
     "name": "stdout",
     "output_type": "stream",
     "text": [
      "Running Average TRAIN Loss :  117.45407178042295\n",
      "Running Average TRAIN F1-Score :  0.2675802199231399\n",
      "Running Average VAL Loss :  123.99019922528949\n",
      "Running Average VAL F1-Score :  0.23882767691143922\n",
      "\n",
      "\n",
      "EPOCH  34\n"
     ]
    },
    {
     "name": "stderr",
     "output_type": "stream",
     "text": [
      "100%|██████████| 1001/1001 [00:32<00:00, 30.75it/s]\n"
     ]
    },
    {
     "name": "stdout",
     "output_type": "stream",
     "text": [
      "Running Average TRAIN Loss :  117.48465895676588\n",
      "Running Average TRAIN F1-Score :  0.26728111283702927\n",
      "Running Average VAL Loss :  124.53466524396624\n",
      "Running Average VAL F1-Score :  0.2390823562496475\n",
      "\n",
      "\n",
      "EPOCH  35\n"
     ]
    },
    {
     "name": "stderr",
     "output_type": "stream",
     "text": [
      "100%|██████████| 1001/1001 [00:32<00:00, 30.69it/s]\n"
     ]
    },
    {
     "name": "stdout",
     "output_type": "stream",
     "text": [
      "Running Average TRAIN Loss :  117.52723421750369\n",
      "Running Average TRAIN F1-Score :  0.2674698652206482\n",
      "Running Average VAL Loss :  123.95697348458427\n",
      "Running Average VAL F1-Score :  0.23935218547870005\n",
      "\n",
      "\n",
      "TRAINING FINISHED\n",
      "FINAL TRAINING SCORE :  0.2674698652206482\n",
      "FINAL VALIDATION SCORE :  0.23935218547870005\n"
     ]
    }
   ],
   "source": [
    "mean_model, mean_losses, mean_scores = train_model(pooling_method=\"mean\",model_type=\"linear\")"
   ]
  },
  {
   "cell_type": "code",
   "execution_count": 10,
   "id": "9798beb5",
   "metadata": {
    "execution": {
     "iopub.execute_input": "2023-07-06T17:59:01.491181Z",
     "iopub.status.busy": "2023-07-06T17:59:01.490728Z",
     "iopub.status.idle": "2023-07-06T17:59:02.830963Z",
     "shell.execute_reply": "2023-07-06T17:59:02.830039Z"
    },
    "papermill": {
     "duration": 2.263706,
     "end_time": "2023-07-06T17:59:02.833189",
     "exception": false,
     "start_time": "2023-07-06T17:59:00.569483",
     "status": "completed"
    },
    "tags": []
   },
   "outputs": [
    {
     "data": {
      "image/png": "[encoded data removed]",
      "text/plain": [
       "<Figure size 1000x400 with 1 Axes>"
      ]
     },
     "metadata": {},
     "output_type": "display_data"
    },
    {
     "data": {
      "image/png": "[encoded data removed]",
      "text/plain": [
       "<Figure size 1000x400 with 1 Axes>"
      ]
     },
     "metadata": {},
     "output_type": "display_data"
    }
   ],
   "source": [
    "plt.figure(figsize = (10, 4))\n",
    "#plt.plot(cls_losses[\"val\"], label = \"cls\")\n",
    "#plt.plot(sum_losses[\"val\"], label = \"sum\")\n",
    "plt.plot(mean_losses[\"val\"], label = \"mean\")\n",
    "plt.title(\"Validation Losses for # Vector Embeddings\")\n",
    "plt.xlabel(\"Epochs\")\n",
    "plt.ylabel(\"Average Loss\")\n",
    "plt.legend()\n",
    "plt.show()\n",
    "\n",
    "plt.figure(figsize = (10, 4))\n",
    "#plt.plot(cls_scores[\"val\"], label = \"cls\")\n",
    "#plt.plot(sum_scores[\"val\"], label = \"sum\")\n",
    "plt.plot(mean_scores[\"val\"], label = \"mean\")\n",
    "plt.title(\"Validation F1-Scores for # Vector Embeddings\")\n",
    "plt.xlabel(\"Epochs\")\n",
    "plt.ylabel(\"Average F1-Score\")\n",
    "plt.legend()\n",
    "plt.show()"
   ]
  },
  {
   "cell_type": "code",
   "execution_count": 11,
   "id": "2dcdc00b",
   "metadata": {
    "execution": {
     "iopub.execute_input": "2023-07-06T17:59:04.341811Z",
     "iopub.status.busy": "2023-07-06T17:59:04.341428Z",
     "iopub.status.idle": "2023-07-06T17:59:04.352725Z",
     "shell.execute_reply": "2023-07-06T17:59:04.351770Z"
    },
    "papermill": {
     "duration": 0.767097,
     "end_time": "2023-07-06T17:59:04.354869",
     "exception": false,
     "start_time": "2023-07-06T17:59:03.587772",
     "status": "completed"
    },
    "tags": []
   },
   "outputs": [],
   "source": [
    "def predict(pooling_method):\n",
    "    \n",
    "    test_dataset = ProteinSequenceDataset(datatype=\"test\", pooling_method = pooling_method)\n",
    "    test_dataloader = torch.utils.data.DataLoader(test_dataset, batch_size=1, shuffle=False)\n",
    "    \n",
    "    model = mean_model\n",
    "        \n",
    "    model.eval()\n",
    "    \n",
    "    labels = pd.read_csv(config.train_labels_path, sep = \"\\t\")\n",
    "    top_terms = labels.groupby(\"term\")[\"EntryID\"].count().sort_values(ascending=False)\n",
    "    labels_names = top_terms[:config.num_labels].index.values\n",
    "    print(\"GENERATE PREDICTION FOR TEST SET...\")\n",
    "\n",
    "    ids_ = np.empty(shape=(len(test_dataloader)*config.num_labels,), dtype=object)\n",
    "    go_terms_ = np.empty(shape=(len(test_dataloader)*config.num_labels,), dtype=object)\n",
    "    confs_ = np.empty(shape=(len(test_dataloader)*config.num_labels,), dtype=np.float32)\n",
    "\n",
    "    for i, (embed, id) in tqdm(enumerate(test_dataloader)):\n",
    "        embed = embed.to(config.device)\n",
    "        confs_[i*config.num_labels:(i+1)*config.num_labels] = torch.nn.functional.sigmoid(model(embed)).squeeze().detach().cpu().numpy()\n",
    "        ids_[i*config.num_labels:(i+1)*config.num_labels] = id[0]\n",
    "        go_terms_[i*config.num_labels:(i+1)*config.num_labels] = labels_names\n",
    "\n",
    "    submission_df = pd.DataFrame(data={\"Id\" : ids_, \"GO term\" : go_terms_, \"Confidence\" : confs_})\n",
    "    print(\"PREDICTIONS DONE\")\n",
    "    return submission_df"
   ]
  },
  {
   "cell_type": "code",
   "execution_count": 12,
   "id": "5e28c922",
   "metadata": {
    "execution": {
     "iopub.execute_input": "2023-07-06T17:59:05.932074Z",
     "iopub.status.busy": "2023-07-06T17:59:05.931691Z",
     "iopub.status.idle": "2023-07-06T18:01:09.030022Z",
     "shell.execute_reply": "2023-07-06T18:01:09.028232Z"
    },
    "papermill": {
     "duration": 123.855394,
     "end_time": "2023-07-06T18:01:09.032200",
     "exception": false,
     "start_time": "2023-07-06T17:59:05.176806",
     "status": "completed"
    },
    "tags": []
   },
   "outputs": [
    {
     "name": "stdout",
     "output_type": "stream",
     "text": [
      "GENERATE PREDICTION FOR TEST SET...\n"
     ]
    },
    {
     "name": "stderr",
     "output_type": "stream",
     "text": [
      "141865it [01:42, 1384.57it/s]\n"
     ]
    },
    {
     "name": "stdout",
     "output_type": "stream",
     "text": [
      "PREDICTIONS DONE\n"
     ]
    }
   ],
   "source": [
    "submission_df = predict(\"mean\")"
   ]
  },
  {
   "cell_type": "code",
   "execution_count": 13,
   "id": "3e227116",
   "metadata": {
    "execution": {
     "iopub.execute_input": "2023-07-06T18:01:10.837848Z",
     "iopub.status.busy": "2023-07-06T18:01:10.837446Z",
     "iopub.status.idle": "2023-07-06T18:01:10.872160Z",
     "shell.execute_reply": "2023-07-06T18:01:10.871172Z"
    },
    "papermill": {
     "duration": 0.999748,
     "end_time": "2023-07-06T18:01:10.874548",
     "exception": false,
     "start_time": "2023-07-06T18:01:09.874800",
     "status": "completed"
    },
    "tags": []
   },
   "outputs": [
    {
     "data": {
      "text/html": [
       "<div>\n",
       "<style scoped>\n",
       "    .dataframe tbody tr th:only-of-type {\n",
       "        vertical-align: middle;\n",
       "    }\n",
       "\n",
       "    .dataframe tbody tr th {\n",
       "        vertical-align: top;\n",
       "    }\n",
       "\n",
       "    .dataframe thead th {\n",
       "        text-align: right;\n",
       "    }\n",
       "</style>\n",
       "<table border=\"1\" class=\"dataframe\">\n",
       "  <thead>\n",
       "    <tr style=\"text-align: right;\">\n",
       "      <th></th>\n",
       "      <th>Id</th>\n",
       "      <th>GO term</th>\n",
       "      <th>Confidence</th>\n",
       "    </tr>\n",
       "  </thead>\n",
       "  <tbody>\n",
       "    <tr>\n",
       "      <th>0</th>\n",
       "      <td>Q9CQV8</td>\n",
       "      <td>GO:0005575</td>\n",
       "      <td>0.852455</td>\n",
       "    </tr>\n",
       "    <tr>\n",
       "      <th>1</th>\n",
       "      <td>Q9CQV8</td>\n",
       "      <td>GO:0008150</td>\n",
       "      <td>0.868588</td>\n",
       "    </tr>\n",
       "    <tr>\n",
       "      <th>2</th>\n",
       "      <td>Q9CQV8</td>\n",
       "      <td>GO:0110165</td>\n",
       "      <td>0.854593</td>\n",
       "    </tr>\n",
       "    <tr>\n",
       "      <th>3</th>\n",
       "      <td>Q9CQV8</td>\n",
       "      <td>GO:0003674</td>\n",
       "      <td>0.867276</td>\n",
       "    </tr>\n",
       "    <tr>\n",
       "      <th>4</th>\n",
       "      <td>Q9CQV8</td>\n",
       "      <td>GO:0005622</td>\n",
       "      <td>0.834764</td>\n",
       "    </tr>\n",
       "    <tr>\n",
       "      <th>5</th>\n",
       "      <td>Q9CQV8</td>\n",
       "      <td>GO:0009987</td>\n",
       "      <td>0.823929</td>\n",
       "    </tr>\n",
       "    <tr>\n",
       "      <th>6</th>\n",
       "      <td>Q9CQV8</td>\n",
       "      <td>GO:0043226</td>\n",
       "      <td>0.767210</td>\n",
       "    </tr>\n",
       "    <tr>\n",
       "      <th>7</th>\n",
       "      <td>Q9CQV8</td>\n",
       "      <td>GO:0043229</td>\n",
       "      <td>0.743187</td>\n",
       "    </tr>\n",
       "    <tr>\n",
       "      <th>8</th>\n",
       "      <td>Q9CQV8</td>\n",
       "      <td>GO:0005488</td>\n",
       "      <td>0.882115</td>\n",
       "    </tr>\n",
       "    <tr>\n",
       "      <th>9</th>\n",
       "      <td>Q9CQV8</td>\n",
       "      <td>GO:0043227</td>\n",
       "      <td>0.755724</td>\n",
       "    </tr>\n",
       "    <tr>\n",
       "      <th>10</th>\n",
       "      <td>Q9CQV8</td>\n",
       "      <td>GO:0005737</td>\n",
       "      <td>0.811507</td>\n",
       "    </tr>\n",
       "    <tr>\n",
       "      <th>11</th>\n",
       "      <td>Q9CQV8</td>\n",
       "      <td>GO:0043231</td>\n",
       "      <td>0.711000</td>\n",
       "    </tr>\n",
       "    <tr>\n",
       "      <th>12</th>\n",
       "      <td>Q9CQV8</td>\n",
       "      <td>GO:0005515</td>\n",
       "      <td>0.877004</td>\n",
       "    </tr>\n",
       "    <tr>\n",
       "      <th>13</th>\n",
       "      <td>Q9CQV8</td>\n",
       "      <td>GO:0065007</td>\n",
       "      <td>0.851584</td>\n",
       "    </tr>\n",
       "    <tr>\n",
       "      <th>14</th>\n",
       "      <td>Q9CQV8</td>\n",
       "      <td>GO:0050789</td>\n",
       "      <td>0.853314</td>\n",
       "    </tr>\n",
       "    <tr>\n",
       "      <th>15</th>\n",
       "      <td>Q9CQV8</td>\n",
       "      <td>GO:0050794</td>\n",
       "      <td>0.849407</td>\n",
       "    </tr>\n",
       "    <tr>\n",
       "      <th>16</th>\n",
       "      <td>Q9CQV8</td>\n",
       "      <td>GO:0050896</td>\n",
       "      <td>0.680381</td>\n",
       "    </tr>\n",
       "    <tr>\n",
       "      <th>17</th>\n",
       "      <td>Q9CQV8</td>\n",
       "      <td>GO:0008152</td>\n",
       "      <td>0.440937</td>\n",
       "    </tr>\n",
       "    <tr>\n",
       "      <th>18</th>\n",
       "      <td>Q9CQV8</td>\n",
       "      <td>GO:0032501</td>\n",
       "      <td>0.672096</td>\n",
       "    </tr>\n",
       "    <tr>\n",
       "      <th>19</th>\n",
       "      <td>Q9CQV8</td>\n",
       "      <td>GO:0005634</td>\n",
       "      <td>0.633454</td>\n",
       "    </tr>\n",
       "    <tr>\n",
       "      <th>20</th>\n",
       "      <td>Q9CQV8</td>\n",
       "      <td>GO:0032502</td>\n",
       "      <td>0.699701</td>\n",
       "    </tr>\n",
       "    <tr>\n",
       "      <th>21</th>\n",
       "      <td>Q9CQV8</td>\n",
       "      <td>GO:0071704</td>\n",
       "      <td>0.372606</td>\n",
       "    </tr>\n",
       "    <tr>\n",
       "      <th>22</th>\n",
       "      <td>Q9CQV8</td>\n",
       "      <td>GO:0048856</td>\n",
       "      <td>0.683404</td>\n",
       "    </tr>\n",
       "    <tr>\n",
       "      <th>23</th>\n",
       "      <td>Q9CQV8</td>\n",
       "      <td>GO:0016020</td>\n",
       "      <td>0.642989</td>\n",
       "    </tr>\n",
       "    <tr>\n",
       "      <th>24</th>\n",
       "      <td>Q9CQV8</td>\n",
       "      <td>GO:0003824</td>\n",
       "      <td>0.053678</td>\n",
       "    </tr>\n",
       "    <tr>\n",
       "      <th>25</th>\n",
       "      <td>Q9CQV8</td>\n",
       "      <td>GO:0044237</td>\n",
       "      <td>0.389754</td>\n",
       "    </tr>\n",
       "    <tr>\n",
       "      <th>26</th>\n",
       "      <td>Q9CQV8</td>\n",
       "      <td>GO:0044238</td>\n",
       "      <td>0.321386</td>\n",
       "    </tr>\n",
       "    <tr>\n",
       "      <th>27</th>\n",
       "      <td>Q9CQV8</td>\n",
       "      <td>GO:0007275</td>\n",
       "      <td>0.604747</td>\n",
       "    </tr>\n",
       "    <tr>\n",
       "      <th>28</th>\n",
       "      <td>Q9CQV8</td>\n",
       "      <td>GO:0006807</td>\n",
       "      <td>0.294598</td>\n",
       "    </tr>\n",
       "    <tr>\n",
       "      <th>29</th>\n",
       "      <td>Q9CQV8</td>\n",
       "      <td>GO:0071944</td>\n",
       "      <td>0.530491</td>\n",
       "    </tr>\n",
       "    <tr>\n",
       "      <th>30</th>\n",
       "      <td>Q9CQV8</td>\n",
       "      <td>GO:0071840</td>\n",
       "      <td>0.634226</td>\n",
       "    </tr>\n",
       "    <tr>\n",
       "      <th>31</th>\n",
       "      <td>Q9CQV8</td>\n",
       "      <td>GO:0019222</td>\n",
       "      <td>0.804433</td>\n",
       "    </tr>\n",
       "    <tr>\n",
       "      <th>32</th>\n",
       "      <td>Q9CQV8</td>\n",
       "      <td>GO:0016043</td>\n",
       "      <td>0.632831</td>\n",
       "    </tr>\n",
       "    <tr>\n",
       "      <th>33</th>\n",
       "      <td>Q9CQV8</td>\n",
       "      <td>GO:0048518</td>\n",
       "      <td>0.746038</td>\n",
       "    </tr>\n",
       "    <tr>\n",
       "      <th>34</th>\n",
       "      <td>Q9CQV8</td>\n",
       "      <td>GO:0005829</td>\n",
       "      <td>0.767108</td>\n",
       "    </tr>\n",
       "    <tr>\n",
       "      <th>35</th>\n",
       "      <td>Q9CQV8</td>\n",
       "      <td>GO:0043170</td>\n",
       "      <td>0.354669</td>\n",
       "    </tr>\n",
       "    <tr>\n",
       "      <th>36</th>\n",
       "      <td>Q9CQV8</td>\n",
       "      <td>GO:0048731</td>\n",
       "      <td>0.574966</td>\n",
       "    </tr>\n",
       "    <tr>\n",
       "      <th>37</th>\n",
       "      <td>Q9CQV8</td>\n",
       "      <td>GO:0060255</td>\n",
       "      <td>0.791828</td>\n",
       "    </tr>\n",
       "    <tr>\n",
       "      <th>38</th>\n",
       "      <td>Q9CQV8</td>\n",
       "      <td>GO:0051716</td>\n",
       "      <td>0.617849</td>\n",
       "    </tr>\n",
       "    <tr>\n",
       "      <th>39</th>\n",
       "      <td>Q9CQV8</td>\n",
       "      <td>GO:0005886</td>\n",
       "      <td>0.499463</td>\n",
       "    </tr>\n",
       "    <tr>\n",
       "      <th>40</th>\n",
       "      <td>Q9CQV8</td>\n",
       "      <td>GO:0032991</td>\n",
       "      <td>0.568463</td>\n",
       "    </tr>\n",
       "    <tr>\n",
       "      <th>41</th>\n",
       "      <td>Q9CQV8</td>\n",
       "      <td>GO:0043228</td>\n",
       "      <td>0.447085</td>\n",
       "    </tr>\n",
       "    <tr>\n",
       "      <th>42</th>\n",
       "      <td>Q9CQV8</td>\n",
       "      <td>GO:0043232</td>\n",
       "      <td>0.441694</td>\n",
       "    </tr>\n",
       "    <tr>\n",
       "      <th>43</th>\n",
       "      <td>Q9CQV8</td>\n",
       "      <td>GO:0031974</td>\n",
       "      <td>0.359449</td>\n",
       "    </tr>\n",
       "    <tr>\n",
       "      <th>44</th>\n",
       "      <td>Q9CQV8</td>\n",
       "      <td>GO:0043233</td>\n",
       "      <td>0.356905</td>\n",
       "    </tr>\n",
       "    <tr>\n",
       "      <th>45</th>\n",
       "      <td>Q9CQV8</td>\n",
       "      <td>GO:0070013</td>\n",
       "      <td>0.354503</td>\n",
       "    </tr>\n",
       "    <tr>\n",
       "      <th>46</th>\n",
       "      <td>Q9CQV8</td>\n",
       "      <td>GO:0048519</td>\n",
       "      <td>0.752990</td>\n",
       "    </tr>\n",
       "    <tr>\n",
       "      <th>47</th>\n",
       "      <td>Q9CQV8</td>\n",
       "      <td>GO:0048522</td>\n",
       "      <td>0.732287</td>\n",
       "    </tr>\n",
       "    <tr>\n",
       "      <th>48</th>\n",
       "      <td>Q9CQV8</td>\n",
       "      <td>GO:0080090</td>\n",
       "      <td>0.798865</td>\n",
       "    </tr>\n",
       "    <tr>\n",
       "      <th>49</th>\n",
       "      <td>Q9CQV8</td>\n",
       "      <td>GO:0031323</td>\n",
       "      <td>0.782973</td>\n",
       "    </tr>\n",
       "  </tbody>\n",
       "</table>\n",
       "</div>"
      ],
      "text/plain": [
       "        Id     GO term  Confidence\n",
       "0   Q9CQV8  GO:0005575    0.852455\n",
       "1   Q9CQV8  GO:0008150    0.868588\n",
       "2   Q9CQV8  GO:0110165    0.854593\n",
       "3   Q9CQV8  GO:0003674    0.867276\n",
       "4   Q9CQV8  GO:0005622    0.834764\n",
       "5   Q9CQV8  GO:0009987    0.823929\n",
       "6   Q9CQV8  GO:0043226    0.767210\n",
       "7   Q9CQV8  GO:0043229    0.743187\n",
       "8   Q9CQV8  GO:0005488    0.882115\n",
       "9   Q9CQV8  GO:0043227    0.755724\n",
       "10  Q9CQV8  GO:0005737    0.811507\n",
       "11  Q9CQV8  GO:0043231    0.711000\n",
       "12  Q9CQV8  GO:0005515    0.877004\n",
       "13  Q9CQV8  GO:0065007    0.851584\n",
       "14  Q9CQV8  GO:0050789    0.853314\n",
       "15  Q9CQV8  GO:0050794    0.849407\n",
       "16  Q9CQV8  GO:0050896    0.680381\n",
       "17  Q9CQV8  GO:0008152    0.440937\n",
       "18  Q9CQV8  GO:0032501    0.672096\n",
       "19  Q9CQV8  GO:0005634    0.633454\n",
       "20  Q9CQV8  GO:0032502    0.699701\n",
       "21  Q9CQV8  GO:0071704    0.372606\n",
       "22  Q9CQV8  GO:0048856    0.683404\n",
       "23  Q9CQV8  GO:0016020    0.642989\n",
       "24  Q9CQV8  GO:0003824    0.053678\n",
       "25  Q9CQV8  GO:0044237    0.389754\n",
       "26  Q9CQV8  GO:0044238    0.321386\n",
       "27  Q9CQV8  GO:0007275    0.604747\n",
       "28  Q9CQV8  GO:0006807    0.294598\n",
       "29  Q9CQV8  GO:0071944    0.530491\n",
       "30  Q9CQV8  GO:0071840    0.634226\n",
       "31  Q9CQV8  GO:0019222    0.804433\n",
       "32  Q9CQV8  GO:0016043    0.632831\n",
       "33  Q9CQV8  GO:0048518    0.746038\n",
       "34  Q9CQV8  GO:0005829    0.767108\n",
       "35  Q9CQV8  GO:0043170    0.354669\n",
       "36  Q9CQV8  GO:0048731    0.574966\n",
       "37  Q9CQV8  GO:0060255    0.791828\n",
       "38  Q9CQV8  GO:0051716    0.617849\n",
       "39  Q9CQV8  GO:0005886    0.499463\n",
       "40  Q9CQV8  GO:0032991    0.568463\n",
       "41  Q9CQV8  GO:0043228    0.447085\n",
       "42  Q9CQV8  GO:0043232    0.441694\n",
       "43  Q9CQV8  GO:0031974    0.359449\n",
       "44  Q9CQV8  GO:0043233    0.356905\n",
       "45  Q9CQV8  GO:0070013    0.354503\n",
       "46  Q9CQV8  GO:0048519    0.752990\n",
       "47  Q9CQV8  GO:0048522    0.732287\n",
       "48  Q9CQV8  GO:0080090    0.798865\n",
       "49  Q9CQV8  GO:0031323    0.782973"
      ]
     },
     "execution_count": 13,
     "metadata": {},
     "output_type": "execute_result"
    }
   ],
   "source": [
    "submission_df.head(50)"
   ]
  },
  {
   "cell_type": "code",
   "execution_count": 14,
   "id": "d6451cf2",
   "metadata": {
    "execution": {
     "iopub.execute_input": "2023-07-06T18:01:12.658679Z",
     "iopub.status.busy": "2023-07-06T18:01:12.658315Z",
     "iopub.status.idle": "2023-07-06T18:05:58.878376Z",
     "shell.execute_reply": "2023-07-06T18:05:58.877327Z"
    },
    "papermill": {
     "duration": 287.126709,
     "end_time": "2023-07-06T18:05:58.880999",
     "exception": false,
     "start_time": "2023-07-06T18:01:11.754290",
     "status": "completed"
    },
    "tags": []
   },
   "outputs": [],
   "source": [
    "submission_df.to_csv('submission.tsv', sep='\\t', index=False)"
   ]
  },
  {
   "cell_type": "code",
   "execution_count": null,
   "id": "dc0c133d",
   "metadata": {
    "papermill": {
     "duration": 0.994656,
     "end_time": "2023-07-06T18:06:00.735478",
     "exception": false,
     "start_time": "2023-07-06T18:05:59.740822",
     "status": "completed"
    },
    "tags": []
   },
   "outputs": [],
   "source": []
  }
 ],
 "metadata": {
  "kernelspec": {
   "display_name": "Python 3",
   "language": "python",
   "name": "python3"
  },
  "language_info": {
   "codemirror_mode": {
    "name": "ipython",
    "version": 3
   },
   "file_extension": ".py",
   "mimetype": "text/x-python",
   "name": "python",
   "nbconvert_exporter": "python",
   "pygments_lexer": "ipython3",
   "version": "3.10.10"
  },
  "papermill": {
   "default_parameters": {},
   "duration": 1857.106072,
   "end_time": "2023-07-06T18:06:04.955258",
   "environment_variables": {},
   "exception": null,
   "input_path": "__notebook__.ipynb",
   "output_path": "__notebook__.ipynb",
   "parameters": {},
   "start_time": "2023-07-06T17:35:07.849186",
   "version": "2.4.0"
  },
  "widgets": {
   "application/vnd.jupyter.widget-state+json": {
    "state": {
     "148661bb3026445cb5cf313c9858015c": {
      "model_module": "@jupyter-widgets/base",
      "model_module_version": "1.2.0",
      "model_name": "LayoutModel",
      "state": {
       "_model_module": "@jupyter-widgets/base",
       "_model_module_version": "1.2.0",
       "_model_name": "LayoutModel",
       "_view_count": null,
       "_view_module": "@jupyter-widgets/base",
       "_view_module_version": "1.2.0",
       "_view_name": "LayoutView",
       "align_content": null,
       "align_items": null,
       "align_self": null,
       "border": null,
       "bottom": null,
       "display": null,
       "flex": null,
       "flex_flow": null,
       "grid_area": null,
       "grid_auto_columns": null,
       "grid_auto_flow": null,
       "grid_auto_rows": null,
       "grid_column": null,
       "grid_gap": null,
       "grid_row": null,
       "grid_template_areas": null,
       "grid_template_columns": null,
       "grid_template_rows": null,
       "height": null,
       "justify_content": null,
       "justify_items": null,
       "left": null,
       "margin": null,
       "max_height": null,
       "max_width": null,
       "min_height": null,
       "min_width": null,
       "object_fit": null,
       "object_position": null,
       "order": null,
       "overflow": null,
       "overflow_x": null,
       "overflow_y": null,
       "padding": null,
       "right": null,
       "top": null,
       "visibility": null,
       "width": null
      }
     },
     "14f97d9ef6984f218fad4b2ac5ee359e": {
      "model_module": "@jupyter-widgets/controls",
      "model_module_version": "1.5.0",
      "model_name": "ProgressStyleModel",
      "state": {
       "_model_module": "@jupyter-widgets/controls",
       "_model_module_version": "1.5.0",
       "_model_name": "ProgressStyleModel",
       "_view_count": null,
       "_view_module": "@jupyter-widgets/base",
       "_view_module_version": "1.2.0",
       "_view_name": "StyleView",
       "bar_color": null,
       "description_width": ""
      }
     },
     "17300bf6808042b4897a002da4878b0e": {
      "model_module": "@jupyter-widgets/controls",
      "model_module_version": "1.5.0",
      "model_name": "DescriptionStyleModel",
      "state": {
       "_model_module": "@jupyter-widgets/controls",
       "_model_module_version": "1.5.0",
       "_model_name": "DescriptionStyleModel",
       "_view_count": null,
       "_view_module": "@jupyter-widgets/base",
       "_view_module_version": "1.2.0",
       "_view_name": "StyleView",
       "description_width": ""
      }
     },
     "1d206241b99f47c2ac6d410611d63863": {
      "model_module": "@jupyter-widgets/controls",
      "model_module_version": "1.5.0",
      "model_name": "ProgressStyleModel",
      "state": {
       "_model_module": "@jupyter-widgets/controls",
       "_model_module_version": "1.5.0",
       "_model_name": "ProgressStyleModel",
       "_view_count": null,
       "_view_module": "@jupyter-widgets/base",
       "_view_module_version": "1.2.0",
       "_view_name": "StyleView",
       "bar_color": null,
       "description_width": ""
      }
     },
     "1dcecc686fe540e5963ea21defa718cc": {
      "model_module": "@jupyter-widgets/controls",
      "model_module_version": "1.5.0",
      "model_name": "DescriptionStyleModel",
      "state": {
       "_model_module": "@jupyter-widgets/controls",
       "_model_module_version": "1.5.0",
       "_model_name": "DescriptionStyleModel",
       "_view_count": null,
       "_view_module": "@jupyter-widgets/base",
       "_view_module_version": "1.2.0",
       "_view_name": "StyleView",
       "description_width": ""
      }
     },
     "2a634a5d9f7647a692f7a05047c11070": {
      "model_module": "@jupyter-widgets/base",
      "model_module_version": "1.2.0",
      "model_name": "LayoutModel",
      "state": {
       "_model_module": "@jupyter-widgets/base",
       "_model_module_version": "1.2.0",
       "_model_name": "LayoutModel",
       "_view_count": null,
       "_view_module": "@jupyter-widgets/base",
       "_view_module_version": "1.2.0",
       "_view_name": "LayoutView",
       "align_content": null,
       "align_items": null,
       "align_self": null,
       "border": null,
       "bottom": null,
       "display": null,
       "flex": null,
       "flex_flow": null,
       "grid_area": null,
       "grid_auto_columns": null,
       "grid_auto_flow": null,
       "grid_auto_rows": null,
       "grid_column": null,
       "grid_gap": null,
       "grid_row": null,
       "grid_template_areas": null,
       "grid_template_columns": null,
       "grid_template_rows": null,
       "height": null,
       "justify_content": null,
       "justify_items": null,
       "left": null,
       "margin": null,
       "max_height": null,
       "max_width": null,
       "min_height": null,
       "min_width": null,
       "object_fit": null,
       "object_position": null,
       "order": null,
       "overflow": null,
       "overflow_x": null,
       "overflow_y": null,
       "padding": null,
       "right": null,
       "top": null,
       "visibility": null,
       "width": null
      }
     },
     "2a9e9050f3fb411ea0f5ab215fdbf8c3": {
      "model_module": "@jupyter-widgets/controls",
      "model_module_version": "1.5.0",
      "model_name": "HBoxModel",
      "state": {
       "_dom_classes": [],
       "_model_module": "@jupyter-widgets/controls",
       "_model_module_version": "1.5.0",
       "_model_name": "HBoxModel",
       "_view_count": null,
       "_view_module": "@jupyter-widgets/controls",
       "_view_module_version": "1.5.0",
       "_view_name": "HBoxView",
       "box_style": "",
       "children": [
        "IPY_MODEL_8c0024520410414cbb0cd11cabf73a48",
        "IPY_MODEL_88d1d1ecc2564b47b75f330c31635dd6",
        "IPY_MODEL_7debc67373f7471b950f13fc25639f63"
       ],
       "layout": "IPY_MODEL_d8c43ed140524be882ae3798f2afdf9f"
      }
     },
     "2cb70add16bd423eafaf5ad8a0071b9a": {
      "model_module": "@jupyter-widgets/base",
      "model_module_version": "1.2.0",
      "model_name": "LayoutModel",
      "state": {
       "_model_module": "@jupyter-widgets/base",
       "_model_module_version": "1.2.0",
       "_model_name": "LayoutModel",
       "_view_count": null,
       "_view_module": "@jupyter-widgets/base",
       "_view_module_version": "1.2.0",
       "_view_name": "LayoutView",
       "align_content": null,
       "align_items": null,
       "align_self": null,
       "border": null,
       "bottom": null,
       "display": null,
       "flex": null,
       "flex_flow": null,
       "grid_area": null,
       "grid_auto_columns": null,
       "grid_auto_flow": null,
       "grid_auto_rows": null,
       "grid_column": null,
       "grid_gap": null,
       "grid_row": null,
       "grid_template_areas": null,
       "grid_template_columns": null,
       "grid_template_rows": null,
       "height": null,
       "justify_content": null,
       "justify_items": null,
       "left": null,
       "margin": null,
       "max_height": null,
       "max_width": null,
       "min_height": null,
       "min_width": null,
       "object_fit": null,
       "object_position": null,
       "order": null,
       "overflow": null,
       "overflow_x": null,
       "overflow_y": null,
       "padding": null,
       "right": null,
       "top": null,
       "visibility": null,
       "width": null
      }
     },
     "329a6d9cd924470db4e0b426b0e789fb": {
      "model_module": "@jupyter-widgets/controls",
      "model_module_version": "1.5.0",
      "model_name": "HTMLModel",
      "state": {
       "_dom_classes": [],
       "_model_module": "@jupyter-widgets/controls",
       "_model_module_version": "1.5.0",
       "_model_name": "HTMLModel",
       "_view_count": null,
       "_view_module": "@jupyter-widgets/controls",
       "_view_module_version": "1.5.0",
       "_view_name": "HTMLView",
       "description": "",
       "description_tooltip": null,
       "layout": "IPY_MODEL_994d099dc07643df87756f0ec58135ae",
       "placeholder": "​",
       "style": "IPY_MODEL_71a048fec6b94d05b105b68cd34dc86b",
       "value": " 81.0/81.0 [00:00&lt;00:00, 3.33kB/s]"
      }
     },
     "405e09f1dd764e81b0d791850e855d57": {
      "model_module": "@jupyter-widgets/base",
      "model_module_version": "1.2.0",
      "model_name": "LayoutModel",
      "state": {
       "_model_module": "@jupyter-widgets/base",
       "_model_module_version": "1.2.0",
       "_model_name": "LayoutModel",
       "_view_count": null,
       "_view_module": "@jupyter-widgets/base",
       "_view_module_version": "1.2.0",
       "_view_name": "LayoutView",
       "align_content": null,
       "align_items": null,
       "align_self": null,
       "border": null,
       "bottom": null,
       "display": null,
       "flex": null,
       "flex_flow": null,
       "grid_area": null,
       "grid_auto_columns": null,
       "grid_auto_flow": null,
       "grid_auto_rows": null,
       "grid_column": null,
       "grid_gap": null,
       "grid_row": null,
       "grid_template_areas": null,
       "grid_template_columns": null,
       "grid_template_rows": null,
       "height": null,
       "justify_content": null,
       "justify_items": null,
       "left": null,
       "margin": null,
       "max_height": null,
       "max_width": null,
       "min_height": null,
       "min_width": null,
       "object_fit": null,
       "object_position": null,
       "order": null,
       "overflow": null,
       "overflow_x": null,
       "overflow_y": null,
       "padding": null,
       "right": null,
       "top": null,
       "visibility": null,
       "width": null
      }
     },
     "430b37f158c44129a92479887bb7d5ab": {
      "model_module": "@jupyter-widgets/controls",
      "model_module_version": "1.5.0",
      "model_name": "HBoxModel",
      "state": {
       "_dom_classes": [],
       "_model_module": "@jupyter-widgets/controls",
       "_model_module_version": "1.5.0",
       "_model_name": "HBoxModel",
       "_view_count": null,
       "_view_module": "@jupyter-widgets/controls",
       "_view_module_version": "1.5.0",
       "_view_name": "HBoxView",
       "box_style": "",
       "children": [
        "IPY_MODEL_a7bcaf6674964ce2ab02f001bdaf3cfc",
        "IPY_MODEL_e952350d1cba46b98050cd0da1bb5222",
        "IPY_MODEL_329a6d9cd924470db4e0b426b0e789fb"
       ],
       "layout": "IPY_MODEL_148661bb3026445cb5cf313c9858015c"
      }
     },
     "46195d37910141bc964184867fba03a9": {
      "model_module": "@jupyter-widgets/controls",
      "model_module_version": "1.5.0",
      "model_name": "ProgressStyleModel",
      "state": {
       "_model_module": "@jupyter-widgets/controls",
       "_model_module_version": "1.5.0",
       "_model_name": "ProgressStyleModel",
       "_view_count": null,
       "_view_module": "@jupyter-widgets/base",
       "_view_module_version": "1.2.0",
       "_view_name": "StyleView",
       "bar_color": null,
       "description_width": ""
      }
     },
     "4cfc67a97af64273b701f70822b0d862": {
      "model_module": "@jupyter-widgets/controls",
      "model_module_version": "1.5.0",
      "model_name": "FloatProgressModel",
      "state": {
       "_dom_classes": [],
       "_model_module": "@jupyter-widgets/controls",
       "_model_module_version": "1.5.0",
       "_model_name": "FloatProgressModel",
       "_view_count": null,
       "_view_module": "@jupyter-widgets/controls",
       "_view_module_version": "1.5.0",
       "_view_name": "ProgressView",
       "bar_style": "success",
       "description": "",
       "description_tooltip": null,
       "layout": "IPY_MODEL_f9911a57e2624baeb97b7510d83f2605",
       "max": 1684058277.0,
       "min": 0.0,
       "orientation": "horizontal",
       "style": "IPY_MODEL_1d206241b99f47c2ac6d410611d63863",
       "value": 1684058277.0
      }
     },
     "4e6490df45ec4bbb9f39d7ebb66a38d4": {
      "model_module": "@jupyter-widgets/controls",
      "model_module_version": "1.5.0",
      "model_name": "HTMLModel",
      "state": {
       "_dom_classes": [],
       "_model_module": "@jupyter-widgets/controls",
       "_model_module_version": "1.5.0",
       "_model_name": "HTMLModel",
       "_view_count": null,
       "_view_module": "@jupyter-widgets/controls",
       "_view_module_version": "1.5.0",
       "_view_name": "HTMLView",
       "description": "",
       "description_tooltip": null,
       "layout": "IPY_MODEL_d3d901db100e4011a47a4d96cfd4a5ee",
       "placeholder": "​",
       "style": "IPY_MODEL_1dcecc686fe540e5963ea21defa718cc",
       "value": "Downloading (…)lve/main/config.json: 100%"
      }
     },
     "51b5bd8db58e43b4a9f6c35e51d68dac": {
      "model_module": "@jupyter-widgets/base",
      "model_module_version": "1.2.0",
      "model_name": "LayoutModel",
      "state": {
       "_model_module": "@jupyter-widgets/base",
       "_model_module_version": "1.2.0",
       "_model_name": "LayoutModel",
       "_view_count": null,
       "_view_module": "@jupyter-widgets/base",
       "_view_module_version": "1.2.0",
       "_view_name": "LayoutView",
       "align_content": null,
       "align_items": null,
       "align_self": null,
       "border": null,
       "bottom": null,
       "display": null,
       "flex": null,
       "flex_flow": null,
       "grid_area": null,
       "grid_auto_columns": null,
       "grid_auto_flow": null,
       "grid_auto_rows": null,
       "grid_column": null,
       "grid_gap": null,
       "grid_row": null,
       "grid_template_areas": null,
       "grid_template_columns": null,
       "grid_template_rows": null,
       "height": null,
       "justify_content": null,
       "justify_items": null,
       "left": null,
       "margin": null,
       "max_height": null,
       "max_width": null,
       "min_height": null,
       "min_width": null,
       "object_fit": null,
       "object_position": null,
       "order": null,
       "overflow": null,
       "overflow_x": null,
       "overflow_y": null,
       "padding": null,
       "right": null,
       "top": null,
       "visibility": null,
       "width": null
      }
     },
     "5559bbf2cc324f89b9416b6d185c7804": {
      "model_module": "@jupyter-widgets/controls",
      "model_module_version": "1.5.0",
      "model_name": "DescriptionStyleModel",
      "state": {
       "_model_module": "@jupyter-widgets/controls",
       "_model_module_version": "1.5.0",
       "_model_name": "DescriptionStyleModel",
       "_view_count": null,
       "_view_module": "@jupyter-widgets/base",
       "_view_module_version": "1.2.0",
       "_view_name": "StyleView",
       "description_width": ""
      }
     },
     "559c707fb4d6404b9864f4c33b58aff6": {
      "model_module": "@jupyter-widgets/controls",
      "model_module_version": "1.5.0",
      "model_name": "HTMLModel",
      "state": {
       "_dom_classes": [],
       "_model_module": "@jupyter-widgets/controls",
       "_model_module_version": "1.5.0",
       "_model_name": "HTMLModel",
       "_view_count": null,
       "_view_module": "@jupyter-widgets/controls",
       "_view_module_version": "1.5.0",
       "_view_name": "HTMLView",
       "description": "",
       "description_tooltip": null,
       "layout": "IPY_MODEL_2cb70add16bd423eafaf5ad8a0071b9a",
       "placeholder": "​",
       "style": "IPY_MODEL_5559bbf2cc324f89b9416b6d185c7804",
       "value": "Downloading pytorch_model.bin: 100%"
      }
     },
     "56a1f586355a4405b86afb59e7bad15c": {
      "model_module": "@jupyter-widgets/controls",
      "model_module_version": "1.5.0",
      "model_name": "ProgressStyleModel",
      "state": {
       "_model_module": "@jupyter-widgets/controls",
       "_model_module_version": "1.5.0",
       "_model_name": "ProgressStyleModel",
       "_view_count": null,
       "_view_module": "@jupyter-widgets/base",
       "_view_module_version": "1.2.0",
       "_view_name": "StyleView",
       "bar_color": null,
       "description_width": ""
      }
     },
     "56dee7f4e42d4cf18e200495206b4a35": {
      "model_module": "@jupyter-widgets/base",
      "model_module_version": "1.2.0",
      "model_name": "LayoutModel",
      "state": {
       "_model_module": "@jupyter-widgets/base",
       "_model_module_version": "1.2.0",
       "_model_name": "LayoutModel",
       "_view_count": null,
       "_view_module": "@jupyter-widgets/base",
       "_view_module_version": "1.2.0",
       "_view_name": "LayoutView",
       "align_content": null,
       "align_items": null,
       "align_self": null,
       "border": null,
       "bottom": null,
       "display": null,
       "flex": null,
       "flex_flow": null,
       "grid_area": null,
       "grid_auto_columns": null,
       "grid_auto_flow": null,
       "grid_auto_rows": null,
       "grid_column": null,
       "grid_gap": null,
       "grid_row": null,
       "grid_template_areas": null,
       "grid_template_columns": null,
       "grid_template_rows": null,
       "height": null,
       "justify_content": null,
       "justify_items": null,
       "left": null,
       "margin": null,
       "max_height": null,
       "max_width": null,
       "min_height": null,
       "min_width": null,
       "object_fit": null,
       "object_position": null,
       "order": null,
       "overflow": null,
       "overflow_x": null,
       "overflow_y": null,
       "padding": null,
       "right": null,
       "top": null,
       "visibility": null,
       "width": null
      }
     },
     "5dcb1185c00046b9a12d13cdee0fb2dc": {
      "model_module": "@jupyter-widgets/controls",
      "model_module_version": "1.5.0",
      "model_name": "DescriptionStyleModel",
      "state": {
       "_model_module": "@jupyter-widgets/controls",
       "_model_module_version": "1.5.0",
       "_model_name": "DescriptionStyleModel",
       "_view_count": null,
       "_view_module": "@jupyter-widgets/base",
       "_view_module_version": "1.2.0",
       "_view_name": "StyleView",
       "description_width": ""
      }
     },
     "5e6fb4a9f363448f8de192cd2eb77b65": {
      "model_module": "@jupyter-widgets/controls",
      "model_module_version": "1.5.0",
      "model_name": "HTMLModel",
      "state": {
       "_dom_classes": [],
       "_model_module": "@jupyter-widgets/controls",
       "_model_module_version": "1.5.0",
       "_model_name": "HTMLModel",
       "_view_count": null,
       "_view_module": "@jupyter-widgets/controls",
       "_view_module_version": "1.5.0",
       "_view_name": "HTMLView",
       "description": "",
       "description_tooltip": null,
       "layout": "IPY_MODEL_fc0506c9d5134b108f5873211858d4af",
       "placeholder": "​",
       "style": "IPY_MODEL_d5c8803a9b194cbe9f91a93d36a1399d",
       "value": "Downloading (…)okenizer_config.json: 100%"
      }
     },
     "68d44119841f4e51bfd4c7b8161b9330": {
      "model_module": "@jupyter-widgets/controls",
      "model_module_version": "1.5.0",
      "model_name": "FloatProgressModel",
      "state": {
       "_dom_classes": [],
       "_model_module": "@jupyter-widgets/controls",
       "_model_module_version": "1.5.0",
       "_model_name": "FloatProgressModel",
       "_view_count": null,
       "_view_module": "@jupyter-widgets/controls",
       "_view_module_version": "1.5.0",
       "_view_name": "ProgressView",
       "bar_style": "success",
       "description": "",
       "description_tooltip": null,
       "layout": "IPY_MODEL_69be051500d146f983b0ba045932527c",
       "max": 361.0,
       "min": 0.0,
       "orientation": "horizontal",
       "style": "IPY_MODEL_56a1f586355a4405b86afb59e7bad15c",
       "value": 361.0
      }
     },
     "69be051500d146f983b0ba045932527c": {
      "model_module": "@jupyter-widgets/base",
      "model_module_version": "1.2.0",
      "model_name": "LayoutModel",
      "state": {
       "_model_module": "@jupyter-widgets/base",
       "_model_module_version": "1.2.0",
       "_model_name": "LayoutModel",
       "_view_count": null,
       "_view_module": "@jupyter-widgets/base",
       "_view_module_version": "1.2.0",
       "_view_name": "LayoutView",
       "align_content": null,
       "align_items": null,
       "align_self": null,
       "border": null,
       "bottom": null,
       "display": null,
       "flex": null,
       "flex_flow": null,
       "grid_area": null,
       "grid_auto_columns": null,
       "grid_auto_flow": null,
       "grid_auto_rows": null,
       "grid_column": null,
       "grid_gap": null,
       "grid_row": null,
       "grid_template_areas": null,
       "grid_template_columns": null,
       "grid_template_rows": null,
       "height": null,
       "justify_content": null,
       "justify_items": null,
       "left": null,
       "margin": null,
       "max_height": null,
       "max_width": null,
       "min_height": null,
       "min_width": null,
       "object_fit": null,
       "object_position": null,
       "order": null,
       "overflow": null,
       "overflow_x": null,
       "overflow_y": null,
       "padding": null,
       "right": null,
       "top": null,
       "visibility": null,
       "width": null
      }
     },
     "6ab2b5449c67402aa1834b7660e4c27a": {
      "model_module": "@jupyter-widgets/controls",
      "model_module_version": "1.5.0",
      "model_name": "HBoxModel",
      "state": {
       "_dom_classes": [],
       "_model_module": "@jupyter-widgets/controls",
       "_model_module_version": "1.5.0",
       "_model_name": "HBoxModel",
       "_view_count": null,
       "_view_module": "@jupyter-widgets/controls",
       "_view_module_version": "1.5.0",
       "_view_name": "HBoxView",
       "box_style": "",
       "children": [
        "IPY_MODEL_5e6fb4a9f363448f8de192cd2eb77b65",
        "IPY_MODEL_f0d393acb3fe41388093daf4f5bb3ff2",
        "IPY_MODEL_db5443800bcd43d4a296ff84414453c9"
       ],
       "layout": "IPY_MODEL_c62008901fe541dda7c34f43ef3631aa"
      }
     },
     "71a048fec6b94d05b105b68cd34dc86b": {
      "model_module": "@jupyter-widgets/controls",
      "model_module_version": "1.5.0",
      "model_name": "DescriptionStyleModel",
      "state": {
       "_model_module": "@jupyter-widgets/controls",
       "_model_module_version": "1.5.0",
       "_model_name": "DescriptionStyleModel",
       "_view_count": null,
       "_view_module": "@jupyter-widgets/base",
       "_view_module_version": "1.2.0",
       "_view_name": "StyleView",
       "description_width": ""
      }
     },
     "7335e17aec5c47f09f4db13bd41c04d4": {
      "model_module": "@jupyter-widgets/base",
      "model_module_version": "1.2.0",
      "model_name": "LayoutModel",
      "state": {
       "_model_module": "@jupyter-widgets/base",
       "_model_module_version": "1.2.0",
       "_model_name": "LayoutModel",
       "_view_count": null,
       "_view_module": "@jupyter-widgets/base",
       "_view_module_version": "1.2.0",
       "_view_name": "LayoutView",
       "align_content": null,
       "align_items": null,
       "align_self": null,
       "border": null,
       "bottom": null,
       "display": null,
       "flex": null,
       "flex_flow": null,
       "grid_area": null,
       "grid_auto_columns": null,
       "grid_auto_flow": null,
       "grid_auto_rows": null,
       "grid_column": null,
       "grid_gap": null,
       "grid_row": null,
       "grid_template_areas": null,
       "grid_template_columns": null,
       "grid_template_rows": null,
       "height": null,
       "justify_content": null,
       "justify_items": null,
       "left": null,
       "margin": null,
       "max_height": null,
       "max_width": null,
       "min_height": null,
       "min_width": null,
       "object_fit": null,
       "object_position": null,
       "order": null,
       "overflow": null,
       "overflow_x": null,
       "overflow_y": null,
       "padding": null,
       "right": null,
       "top": null,
       "visibility": null,
       "width": null
      }
     },
     "74856008961a4af8a69d58a8eeca57d3": {
      "model_module": "@jupyter-widgets/controls",
      "model_module_version": "1.5.0",
      "model_name": "HTMLModel",
      "state": {
       "_dom_classes": [],
       "_model_module": "@jupyter-widgets/controls",
       "_model_module_version": "1.5.0",
       "_model_name": "HTMLModel",
       "_view_count": null,
       "_view_module": "@jupyter-widgets/controls",
       "_view_module_version": "1.5.0",
       "_view_name": "HTMLView",
       "description": "",
       "description_tooltip": null,
       "layout": "IPY_MODEL_94e961e106c14269b1e6adfbd142df1c",
       "placeholder": "​",
       "style": "IPY_MODEL_f2b02a3808044314a1da48344593469e",
       "value": " 361/361 [00:00&lt;00:00, 24.8kB/s]"
      }
     },
     "78788c298c3a4376984494ae5b39565f": {
      "model_module": "@jupyter-widgets/controls",
      "model_module_version": "1.5.0",
      "model_name": "HBoxModel",
      "state": {
       "_dom_classes": [],
       "_model_module": "@jupyter-widgets/controls",
       "_model_module_version": "1.5.0",
       "_model_name": "HBoxModel",
       "_view_count": null,
       "_view_module": "@jupyter-widgets/controls",
       "_view_module_version": "1.5.0",
       "_view_name": "HBoxView",
       "box_style": "",
       "children": [
        "IPY_MODEL_4e6490df45ec4bbb9f39d7ebb66a38d4",
        "IPY_MODEL_68d44119841f4e51bfd4c7b8161b9330",
        "IPY_MODEL_74856008961a4af8a69d58a8eeca57d3"
       ],
       "layout": "IPY_MODEL_7335e17aec5c47f09f4db13bd41c04d4"
      }
     },
     "7debc67373f7471b950f13fc25639f63": {
      "model_module": "@jupyter-widgets/controls",
      "model_module_version": "1.5.0",
      "model_name": "HTMLModel",
      "state": {
       "_dom_classes": [],
       "_model_module": "@jupyter-widgets/controls",
       "_model_module_version": "1.5.0",
       "_model_name": "HTMLModel",
       "_view_count": null,
       "_view_module": "@jupyter-widgets/controls",
       "_view_module_version": "1.5.0",
       "_view_name": "HTMLView",
       "description": "",
       "description_tooltip": null,
       "layout": "IPY_MODEL_56dee7f4e42d4cf18e200495206b4a35",
       "placeholder": "​",
       "style": "IPY_MODEL_bec91ff90d174537a0b1e0ee2e76f399",
       "value": " 112/112 [00:00&lt;00:00, 7.70kB/s]"
      }
     },
     "88d1d1ecc2564b47b75f330c31635dd6": {
      "model_module": "@jupyter-widgets/controls",
      "model_module_version": "1.5.0",
      "model_name": "FloatProgressModel",
      "state": {
       "_dom_classes": [],
       "_model_module": "@jupyter-widgets/controls",
       "_model_module_version": "1.5.0",
       "_model_name": "FloatProgressModel",
       "_view_count": null,
       "_view_module": "@jupyter-widgets/controls",
       "_view_module_version": "1.5.0",
       "_view_name": "ProgressView",
       "bar_style": "success",
       "description": "",
       "description_tooltip": null,
       "layout": "IPY_MODEL_405e09f1dd764e81b0d791850e855d57",
       "max": 112.0,
       "min": 0.0,
       "orientation": "horizontal",
       "style": "IPY_MODEL_14f97d9ef6984f218fad4b2ac5ee359e",
       "value": 112.0
      }
     },
     "8c0024520410414cbb0cd11cabf73a48": {
      "model_module": "@jupyter-widgets/controls",
      "model_module_version": "1.5.0",
      "model_name": "HTMLModel",
      "state": {
       "_dom_classes": [],
       "_model_module": "@jupyter-widgets/controls",
       "_model_module_version": "1.5.0",
       "_model_name": "HTMLModel",
       "_view_count": null,
       "_view_module": "@jupyter-widgets/controls",
       "_view_module_version": "1.5.0",
       "_view_name": "HTMLView",
       "description": "",
       "description_tooltip": null,
       "layout": "IPY_MODEL_cb89c18019a64be288429fc1f79353df",
       "placeholder": "​",
       "style": "IPY_MODEL_5dcb1185c00046b9a12d13cdee0fb2dc",
       "value": "Downloading (…)cial_tokens_map.json: 100%"
      }
     },
     "91a375c029594487a51d27689beb86f4": {
      "model_module": "@jupyter-widgets/controls",
      "model_module_version": "1.5.0",
      "model_name": "HBoxModel",
      "state": {
       "_dom_classes": [],
       "_model_module": "@jupyter-widgets/controls",
       "_model_module_version": "1.5.0",
       "_model_name": "HBoxModel",
       "_view_count": null,
       "_view_module": "@jupyter-widgets/controls",
       "_view_module_version": "1.5.0",
       "_view_name": "HBoxView",
       "box_style": "",
       "children": [
        "IPY_MODEL_559c707fb4d6404b9864f4c33b58aff6",
        "IPY_MODEL_4cfc67a97af64273b701f70822b0d862",
        "IPY_MODEL_b97763038b884424950c920fb19bfe0a"
       ],
       "layout": "IPY_MODEL_ae01f6eb3f5047c3b77d1ec598bcdbe0"
      }
     },
     "94e961e106c14269b1e6adfbd142df1c": {
      "model_module": "@jupyter-widgets/base",
      "model_module_version": "1.2.0",
      "model_name": "LayoutModel",
      "state": {
       "_model_module": "@jupyter-widgets/base",
       "_model_module_version": "1.2.0",
       "_model_name": "LayoutModel",
       "_view_count": null,
       "_view_module": "@jupyter-widgets/base",
       "_view_module_version": "1.2.0",
       "_view_name": "LayoutView",
       "align_content": null,
       "align_items": null,
       "align_self": null,
       "border": null,
       "bottom": null,
       "display": null,
       "flex": null,
       "flex_flow": null,
       "grid_area": null,
       "grid_auto_columns": null,
       "grid_auto_flow": null,
       "grid_auto_rows": null,
       "grid_column": null,
       "grid_gap": null,
       "grid_row": null,
       "grid_template_areas": null,
       "grid_template_columns": null,
       "grid_template_rows": null,
       "height": null,
       "justify_content": null,
       "justify_items": null,
       "left": null,
       "margin": null,
       "max_height": null,
       "max_width": null,
       "min_height": null,
       "min_width": null,
       "object_fit": null,
       "object_position": null,
       "order": null,
       "overflow": null,
       "overflow_x": null,
       "overflow_y": null,
       "padding": null,
       "right": null,
       "top": null,
       "visibility": null,
       "width": null
      }
     },
     "994d099dc07643df87756f0ec58135ae": {
      "model_module": "@jupyter-widgets/base",
      "model_module_version": "1.2.0",
      "model_name": "LayoutModel",
      "state": {
       "_model_module": "@jupyter-widgets/base",
       "_model_module_version": "1.2.0",
       "_model_name": "LayoutModel",
       "_view_count": null,
       "_view_module": "@jupyter-widgets/base",
       "_view_module_version": "1.2.0",
       "_view_name": "LayoutView",
       "align_content": null,
       "align_items": null,
       "align_self": null,
       "border": null,
       "bottom": null,
       "display": null,
       "flex": null,
       "flex_flow": null,
       "grid_area": null,
       "grid_auto_columns": null,
       "grid_auto_flow": null,
       "grid_auto_rows": null,
       "grid_column": null,
       "grid_gap": null,
       "grid_row": null,
       "grid_template_areas": null,
       "grid_template_columns": null,
       "grid_template_rows": null,
       "height": null,
       "justify_content": null,
       "justify_items": null,
       "left": null,
       "margin": null,
       "max_height": null,
       "max_width": null,
       "min_height": null,
       "min_width": null,
       "object_fit": null,
       "object_position": null,
       "order": null,
       "overflow": null,
       "overflow_x": null,
       "overflow_y": null,
       "padding": null,
       "right": null,
       "top": null,
       "visibility": null,
       "width": null
      }
     },
     "9fdfa2e4999e419b9487d8a8864c165c": {
      "model_module": "@jupyter-widgets/base",
      "model_module_version": "1.2.0",
      "model_name": "LayoutModel",
      "state": {
       "_model_module": "@jupyter-widgets/base",
       "_model_module_version": "1.2.0",
       "_model_name": "LayoutModel",
       "_view_count": null,
       "_view_module": "@jupyter-widgets/base",
       "_view_module_version": "1.2.0",
       "_view_name": "LayoutView",
       "align_content": null,
       "align_items": null,
       "align_self": null,
       "border": null,
       "bottom": null,
       "display": null,
       "flex": null,
       "flex_flow": null,
       "grid_area": null,
       "grid_auto_columns": null,
       "grid_auto_flow": null,
       "grid_auto_rows": null,
       "grid_column": null,
       "grid_gap": null,
       "grid_row": null,
       "grid_template_areas": null,
       "grid_template_columns": null,
       "grid_template_rows": null,
       "height": null,
       "justify_content": null,
       "justify_items": null,
       "left": null,
       "margin": null,
       "max_height": null,
       "max_width": null,
       "min_height": null,
       "min_width": null,
       "object_fit": null,
       "object_position": null,
       "order": null,
       "overflow": null,
       "overflow_x": null,
       "overflow_y": null,
       "padding": null,
       "right": null,
       "top": null,
       "visibility": null,
       "width": null
      }
     },
     "a7bcaf6674964ce2ab02f001bdaf3cfc": {
      "model_module": "@jupyter-widgets/controls",
      "model_module_version": "1.5.0",
      "model_name": "HTMLModel",
      "state": {
       "_dom_classes": [],
       "_model_module": "@jupyter-widgets/controls",
       "_model_module_version": "1.5.0",
       "_model_name": "HTMLModel",
       "_view_count": null,
       "_view_module": "@jupyter-widgets/controls",
       "_view_module_version": "1.5.0",
       "_view_name": "HTMLView",
       "description": "",
       "description_tooltip": null,
       "layout": "IPY_MODEL_c48b792dc8ff48d88a020e9ed7c3add2",
       "placeholder": "​",
       "style": "IPY_MODEL_a7f15efe5c444d03950438a477c14153",
       "value": "Downloading (…)solve/main/vocab.txt: 100%"
      }
     },
     "a7f15efe5c444d03950438a477c14153": {
      "model_module": "@jupyter-widgets/controls",
      "model_module_version": "1.5.0",
      "model_name": "DescriptionStyleModel",
      "state": {
       "_model_module": "@jupyter-widgets/controls",
       "_model_module_version": "1.5.0",
       "_model_name": "DescriptionStyleModel",
       "_view_count": null,
       "_view_module": "@jupyter-widgets/base",
       "_view_module_version": "1.2.0",
       "_view_name": "StyleView",
       "description_width": ""
      }
     },
     "ae01f6eb3f5047c3b77d1ec598bcdbe0": {
      "model_module": "@jupyter-widgets/base",
      "model_module_version": "1.2.0",
      "model_name": "LayoutModel",
      "state": {
       "_model_module": "@jupyter-widgets/base",
       "_model_module_version": "1.2.0",
       "_model_name": "LayoutModel",
       "_view_count": null,
       "_view_module": "@jupyter-widgets/base",
       "_view_module_version": "1.2.0",
       "_view_name": "LayoutView",
       "align_content": null,
       "align_items": null,
       "align_self": null,
       "border": null,
       "bottom": null,
       "display": null,
       "flex": null,
       "flex_flow": null,
       "grid_area": null,
       "grid_auto_columns": null,
       "grid_auto_flow": null,
       "grid_auto_rows": null,
       "grid_column": null,
       "grid_gap": null,
       "grid_row": null,
       "grid_template_areas": null,
       "grid_template_columns": null,
       "grid_template_rows": null,
       "height": null,
       "justify_content": null,
       "justify_items": null,
       "left": null,
       "margin": null,
       "max_height": null,
       "max_width": null,
       "min_height": null,
       "min_width": null,
       "object_fit": null,
       "object_position": null,
       "order": null,
       "overflow": null,
       "overflow_x": null,
       "overflow_y": null,
       "padding": null,
       "right": null,
       "top": null,
       "visibility": null,
       "width": null
      }
     },
     "b97763038b884424950c920fb19bfe0a": {
      "model_module": "@jupyter-widgets/controls",
      "model_module_version": "1.5.0",
      "model_name": "HTMLModel",
      "state": {
       "_dom_classes": [],
       "_model_module": "@jupyter-widgets/controls",
       "_model_module_version": "1.5.0",
       "_model_name": "HTMLModel",
       "_view_count": null,
       "_view_module": "@jupyter-widgets/controls",
       "_view_module_version": "1.5.0",
       "_view_name": "HTMLView",
       "description": "",
       "description_tooltip": null,
       "layout": "IPY_MODEL_51b5bd8db58e43b4a9f6c35e51d68dac",
       "placeholder": "​",
       "style": "IPY_MODEL_17300bf6808042b4897a002da4878b0e",
       "value": " 1.68G/1.68G [00:16&lt;00:00, 105MB/s]"
      }
     },
     "bb3ecd0acd5f462a8d61d695d362940f": {
      "model_module": "@jupyter-widgets/controls",
      "model_module_version": "1.5.0",
      "model_name": "ProgressStyleModel",
      "state": {
       "_model_module": "@jupyter-widgets/controls",
       "_model_module_version": "1.5.0",
       "_model_name": "ProgressStyleModel",
       "_view_count": null,
       "_view_module": "@jupyter-widgets/base",
       "_view_module_version": "1.2.0",
       "_view_name": "StyleView",
       "bar_color": null,
       "description_width": ""
      }
     },
     "bec91ff90d174537a0b1e0ee2e76f399": {
      "model_module": "@jupyter-widgets/controls",
      "model_module_version": "1.5.0",
      "model_name": "DescriptionStyleModel",
      "state": {
       "_model_module": "@jupyter-widgets/controls",
       "_model_module_version": "1.5.0",
       "_model_name": "DescriptionStyleModel",
       "_view_count": null,
       "_view_module": "@jupyter-widgets/base",
       "_view_module_version": "1.2.0",
       "_view_name": "StyleView",
       "description_width": ""
      }
     },
     "bfdfc8c8710346b89648cfb7fbb721b4": {
      "model_module": "@jupyter-widgets/base",
      "model_module_version": "1.2.0",
      "model_name": "LayoutModel",
      "state": {
       "_model_module": "@jupyter-widgets/base",
       "_model_module_version": "1.2.0",
       "_model_name": "LayoutModel",
       "_view_count": null,
       "_view_module": "@jupyter-widgets/base",
       "_view_module_version": "1.2.0",
       "_view_name": "LayoutView",
       "align_content": null,
       "align_items": null,
       "align_self": null,
       "border": null,
       "bottom": null,
       "display": null,
       "flex": null,
       "flex_flow": null,
       "grid_area": null,
       "grid_auto_columns": null,
       "grid_auto_flow": null,
       "grid_auto_rows": null,
       "grid_column": null,
       "grid_gap": null,
       "grid_row": null,
       "grid_template_areas": null,
       "grid_template_columns": null,
       "grid_template_rows": null,
       "height": null,
       "justify_content": null,
       "justify_items": null,
       "left": null,
       "margin": null,
       "max_height": null,
       "max_width": null,
       "min_height": null,
       "min_width": null,
       "object_fit": null,
       "object_position": null,
       "order": null,
       "overflow": null,
       "overflow_x": null,
       "overflow_y": null,
       "padding": null,
       "right": null,
       "top": null,
       "visibility": null,
       "width": null
      }
     },
     "c48b792dc8ff48d88a020e9ed7c3add2": {
      "model_module": "@jupyter-widgets/base",
      "model_module_version": "1.2.0",
      "model_name": "LayoutModel",
      "state": {
       "_model_module": "@jupyter-widgets/base",
       "_model_module_version": "1.2.0",
       "_model_name": "LayoutModel",
       "_view_count": null,
       "_view_module": "@jupyter-widgets/base",
       "_view_module_version": "1.2.0",
       "_view_name": "LayoutView",
       "align_content": null,
       "align_items": null,
       "align_self": null,
       "border": null,
       "bottom": null,
       "display": null,
       "flex": null,
       "flex_flow": null,
       "grid_area": null,
       "grid_auto_columns": null,
       "grid_auto_flow": null,
       "grid_auto_rows": null,
       "grid_column": null,
       "grid_gap": null,
       "grid_row": null,
       "grid_template_areas": null,
       "grid_template_columns": null,
       "grid_template_rows": null,
       "height": null,
       "justify_content": null,
       "justify_items": null,
       "left": null,
       "margin": null,
       "max_height": null,
       "max_width": null,
       "min_height": null,
       "min_width": null,
       "object_fit": null,
       "object_position": null,
       "order": null,
       "overflow": null,
       "overflow_x": null,
       "overflow_y": null,
       "padding": null,
       "right": null,
       "top": null,
       "visibility": null,
       "width": null
      }
     },
     "c62008901fe541dda7c34f43ef3631aa": {
      "model_module": "@jupyter-widgets/base",
      "model_module_version": "1.2.0",
      "model_name": "LayoutModel",
      "state": {
       "_model_module": "@jupyter-widgets/base",
       "_model_module_version": "1.2.0",
       "_model_name": "LayoutModel",
       "_view_count": null,
       "_view_module": "@jupyter-widgets/base",
       "_view_module_version": "1.2.0",
       "_view_name": "LayoutView",
       "align_content": null,
       "align_items": null,
       "align_self": null,
       "border": null,
       "bottom": null,
       "display": null,
       "flex": null,
       "flex_flow": null,
       "grid_area": null,
       "grid_auto_columns": null,
       "grid_auto_flow": null,
       "grid_auto_rows": null,
       "grid_column": null,
       "grid_gap": null,
       "grid_row": null,
       "grid_template_areas": null,
       "grid_template_columns": null,
       "grid_template_rows": null,
       "height": null,
       "justify_content": null,
       "justify_items": null,
       "left": null,
       "margin": null,
       "max_height": null,
       "max_width": null,
       "min_height": null,
       "min_width": null,
       "object_fit": null,
       "object_position": null,
       "order": null,
       "overflow": null,
       "overflow_x": null,
       "overflow_y": null,
       "padding": null,
       "right": null,
       "top": null,
       "visibility": null,
       "width": null
      }
     },
     "cb89c18019a64be288429fc1f79353df": {
      "model_module": "@jupyter-widgets/base",
      "model_module_version": "1.2.0",
      "model_name": "LayoutModel",
      "state": {
       "_model_module": "@jupyter-widgets/base",
       "_model_module_version": "1.2.0",
       "_model_name": "LayoutModel",
       "_view_count": null,
       "_view_module": "@jupyter-widgets/base",
       "_view_module_version": "1.2.0",
       "_view_name": "LayoutView",
       "align_content": null,
       "align_items": null,
       "align_self": null,
       "border": null,
       "bottom": null,
       "display": null,
       "flex": null,
       "flex_flow": null,
       "grid_area": null,
       "grid_auto_columns": null,
       "grid_auto_flow": null,
       "grid_auto_rows": null,
       "grid_column": null,
       "grid_gap": null,
       "grid_row": null,
       "grid_template_areas": null,
       "grid_template_columns": null,
       "grid_template_rows": null,
       "height": null,
       "justify_content": null,
       "justify_items": null,
       "left": null,
       "margin": null,
       "max_height": null,
       "max_width": null,
       "min_height": null,
       "min_width": null,
       "object_fit": null,
       "object_position": null,
       "order": null,
       "overflow": null,
       "overflow_x": null,
       "overflow_y": null,
       "padding": null,
       "right": null,
       "top": null,
       "visibility": null,
       "width": null
      }
     },
     "d3d901db100e4011a47a4d96cfd4a5ee": {
      "model_module": "@jupyter-widgets/base",
      "model_module_version": "1.2.0",
      "model_name": "LayoutModel",
      "state": {
       "_model_module": "@jupyter-widgets/base",
       "_model_module_version": "1.2.0",
       "_model_name": "LayoutModel",
       "_view_count": null,
       "_view_module": "@jupyter-widgets/base",
       "_view_module_version": "1.2.0",
       "_view_name": "LayoutView",
       "align_content": null,
       "align_items": null,
       "align_self": null,
       "border": null,
       "bottom": null,
       "display": null,
       "flex": null,
       "flex_flow": null,
       "grid_area": null,
       "grid_auto_columns": null,
       "grid_auto_flow": null,
       "grid_auto_rows": null,
       "grid_column": null,
       "grid_gap": null,
       "grid_row": null,
       "grid_template_areas": null,
       "grid_template_columns": null,
       "grid_template_rows": null,
       "height": null,
       "justify_content": null,
       "justify_items": null,
       "left": null,
       "margin": null,
       "max_height": null,
       "max_width": null,
       "min_height": null,
       "min_width": null,
       "object_fit": null,
       "object_position": null,
       "order": null,
       "overflow": null,
       "overflow_x": null,
       "overflow_y": null,
       "padding": null,
       "right": null,
       "top": null,
       "visibility": null,
       "width": null
      }
     },
     "d5c8803a9b194cbe9f91a93d36a1399d": {
      "model_module": "@jupyter-widgets/controls",
      "model_module_version": "1.5.0",
      "model_name": "DescriptionStyleModel",
      "state": {
       "_model_module": "@jupyter-widgets/controls",
       "_model_module_version": "1.5.0",
       "_model_name": "DescriptionStyleModel",
       "_view_count": null,
       "_view_module": "@jupyter-widgets/base",
       "_view_module_version": "1.2.0",
       "_view_name": "StyleView",
       "description_width": ""
      }
     },
     "d8c43ed140524be882ae3798f2afdf9f": {
      "model_module": "@jupyter-widgets/base",
      "model_module_version": "1.2.0",
      "model_name": "LayoutModel",
      "state": {
       "_model_module": "@jupyter-widgets/base",
       "_model_module_version": "1.2.0",
       "_model_name": "LayoutModel",
       "_view_count": null,
       "_view_module": "@jupyter-widgets/base",
       "_view_module_version": "1.2.0",
       "_view_name": "LayoutView",
       "align_content": null,
       "align_items": null,
       "align_self": null,
       "border": null,
       "bottom": null,
       "display": null,
       "flex": null,
       "flex_flow": null,
       "grid_area": null,
       "grid_auto_columns": null,
       "grid_auto_flow": null,
       "grid_auto_rows": null,
       "grid_column": null,
       "grid_gap": null,
       "grid_row": null,
       "grid_template_areas": null,
       "grid_template_columns": null,
       "grid_template_rows": null,
       "height": null,
       "justify_content": null,
       "justify_items": null,
       "left": null,
       "margin": null,
       "max_height": null,
       "max_width": null,
       "min_height": null,
       "min_width": null,
       "object_fit": null,
       "object_position": null,
       "order": null,
       "overflow": null,
       "overflow_x": null,
       "overflow_y": null,
       "padding": null,
       "right": null,
       "top": null,
       "visibility": null,
       "width": null
      }
     },
     "db5443800bcd43d4a296ff84414453c9": {
      "model_module": "@jupyter-widgets/controls",
      "model_module_version": "1.5.0",
      "model_name": "HTMLModel",
      "state": {
       "_dom_classes": [],
       "_model_module": "@jupyter-widgets/controls",
       "_model_module_version": "1.5.0",
       "_model_name": "HTMLModel",
       "_view_count": null,
       "_view_module": "@jupyter-widgets/controls",
       "_view_module_version": "1.5.0",
       "_view_name": "HTMLView",
       "description": "",
       "description_tooltip": null,
       "layout": "IPY_MODEL_bfdfc8c8710346b89648cfb7fbb721b4",
       "placeholder": "​",
       "style": "IPY_MODEL_fd915a537a6046ee8f71398bf6171056",
       "value": " 86.0/86.0 [00:00&lt;00:00, 6.33kB/s]"
      }
     },
     "e952350d1cba46b98050cd0da1bb5222": {
      "model_module": "@jupyter-widgets/controls",
      "model_module_version": "1.5.0",
      "model_name": "FloatProgressModel",
      "state": {
       "_dom_classes": [],
       "_model_module": "@jupyter-widgets/controls",
       "_model_module_version": "1.5.0",
       "_model_name": "FloatProgressModel",
       "_view_count": null,
       "_view_module": "@jupyter-widgets/controls",
       "_view_module_version": "1.5.0",
       "_view_name": "ProgressView",
       "bar_style": "success",
       "description": "",
       "description_tooltip": null,
       "layout": "IPY_MODEL_2a634a5d9f7647a692f7a05047c11070",
       "max": 81.0,
       "min": 0.0,
       "orientation": "horizontal",
       "style": "IPY_MODEL_bb3ecd0acd5f462a8d61d695d362940f",
       "value": 81.0
      }
     },
     "f0d393acb3fe41388093daf4f5bb3ff2": {
      "model_module": "@jupyter-widgets/controls",
      "model_module_version": "1.5.0",
      "model_name": "FloatProgressModel",
      "state": {
       "_dom_classes": [],
       "_model_module": "@jupyter-widgets/controls",
       "_model_module_version": "1.5.0",
       "_model_name": "FloatProgressModel",
       "_view_count": null,
       "_view_module": "@jupyter-widgets/controls",
       "_view_module_version": "1.5.0",
       "_view_name": "ProgressView",
       "bar_style": "success",
       "description": "",
       "description_tooltip": null,
       "layout": "IPY_MODEL_9fdfa2e4999e419b9487d8a8864c165c",
       "max": 86.0,
       "min": 0.0,
       "orientation": "horizontal",
       "style": "IPY_MODEL_46195d37910141bc964184867fba03a9",
       "value": 86.0
      }
     },
     "f2b02a3808044314a1da48344593469e": {
      "model_module": "@jupyter-widgets/controls",
      "model_module_version": "1.5.0",
      "model_name": "DescriptionStyleModel",
      "state": {
       "_model_module": "@jupyter-widgets/controls",
       "_model_module_version": "1.5.0",
       "_model_name": "DescriptionStyleModel",
       "_view_count": null,
       "_view_module": "@jupyter-widgets/base",
       "_view_module_version": "1.2.0",
       "_view_name": "StyleView",
       "description_width": ""
      }
     },
     "f9911a57e2624baeb97b7510d83f2605": {
      "model_module": "@jupyter-widgets/base",
      "model_module_version": "1.2.0",
      "model_name": "LayoutModel",
      "state": {
       "_model_module": "@jupyter-widgets/base",
       "_model_module_version": "1.2.0",
       "_model_name": "LayoutModel",
       "_view_count": null,
       "_view_module": "@jupyter-widgets/base",
       "_view_module_version": "1.2.0",
       "_view_name": "LayoutView",
       "align_content": null,
       "align_items": null,
       "align_self": null,
       "border": null,
       "bottom": null,
       "display": null,
       "flex": null,
       "flex_flow": null,
       "grid_area": null,
       "grid_auto_columns": null,
       "grid_auto_flow": null,
       "grid_auto_rows": null,
       "grid_column": null,
       "grid_gap": null,
       "grid_row": null,
       "grid_template_areas": null,
       "grid_template_columns": null,
       "grid_template_rows": null,
       "height": null,
       "justify_content": null,
       "justify_items": null,
       "left": null,
       "margin": null,
       "max_height": null,
       "max_width": null,
       "min_height": null,
       "min_width": null,
       "object_fit": null,
       "object_position": null,
       "order": null,
       "overflow": null,
       "overflow_x": null,
       "overflow_y": null,
       "padding": null,
       "right": null,
       "top": null,
       "visibility": null,
       "width": null
      }
     },
     "fc0506c9d5134b108f5873211858d4af": {
      "model_module": "@jupyter-widgets/base",
      "model_module_version": "1.2.0",
      "model_name": "LayoutModel",
      "state": {
       "_model_module": "@jupyter-widgets/base",
       "_model_module_version": "1.2.0",
       "_model_name": "LayoutModel",
       "_view_count": null,
       "_view_module": "@jupyter-widgets/base",
       "_view_module_version": "1.2.0",
       "_view_name": "LayoutView",
       "align_content": null,
       "align_items": null,
       "align_self": null,
       "border": null,
       "bottom": null,
       "display": null,
       "flex": null,
       "flex_flow": null,
       "grid_area": null,
       "grid_auto_columns": null,
       "grid_auto_flow": null,
       "grid_auto_rows": null,
       "grid_column": null,
       "grid_gap": null,
       "grid_row": null,
       "grid_template_areas": null,
       "grid_template_columns": null,
       "grid_template_rows": null,
       "height": null,
       "justify_content": null,
       "justify_items": null,
       "left": null,
       "margin": null,
       "max_height": null,
       "max_width": null,
       "min_height": null,
       "min_width": null,
       "object_fit": null,
       "object_position": null,
       "order": null,
       "overflow": null,
       "overflow_x": null,
       "overflow_y": null,
       "padding": null,
       "right": null,
       "top": null,
       "visibility": null,
       "width": null
      }
     },
     "fd915a537a6046ee8f71398bf6171056": {
      "model_module": "@jupyter-widgets/controls",
      "model_module_version": "1.5.0",
      "model_name": "DescriptionStyleModel",
      "state": {
       "_model_module": "@jupyter-widgets/controls",
       "_model_module_version": "1.5.0",
       "_model_name": "DescriptionStyleModel",
       "_view_count": null,
       "_view_module": "@jupyter-widgets/base",
       "_view_module_version": "1.2.0",
       "_view_name": "StyleView",
       "description_width": ""
      }
     }
    },
    "version_major": 2,
    "version_minor": 0
   }
  }
 },
 "nbformat": 4,
 "nbformat_minor": 5
}
