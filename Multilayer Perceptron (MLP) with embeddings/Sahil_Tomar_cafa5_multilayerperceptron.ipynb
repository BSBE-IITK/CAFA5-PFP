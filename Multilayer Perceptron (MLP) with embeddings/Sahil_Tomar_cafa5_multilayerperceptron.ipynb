{
 "metadata": {
  "kernelspec": {
   "language": "python",
   "display_name": "Python 3",
   "name": "python3"
  },
  "language_info": {
   "name": "python",
   "version": "3.10.10",
   "mimetype": "text/x-python",
   "codemirror_mode": {
    "name": "ipython",
    "version": 3
   },
   "pygments_lexer": "ipython3",
   "nbconvert_exporter": "python",
   "file_extension": ".py"
  }
 },
 "nbformat_minor": 4,
 "nbformat": 4,
 "cells": [
  {
   "cell_type": "markdown",
   "source": [
    "# Training A Multilayer Perceptron Using GPU P100"
   ],
   "metadata": {}
  },
  {
   "cell_type": "code",
   "source": [
    "%%time\n",
    "\n",
    "import warnings\n",
    "warnings.filterwarnings('ignore')\n",
    "warnings.simplefilter('ignore')\n",
    "\n",
    "import numpy as np\n",
    "import pandas as pd\n",
    "import h5py\n",
    "\n",
    "from tqdm import tqdm\n",
    "\n",
    "from sklearn.model_selection import train_test_split\n",
    "\n",
    "import tensorflow as tf\n",
    "\n",
    "from sklearn.metrics import hamming_loss\n",
    "\n",
    "\n",
    "import os\n",
    "for dirname, _, filenames in os.walk('/kaggle/input'):\n",
    "    for filename in filenames:\n",
    "        print(os.path.join(dirname, filename))"
   ],
   "metadata": {
    "_uuid": "8f2839f25d086af736a60e9eeb907d3b93b6e0e5",
    "_cell_guid": "b1076dfc-b9ad-4769-8c92-a6c4dae69d19",
    "execution": {
     "iopub.status.busy": "2023-06-20T09:37:55.349465Z",
     "iopub.execute_input": "2023-06-20T09:37:55.350420Z",
     "iopub.status.idle": "2023-06-20T09:38:04.422245Z",
     "shell.execute_reply.started": "2023-06-20T09:37:55.350386Z",
     "shell.execute_reply": "2023-06-20T09:38:04.421256Z"
    },
    "trusted": true
   },
   "execution_count": 1,
   "outputs": [
    {
     "name": "stdout",
     "text": "/kaggle/input/t5embeds/train_ids.npy\n/kaggle/input/t5embeds/test_embeds.npy\n/kaggle/input/t5embeds/train_embeds.npy\n/kaggle/input/t5embeds/test_ids.npy\n/kaggle/input/train-labels-cafa5/top_1500_labels.npy\n/kaggle/input/train-labels-cafa5/train_labels.h5\n/kaggle/input/train-labels-cafa5/MultiaLayerPerceptron.h5\nCPU times: user 3.55 s, sys: 775 ms, total: 4.32 s\nWall time: 9.06 s\n",
     "output_type": "stream"
    }
   ]
  },
  {
   "cell_type": "code",
   "source": [
    "%%time\n",
    "\n",
    "# Check if GPU is available\n",
    "if tf.test.gpu_device_name():\n",
    "    print('GPU device found: {}'.format(tf.test.gpu_device_name()))\n",
    "else:\n",
    "    print(\"No GPU found. Training on CPU.\")"
   ],
   "metadata": {
    "execution": {
     "iopub.status.busy": "2023-06-20T09:38:18.740592Z",
     "iopub.execute_input": "2023-06-20T09:38:18.740954Z",
     "iopub.status.idle": "2023-06-20T09:38:18.757889Z",
     "shell.execute_reply.started": "2023-06-20T09:38:18.740927Z",
     "shell.execute_reply": "2023-06-20T09:38:18.756991Z"
    },
    "trusted": true
   },
   "execution_count": 3,
   "outputs": [
    {
     "name": "stdout",
     "text": "GPU device found: /device:GPU:0\nCPU times: user 1.73 ms, sys: 6.17 ms, total: 7.9 ms\nWall time: 7.8 ms\n",
     "output_type": "stream"
    }
   ]
  },
  {
   "cell_type": "code",
   "source": [
    "%%time\n",
    "\n",
    "train_data = np.load('/kaggle/input/t5embeds/train_embeds.npy')\n",
    "\n",
    "with h5py.File('/kaggle/input/train-labels-cafa5/train_labels.h5', 'r') as hf:\n",
    "    train_labels = hf['labels'][:]"
   ],
   "metadata": {
    "execution": {
     "iopub.status.busy": "2023-06-20T09:38:23.087502Z",
     "iopub.execute_input": "2023-06-20T09:38:23.087869Z",
     "iopub.status.idle": "2023-06-20T09:38:23.093744Z",
     "shell.execute_reply.started": "2023-06-20T09:38:23.087841Z",
     "shell.execute_reply": "2023-06-20T09:38:23.090892Z"
    },
    "trusted": true
   },
   "execution_count": 4,
   "outputs": []
  },
  {
   "cell_type": "code",
   "source": [
    "%%time\n",
    "\n",
    "test_data = np.load('/kaggle/input/t5embeds/test_embeds.npy')"
   ],
   "metadata": {
    "execution": {
     "iopub.status.busy": "2023-06-20T09:38:26.073035Z",
     "iopub.execute_input": "2023-06-20T09:38:26.073662Z",
     "iopub.status.idle": "2023-06-20T09:38:36.651249Z",
     "shell.execute_reply.started": "2023-06-20T09:38:26.073628Z",
     "shell.execute_reply": "2023-06-20T09:38:36.650182Z"
    },
    "trusted": true
   },
   "execution_count": 5,
   "outputs": [
    {
     "name": "stdout",
     "text": "CPU times: user 17 ms, sys: 659 ms, total: 676 ms\nWall time: 10.6 s\n",
     "output_type": "stream"
    }
   ]
  },
  {
   "cell_type": "code",
   "source": [
    "%%time\n",
    "\n",
    "INPUT_SHAPE = [train_data.shape[1]]\n",
    "BATCH_SIZE = int(train_data.shape[0] / 250)\n",
    "\n",
    "model = tf.keras.Sequential([\n",
    "    tf.keras.layers.BatchNormalization(input_shape=INPUT_SHAPE),\n",
    "    tf.keras.layers.Dense(units=512, activation='relu'),\n",
    "    tf.keras.layers.Dense(units=512, activation='relu'),\n",
    "    tf.keras.layers.Dense(units=512, activation='relu'),\n",
    "    tf.keras.layers.Dense(units=train_labels.shape[1],activation='sigmoid')\n",
    "])\n",
    "\n",
    "model.compile(\n",
    "    optimizer=tf.keras.optimizers.Adam(learning_rate=0.001),\n",
    "    loss='binary_crossentropy',\n",
    "    metrics=['binary_accuracy', tf.keras.metrics.AUC()]\n",
    ")"
   ],
   "metadata": {
    "trusted": true
   },
   "execution_count": null,
   "outputs": []
  },
  {
   "cell_type": "code",
   "source": [
    "%%time\n",
    "model.fit(\n",
    "        train_data, train_labels,\n",
    "        batch_size=BATCH_SIZE,\n",
    "        epochs=10\n",
    "    )"
   ],
   "metadata": {
    "trusted": true
   },
   "execution_count": null,
   "outputs": []
  },
  {
   "cell_type": "code",
   "source": [
    "model.save('MultiLayerPerceptron.h5')"
   ],
   "metadata": {
    "trusted": true
   },
   "execution_count": null,
   "outputs": []
  },
  {
   "cell_type": "code",
   "source": [
    "%%time\n",
    "\n",
    "model = tf.keras.models.load_model('/kaggle/input/train-labels-cafa5/MultiaLayerPerceptron.h5')"
   ],
   "metadata": {
    "execution": {
     "iopub.status.busy": "2023-06-20T09:40:50.508451Z",
     "iopub.execute_input": "2023-06-20T09:40:50.509153Z",
     "iopub.status.idle": "2023-06-20T09:40:51.523817Z",
     "shell.execute_reply.started": "2023-06-20T09:40:50.509122Z",
     "shell.execute_reply": "2023-06-20T09:40:51.521650Z"
    },
    "trusted": true
   },
   "execution_count": 6,
   "outputs": [
    {
     "name": "stdout",
     "text": "CPU times: user 345 ms, sys: 271 ms, total: 616 ms\nWall time: 1.01 s\n",
     "output_type": "stream"
    }
   ]
  },
  {
   "cell_type": "code",
   "source": [
    "%%time\n",
    "\n",
    "predictions =  model.predict(test_data)"
   ],
   "metadata": {
    "execution": {
     "iopub.status.busy": "2023-06-20T09:40:54.856018Z",
     "iopub.execute_input": "2023-06-20T09:40:54.856378Z",
     "iopub.status.idle": "2023-06-20T09:41:16.865796Z",
     "shell.execute_reply.started": "2023-06-20T09:40:54.856349Z",
     "shell.execute_reply": "2023-06-20T09:41:16.864761Z"
    },
    "trusted": true
   },
   "execution_count": 7,
   "outputs": [
    {
     "name": "stdout",
     "text": "4434/4434 [==============================] - 9s 2ms/step\nCPU times: user 11.6 s, sys: 2.28 s, total: 13.9 s\nWall time: 22 s\n",
     "output_type": "stream"
    }
   ]
  },
  {
   "cell_type": "code",
   "source": [
    "labels = np.load('/kaggle/input/train-labels-cafa5/top_1500_labels.npy',allow_pickle=True)"
   ],
   "metadata": {
    "execution": {
     "iopub.status.busy": "2023-06-20T09:41:42.954710Z",
     "iopub.execute_input": "2023-06-20T09:41:42.955271Z",
     "iopub.status.idle": "2023-06-20T09:41:42.964358Z",
     "shell.execute_reply.started": "2023-06-20T09:41:42.955238Z",
     "shell.execute_reply": "2023-06-20T09:41:42.963377Z"
    },
    "trusted": true
   },
   "execution_count": 8,
   "outputs": []
  },
  {
   "cell_type": "code",
   "source": [
    "test_protein_ids = np.load('/kaggle/input/t5embeds/test_ids.npy')\n",
    "l = []\n",
    "for k in list(test_protein_ids):\n",
    "    l += [ k] * predictions.shape[1]"
   ],
   "metadata": {
    "execution": {
     "iopub.status.busy": "2023-06-20T09:42:37.029361Z",
     "iopub.execute_input": "2023-06-20T09:42:37.029731Z",
     "iopub.status.idle": "2023-06-20T09:42:39.391413Z",
     "shell.execute_reply.started": "2023-06-20T09:42:37.029696Z",
     "shell.execute_reply": "2023-06-20T09:42:39.390406Z"
    },
    "trusted": true
   },
   "execution_count": 10,
   "outputs": []
  },
  {
   "cell_type": "code",
   "source": [
    "df_submission = pd.DataFrame(\n",
    "    {\n",
    "        'Protein ID': l,\n",
    "        'GO Term ID': np.tile(labels, predictions.shape[0]),\n",
    "        'Prediction': np.round(predictions.ravel(),3)\n",
    "    }\n",
    ")"
   ],
   "metadata": {
    "execution": {
     "iopub.status.busy": "2023-06-20T09:45:17.922646Z",
     "iopub.execute_input": "2023-06-20T09:45:17.923011Z",
     "iopub.status.idle": "2023-06-20T09:45:42.716788Z",
     "shell.execute_reply.started": "2023-06-20T09:45:17.922982Z",
     "shell.execute_reply": "2023-06-20T09:45:42.712328Z"
    },
    "trusted": true
   },
   "execution_count": 13,
   "outputs": []
  },
  {
   "cell_type": "code",
   "source": [
    "df_submission.head()"
   ],
   "metadata": {
    "execution": {
     "iopub.status.busy": "2023-06-20T09:46:53.214149Z",
     "iopub.execute_input": "2023-06-20T09:46:53.214521Z",
     "iopub.status.idle": "2023-06-20T09:46:53.260958Z",
     "shell.execute_reply.started": "2023-06-20T09:46:53.214476Z",
     "shell.execute_reply": "2023-06-20T09:46:53.259931Z"
    },
    "trusted": true
   },
   "execution_count": 14,
   "outputs": [
    {
     "execution_count": 14,
     "output_type": "execute_result",
     "data": {
      "text/plain": "  Protein ID  GO Term ID  Prediction\n0     Q9CQV8  GO:0005575    0.745265\n1     Q9CQV8  GO:0008150    0.706754\n2     Q9CQV8  GO:0110165    0.718132\n3     Q9CQV8  GO:0003674    0.775625\n4     Q9CQV8  GO:0005622    0.591212",
      "text/html": "<div>\n<style scoped>\n    .dataframe tbody tr th:only-of-type {\n        vertical-align: middle;\n    }\n\n    .dataframe tbody tr th {\n        vertical-align: top;\n    }\n\n    .dataframe thead th {\n        text-align: right;\n    }\n</style>\n<table border=\"1\" class=\"dataframe\">\n  <thead>\n    <tr style=\"text-align: right;\">\n      <th></th>\n      <th>Protein ID</th>\n      <th>GO Term ID</th>\n      <th>Prediction</th>\n    </tr>\n  </thead>\n  <tbody>\n    <tr>\n      <th>0</th>\n      <td>Q9CQV8</td>\n      <td>GO:0005575</td>\n      <td>0.745265</td>\n    </tr>\n    <tr>\n      <th>1</th>\n      <td>Q9CQV8</td>\n      <td>GO:0008150</td>\n      <td>0.706754</td>\n    </tr>\n    <tr>\n      <th>2</th>\n      <td>Q9CQV8</td>\n      <td>GO:0110165</td>\n      <td>0.718132</td>\n    </tr>\n    <tr>\n      <th>3</th>\n      <td>Q9CQV8</td>\n      <td>GO:0003674</td>\n      <td>0.775625</td>\n    </tr>\n    <tr>\n      <th>4</th>\n      <td>Q9CQV8</td>\n      <td>GO:0005622</td>\n      <td>0.591212</td>\n    </tr>\n  </tbody>\n</table>\n</div>"
     },
     "metadata": {}
    }
   ]
  },
  {
   "cell_type": "code",
   "source": [
    "df_submission.to_csv('submission.tsv', sep='\\t', header=None, index= None)"
   ],
   "metadata": {
    "execution": {
     "iopub.status.busy": "2023-06-20T09:47:14.771776Z",
     "iopub.execute_input": "2023-06-20T09:47:14.772129Z",
     "iopub.status.idle": "2023-06-20T10:01:15.818159Z",
     "shell.execute_reply.started": "2023-06-20T09:47:14.772101Z",
     "shell.execute_reply": "2023-06-20T10:01:15.817163Z"
    },
    "trusted": true
   },
   "execution_count": 15,
   "outputs": []
  }
 ]
}
