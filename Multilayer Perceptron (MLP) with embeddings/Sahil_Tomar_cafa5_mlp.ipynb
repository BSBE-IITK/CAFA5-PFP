{
 "cells": [
  {
   "cell_type": "markdown",
   "id": "a0c2b7b4",
   "metadata": {
    "papermill": {
     "duration": 0.006046,
     "end_time": "2023-06-20T10:51:21.715546",
     "exception": false,
     "start_time": "2023-06-20T10:51:21.709500",
     "status": "completed"
    },
    "tags": []
   },
   "source": [
    "# Training A Multilayer Perceptron Using GPU P100"
   ]
  },
  {
   "cell_type": "code",
   "execution_count": 1,
   "id": "80d5d4f5",
   "metadata": {
    "_cell_guid": "b1076dfc-b9ad-4769-8c92-a6c4dae69d19",
    "_uuid": "8f2839f25d086af736a60e9eeb907d3b93b6e0e5",
    "execution": {
     "iopub.execute_input": "2023-06-20T10:51:21.728644Z",
     "iopub.status.busy": "2023-06-20T10:51:21.728260Z",
     "iopub.status.idle": "2023-06-20T10:51:31.987889Z",
     "shell.execute_reply": "2023-06-20T10:51:31.986257Z"
    },
    "papermill": {
     "duration": 10.269899,
     "end_time": "2023-06-20T10:51:31.991030",
     "exception": false,
     "start_time": "2023-06-20T10:51:21.721131",
     "status": "completed"
    },
    "tags": []
   },
   "outputs": [
    {
     "name": "stderr",
     "output_type": "stream",
     "text": [
      "/opt/conda/lib/python3.10/site-packages/tensorflow_io/python/ops/__init__.py:98: UserWarning: unable to load libtensorflow_io_plugins.so: unable to open file: libtensorflow_io_plugins.so, from paths: ['/opt/conda/lib/python3.10/site-packages/tensorflow_io/python/ops/libtensorflow_io_plugins.so']\n",
      "caused by: ['/opt/conda/lib/python3.10/site-packages/tensorflow_io/python/ops/libtensorflow_io_plugins.so: undefined symbol: _ZN3tsl6StatusC1EN10tensorflow5error4CodeESt17basic_string_viewIcSt11char_traitsIcEENS_14SourceLocationE']\n",
      "  warnings.warn(f\"unable to load libtensorflow_io_plugins.so: {e}\")\n",
      "/opt/conda/lib/python3.10/site-packages/tensorflow_io/python/ops/__init__.py:104: UserWarning: file system plugins are not loaded: unable to open file: libtensorflow_io.so, from paths: ['/opt/conda/lib/python3.10/site-packages/tensorflow_io/python/ops/libtensorflow_io.so']\n",
      "caused by: ['/opt/conda/lib/python3.10/site-packages/tensorflow_io/python/ops/libtensorflow_io.so: undefined symbol: _ZTVN10tensorflow13GcsFileSystemE']\n",
      "  warnings.warn(f\"file system plugins are not loaded: {e}\")\n"
     ]
    },
    {
     "name": "stdout",
     "output_type": "stream",
     "text": [
      "CPU times: user 4 s, sys: 1.2 s, total: 5.19 s\n",
      "Wall time: 10.2 s\n"
     ]
    }
   ],
   "source": [
    "%%time\n",
    "\n",
    "import numpy as np\n",
    "import pandas as pd\n",
    "\n",
    "\n",
    "from tensorflow.keras.models import load_model\n",
    "from tensorflow.test import gpu_device_name"
   ]
  },
  {
   "cell_type": "code",
   "execution_count": 2,
   "id": "90c8ec7f",
   "metadata": {
    "execution": {
     "iopub.execute_input": "2023-06-20T10:51:32.009474Z",
     "iopub.status.busy": "2023-06-20T10:51:32.008631Z",
     "iopub.status.idle": "2023-06-20T10:51:32.312532Z",
     "shell.execute_reply": "2023-06-20T10:51:32.311212Z"
    },
    "papermill": {
     "duration": 0.315648,
     "end_time": "2023-06-20T10:51:32.315328",
     "exception": false,
     "start_time": "2023-06-20T10:51:31.999680",
     "status": "completed"
    },
    "tags": []
   },
   "outputs": [],
   "source": [
    "sample_sub = pd.read_csv('/kaggle/input/cafa-5-protein-function-prediction/sample_submission.tsv', sep='\\t')"
   ]
  },
  {
   "cell_type": "code",
   "execution_count": 3,
   "id": "ef0aecd1",
   "metadata": {
    "execution": {
     "iopub.execute_input": "2023-06-20T10:51:32.330110Z",
     "iopub.status.busy": "2023-06-20T10:51:32.329671Z",
     "iopub.status.idle": "2023-06-20T10:51:32.351173Z",
     "shell.execute_reply": "2023-06-20T10:51:32.349674Z"
    },
    "papermill": {
     "duration": 0.032015,
     "end_time": "2023-06-20T10:51:32.353928",
     "exception": false,
     "start_time": "2023-06-20T10:51:32.321913",
     "status": "completed"
    },
    "tags": []
   },
   "outputs": [
    {
     "name": "stdout",
     "output_type": "stream",
     "text": [
      "No GPU found. Training on CPU.\n",
      "CPU times: user 2.28 ms, sys: 1.22 ms, total: 3.5 ms\n",
      "Wall time: 14.7 ms\n"
     ]
    }
   ],
   "source": [
    "%%time\n",
    "\n",
    "# Check if GPU is available\n",
    "if gpu_device_name():\n",
    "    print('GPU device found: {}'.format(gpu_device_name()))\n",
    "else:\n",
    "    print(\"No GPU found. Training on CPU.\")"
   ]
  },
  {
   "cell_type": "code",
   "execution_count": 4,
   "id": "b870745f",
   "metadata": {
    "execution": {
     "iopub.execute_input": "2023-06-20T10:51:32.368571Z",
     "iopub.status.busy": "2023-06-20T10:51:32.368182Z",
     "iopub.status.idle": "2023-06-20T10:51:32.373314Z",
     "shell.execute_reply": "2023-06-20T10:51:32.371917Z"
    },
    "papermill": {
     "duration": 0.015952,
     "end_time": "2023-06-20T10:51:32.376089",
     "exception": false,
     "start_time": "2023-06-20T10:51:32.360137",
     "status": "completed"
    },
    "tags": []
   },
   "outputs": [],
   "source": [
    "%%time\n",
    "\n",
    "train_data = np.load('/kaggle/input/t5embeds/train_embeds.npy')\n",
    "\n",
    "with h5py.File('/kaggle/input/train-labels-cafa5/train_labels.h5', 'r') as hf:\n",
    "    train_labels = hf['labels'][:]"
   ]
  },
  {
   "cell_type": "code",
   "execution_count": 5,
   "id": "45d28f36",
   "metadata": {
    "execution": {
     "iopub.execute_input": "2023-06-20T10:51:32.390525Z",
     "iopub.status.busy": "2023-06-20T10:51:32.389888Z",
     "iopub.status.idle": "2023-06-20T10:51:42.518331Z",
     "shell.execute_reply": "2023-06-20T10:51:42.516763Z"
    },
    "papermill": {
     "duration": 10.139333,
     "end_time": "2023-06-20T10:51:42.521392",
     "exception": false,
     "start_time": "2023-06-20T10:51:32.382059",
     "status": "completed"
    },
    "tags": []
   },
   "outputs": [
    {
     "name": "stdout",
     "output_type": "stream",
     "text": [
      "CPU times: user 0 ns, sys: 1.21 s, total: 1.21 s\n",
      "Wall time: 10.1 s\n"
     ]
    }
   ],
   "source": [
    "%%time\n",
    "\n",
    "test_data = np.load('/kaggle/input/t5embeds/test_embeds.npy')"
   ]
  },
  {
   "cell_type": "code",
   "execution_count": 6,
   "id": "39457883",
   "metadata": {
    "execution": {
     "iopub.execute_input": "2023-06-20T10:51:42.536899Z",
     "iopub.status.busy": "2023-06-20T10:51:42.536452Z",
     "iopub.status.idle": "2023-06-20T10:51:42.544179Z",
     "shell.execute_reply": "2023-06-20T10:51:42.542833Z"
    },
    "papermill": {
     "duration": 0.019437,
     "end_time": "2023-06-20T10:51:42.546966",
     "exception": false,
     "start_time": "2023-06-20T10:51:42.527529",
     "status": "completed"
    },
    "tags": []
   },
   "outputs": [],
   "source": [
    "%%time\n",
    "\n",
    "INPUT_SHAPE = [train_data.shape[1]]\n",
    "BATCH_SIZE = int(train_data.shape[0] / 250)\n",
    "\n",
    "model = tf.keras.Sequential([\n",
    "    tf.keras.layers.BatchNormalization(input_shape=INPUT_SHAPE),\n",
    "    tf.keras.layers.Dense(units=512, activation='relu'),\n",
    "    tf.keras.layers.Dense(units=512, activation='relu'),\n",
    "    tf.keras.layers.Dense(units=512, activation='relu'),\n",
    "    tf.keras.layers.Dense(units=train_labels.shape[1],activation='sigmoid')\n",
    "])\n",
    "\n",
    "model.compile(\n",
    "    optimizer=tf.keras.optimizers.Adam(learning_rate=0.001),\n",
    "    loss='binary_crossentropy',\n",
    "    metrics=['binary_accuracy', tf.keras.metrics.AUC()]\n",
    ")"
   ]
  },
  {
   "cell_type": "code",
   "execution_count": 7,
   "id": "0c009bc2",
   "metadata": {
    "execution": {
     "iopub.execute_input": "2023-06-20T10:51:42.560334Z",
     "iopub.status.busy": "2023-06-20T10:51:42.559969Z",
     "iopub.status.idle": "2023-06-20T10:51:42.564845Z",
     "shell.execute_reply": "2023-06-20T10:51:42.563470Z"
    },
    "papermill": {
     "duration": 0.014167,
     "end_time": "2023-06-20T10:51:42.567202",
     "exception": false,
     "start_time": "2023-06-20T10:51:42.553035",
     "status": "completed"
    },
    "tags": []
   },
   "outputs": [],
   "source": [
    "%%time\n",
    "model.fit(\n",
    "        train_data, train_labels,\n",
    "        batch_size=BATCH_SIZE,\n",
    "        epochs=10\n",
    "    )"
   ]
  },
  {
   "cell_type": "code",
   "execution_count": 8,
   "id": "4f269bfe",
   "metadata": {
    "execution": {
     "iopub.execute_input": "2023-06-20T10:51:42.581525Z",
     "iopub.status.busy": "2023-06-20T10:51:42.581139Z",
     "iopub.status.idle": "2023-06-20T10:51:42.586465Z",
     "shell.execute_reply": "2023-06-20T10:51:42.585040Z"
    },
    "papermill": {
     "duration": 0.015476,
     "end_time": "2023-06-20T10:51:42.589134",
     "exception": false,
     "start_time": "2023-06-20T10:51:42.573658",
     "status": "completed"
    },
    "tags": []
   },
   "outputs": [],
   "source": [
    "model.save('MultiLayerPerceptron.h5')"
   ]
  },
  {
   "cell_type": "code",
   "execution_count": 9,
   "id": "d64c94ff",
   "metadata": {
    "execution": {
     "iopub.execute_input": "2023-06-20T10:51:42.603189Z",
     "iopub.status.busy": "2023-06-20T10:51:42.602806Z",
     "iopub.status.idle": "2023-06-20T10:51:43.205262Z",
     "shell.execute_reply": "2023-06-20T10:51:43.203409Z"
    },
    "papermill": {
     "duration": 0.612616,
     "end_time": "2023-06-20T10:51:43.207914",
     "exception": false,
     "start_time": "2023-06-20T10:51:42.595298",
     "status": "completed"
    },
    "tags": []
   },
   "outputs": [
    {
     "name": "stdout",
     "output_type": "stream",
     "text": [
      "CPU times: user 284 ms, sys: 77.7 ms, total: 361 ms\n",
      "Wall time: 596 ms\n"
     ]
    }
   ],
   "source": [
    "%%time\n",
    "\n",
    "model = load_model('/kaggle/input/train-labels-cafa5/MultiaLayerPerceptron.h5')"
   ]
  },
  {
   "cell_type": "code",
   "execution_count": 10,
   "id": "bef772dc",
   "metadata": {
    "execution": {
     "iopub.execute_input": "2023-06-20T10:51:43.222953Z",
     "iopub.status.busy": "2023-06-20T10:51:43.222536Z",
     "iopub.status.idle": "2023-06-20T10:52:09.559410Z",
     "shell.execute_reply": "2023-06-20T10:52:09.558016Z"
    },
    "papermill": {
     "duration": 26.347708,
     "end_time": "2023-06-20T10:52:09.562227",
     "exception": false,
     "start_time": "2023-06-20T10:51:43.214519",
     "status": "completed"
    },
    "tags": []
   },
   "outputs": [
    {
     "name": "stdout",
     "output_type": "stream",
     "text": [
      "4434/4434 [==============================] - 22s 5ms/step\n",
      "CPU times: user 41.1 s, sys: 5.6 s, total: 46.7 s\n",
      "Wall time: 26.3 s\n"
     ]
    }
   ],
   "source": [
    "%%time\n",
    "\n",
    "predictions =  model.predict(test_data)"
   ]
  },
  {
   "cell_type": "code",
   "execution_count": 11,
   "id": "d230c6a2",
   "metadata": {
    "execution": {
     "iopub.execute_input": "2023-06-20T10:52:09.650537Z",
     "iopub.status.busy": "2023-06-20T10:52:09.650156Z",
     "iopub.status.idle": "2023-06-20T10:52:09.666055Z",
     "shell.execute_reply": "2023-06-20T10:52:09.665025Z"
    },
    "papermill": {
     "duration": 0.063271,
     "end_time": "2023-06-20T10:52:09.668489",
     "exception": false,
     "start_time": "2023-06-20T10:52:09.605218",
     "status": "completed"
    },
    "tags": []
   },
   "outputs": [],
   "source": [
    "labels = np.load('/kaggle/input/train-labels-cafa5/top_1500_labels.npy',allow_pickle=True)"
   ]
  },
  {
   "cell_type": "code",
   "execution_count": 12,
   "id": "9304406b",
   "metadata": {
    "execution": {
     "iopub.execute_input": "2023-06-20T10:52:09.758009Z",
     "iopub.status.busy": "2023-06-20T10:52:09.757263Z",
     "iopub.status.idle": "2023-06-20T10:52:12.631477Z",
     "shell.execute_reply": "2023-06-20T10:52:12.630117Z"
    },
    "papermill": {
     "duration": 2.921473,
     "end_time": "2023-06-20T10:52:12.634342",
     "exception": false,
     "start_time": "2023-06-20T10:52:09.712869",
     "status": "completed"
    },
    "tags": []
   },
   "outputs": [],
   "source": [
    "test_protein_ids = np.load('/kaggle/input/t5embeds/test_ids.npy')\n",
    "l = []\n",
    "for k in list(test_protein_ids):\n",
    "    l += [ k] * predictions.shape[1]"
   ]
  },
  {
   "cell_type": "code",
   "execution_count": 13,
   "id": "a5e98448",
   "metadata": {
    "execution": {
     "iopub.execute_input": "2023-06-20T10:52:12.721992Z",
     "iopub.status.busy": "2023-06-20T10:52:12.721371Z",
     "iopub.status.idle": "2023-06-20T10:52:40.150821Z",
     "shell.execute_reply": "2023-06-20T10:52:40.149646Z"
    },
    "papermill": {
     "duration": 27.476607,
     "end_time": "2023-06-20T10:52:40.153786",
     "exception": false,
     "start_time": "2023-06-20T10:52:12.677179",
     "status": "completed"
    },
    "tags": []
   },
   "outputs": [],
   "source": [
    "df_submission = pd.DataFrame(\n",
    "    {\n",
    "        'Protein ID': l,\n",
    "        'GO Term ID': np.tile(labels, predictions.shape[0]),\n",
    "        'Prediction': np.round(predictions.ravel(),3)\n",
    "    }\n",
    ")"
   ]
  },
  {
   "cell_type": "code",
   "execution_count": 14,
   "id": "7bbff1dd",
   "metadata": {
    "execution": {
     "iopub.execute_input": "2023-06-20T10:52:40.244309Z",
     "iopub.status.busy": "2023-06-20T10:52:40.243900Z",
     "iopub.status.idle": "2023-06-20T10:52:41.038699Z",
     "shell.execute_reply": "2023-06-20T10:52:41.037498Z"
    },
    "papermill": {
     "duration": 0.843193,
     "end_time": "2023-06-20T10:52:41.041394",
     "exception": false,
     "start_time": "2023-06-20T10:52:40.198201",
     "status": "completed"
    },
    "tags": []
   },
   "outputs": [
    {
     "data": {
      "text/html": [
       "<div>\n",
       "<style scoped>\n",
       "    .dataframe tbody tr th:only-of-type {\n",
       "        vertical-align: middle;\n",
       "    }\n",
       "\n",
       "    .dataframe tbody tr th {\n",
       "        vertical-align: top;\n",
       "    }\n",
       "\n",
       "    .dataframe thead th {\n",
       "        text-align: right;\n",
       "    }\n",
       "</style>\n",
       "<table border=\"1\" class=\"dataframe\">\n",
       "  <thead>\n",
       "    <tr style=\"text-align: right;\">\n",
       "      <th></th>\n",
       "      <th>Protein ID</th>\n",
       "      <th>GO Term ID</th>\n",
       "      <th>Prediction</th>\n",
       "    </tr>\n",
       "  </thead>\n",
       "  <tbody>\n",
       "    <tr>\n",
       "      <th>0</th>\n",
       "      <td>Q9CQV8</td>\n",
       "      <td>GO:0005575</td>\n",
       "      <td>0.745</td>\n",
       "    </tr>\n",
       "    <tr>\n",
       "      <th>1</th>\n",
       "      <td>Q9CQV8</td>\n",
       "      <td>GO:0008150</td>\n",
       "      <td>0.707</td>\n",
       "    </tr>\n",
       "    <tr>\n",
       "      <th>2</th>\n",
       "      <td>Q9CQV8</td>\n",
       "      <td>GO:0110165</td>\n",
       "      <td>0.718</td>\n",
       "    </tr>\n",
       "    <tr>\n",
       "      <th>3</th>\n",
       "      <td>Q9CQV8</td>\n",
       "      <td>GO:0003674</td>\n",
       "      <td>0.776</td>\n",
       "    </tr>\n",
       "    <tr>\n",
       "      <th>4</th>\n",
       "      <td>Q9CQV8</td>\n",
       "      <td>GO:0005622</td>\n",
       "      <td>0.591</td>\n",
       "    </tr>\n",
       "  </tbody>\n",
       "</table>\n",
       "</div>"
      ],
      "text/plain": [
       "  Protein ID  GO Term ID  Prediction\n",
       "0     Q9CQV8  GO:0005575       0.745\n",
       "1     Q9CQV8  GO:0008150       0.707\n",
       "2     Q9CQV8  GO:0110165       0.718\n",
       "3     Q9CQV8  GO:0003674       0.776\n",
       "4     Q9CQV8  GO:0005622       0.591"
      ]
     },
     "execution_count": 14,
     "metadata": {},
     "output_type": "execute_result"
    }
   ],
   "source": [
    "df_submission.head()"
   ]
  },
  {
   "cell_type": "code",
   "execution_count": 15,
   "id": "b82b54a0",
   "metadata": {
    "execution": {
     "iopub.execute_input": "2023-06-20T10:52:41.131035Z",
     "iopub.status.busy": "2023-06-20T10:52:41.130170Z",
     "iopub.status.idle": "2023-06-20T11:06:14.428306Z",
     "shell.execute_reply": "2023-06-20T11:06:14.425860Z"
    },
    "papermill": {
     "duration": 813.350062,
     "end_time": "2023-06-20T11:06:14.434282",
     "exception": false,
     "start_time": "2023-06-20T10:52:41.084220",
     "status": "completed"
    },
    "tags": []
   },
   "outputs": [],
   "source": [
    "df_submission.to_csv('submission.tsv', sep='\\t', header=None, index= None)"
   ]
  }
 ],
 "metadata": {
  "kernelspec": {
   "display_name": "Python 3",
   "language": "python",
   "name": "python3"
  },
  "language_info": {
   "codemirror_mode": {
    "name": "ipython",
    "version": 3
   },
   "file_extension": ".py",
   "mimetype": "text/x-python",
   "name": "python",
   "nbconvert_exporter": "python",
   "pygments_lexer": "ipython3",
   "version": "3.10.10"
  },
  "papermill": {
   "default_parameters": {},
   "duration": 908.323807,
   "end_time": "2023-06-20T11:06:17.410556",
   "environment_variables": {},
   "exception": null,
   "input_path": "__notebook__.ipynb",
   "output_path": "__notebook__.ipynb",
   "parameters": {},
   "start_time": "2023-06-20T10:51:09.086749",
   "version": "2.4.0"
  }
 },
 "nbformat": 4,
 "nbformat_minor": 5
}
